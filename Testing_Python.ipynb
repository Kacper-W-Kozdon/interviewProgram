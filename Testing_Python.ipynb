{
  "nbformat": 4,
  "nbformat_minor": 0,
  "metadata": {
    "colab": {
      "provenance": [],
      "authorship_tag": "ABX9TyMSJUvqgW5tatLfigkLvAvC",
      "include_colab_link": true
    },
    "kernelspec": {
      "name": "python3",
      "display_name": "Python 3"
    },
    "language_info": {
      "name": "python"
    }
  },
  "cells": [
    {
      "cell_type": "markdown",
      "metadata": {
        "id": "view-in-github",
        "colab_type": "text"
      },
      "source": [
        "<a href=\"https://colab.research.google.com/github/Kacper-W-Kozdon/interviewProgram/blob/main/Testing_Python.ipynb\" target=\"_parent\"><img src=\"https://colab.research.google.com/assets/colab-badge.svg\" alt=\"Open In Colab\"/></a>"
      ]
    },
    {
      "cell_type": "code",
      "execution_count": null,
      "metadata": {
        "colab": {
          "base_uri": "https://localhost:8080/"
        },
        "id": "JTV5Cp2PFSjC",
        "outputId": "4b10a42e-4db1-4a72-f87b-3241dd54c96e"
      },
      "outputs": [
        {
          "output_type": "stream",
          "name": "stdout",
          "text": [
            "[[4, 5, 6, 7], [8, 9]]\n"
          ]
        }
      ],
      "source": [
        "lst = [[1, 2, 3],\n",
        "       [4, 5, 6, 7],\n",
        "       [8, 9]]\n",
        "print(lst[1:3][0:2])\n"
      ]
    },
    {
      "cell_type": "code",
      "source": [
        "\n",
        "def wrap(fun):\n",
        "  def wrapper(*args, **kwargs):\n",
        "    print(fun.__doc__)\n",
        "    return fun\n",
        "  return wrapper\n",
        "\n",
        "@wrap\n",
        "def fun():\n",
        "  '''\n",
        "  asdfasdf\n",
        "  '''\n",
        "fun()\n",
        "\n",
        "\n",
        "\n"
      ],
      "metadata": {
        "id": "hfmu8eYnFqaw",
        "colab": {
          "base_uri": "https://localhost:8080/"
        },
        "outputId": "e30dded7-8e30-4328-b7af-5a5cf1987a24"
      },
      "execution_count": null,
      "outputs": [
        {
          "output_type": "stream",
          "name": "stdout",
          "text": [
            "\n",
            "  asdfasdf\n",
            "  \n"
          ]
        },
        {
          "output_type": "execute_result",
          "data": {
            "text/plain": [
              "<function __main__.fun()>"
            ]
          },
          "metadata": {},
          "execution_count": 2
        }
      ]
    },
    {
      "cell_type": "markdown",
      "source": [],
      "metadata": {
        "id": "Q56NAEkVfMiU"
      }
    },
    {
      "cell_type": "code",
      "source": [
        "x = 0\n",
        "a = list([0])\n",
        "\n",
        "\n",
        "def test_fun():\n",
        "  global x\n",
        "  x += 1\n",
        "\n",
        "def test_fun2(x):\n",
        "  x += 1\n",
        "  return x\n",
        "\n",
        "def test_fun3(x = x):\n",
        "  def inside(fun, *args, **kwargs):\n",
        "\n",
        "    return dict(**kwargs)\n",
        "  print(inside(test_fun3))\n",
        "  print()\n",
        "  print(vars())\n",
        "  print(globals())\n",
        "  vars().__setitem__(str(a), list([2]))\n",
        "  print(vars())\n",
        "  x[:] = [1, 2, 3]\n",
        "\n",
        "\n",
        "\n",
        "\n",
        "\n",
        "\n",
        "\n",
        "\n",
        "\n",
        "\n",
        "\n",
        "test_fun()\n",
        "test_fun2(x)\n",
        "test_fun3(x = a)\n",
        "print(x)\n",
        "print(a)\n",
        "\n"
      ],
      "metadata": {
        "id": "3zg8fx56OIrk",
        "colab": {
          "base_uri": "https://localhost:8080/"
        },
        "outputId": "e5a5ff3d-1431-4272-c4f9-418ee3834761"
      },
      "execution_count": null,
      "outputs": [
        {
          "output_type": "stream",
          "name": "stdout",
          "text": [
            "{}\n",
            "\n",
            "{'x': [0], 'inside': <function test_fun3.<locals>.inside at 0x7b1e07b51090>}\n",
            "{'__name__': '__main__', '__doc__': 'Automatically created module for IPython interactive environment', '__package__': None, '__loader__': None, '__spec__': None, '__builtin__': <module 'builtins' (built-in)>, '__builtins__': <module 'builtins' (built-in)>, '_ih': ['', 'lst = [[1, 2, 3],\\n       [4, 5, 6, 7],\\n       [8, 9]]\\nprint(lst[1:3][0:2])', \"def wrap(fun):\\n  def wrapper(*args, **kwargs):\\n    print(fun.__doc__)\\n    return fun\\n  return wrapper\\n\\n@wrap\\ndef fun():\\n  '''\\n  asdfasdf\\n  '''\\nfun()\", 'x = 0\\na = list([0])\\n\\n\\ndef test_fun():\\n  global x\\n  x += 1\\n\\ndef test_fun2(x):\\n  x += 1\\n  return x\\n\\ndef test_fun3(x = x):\\n  def inside(fun, *args, **kwargs):\\n\\n    return dict(**kwargs)\\n  print(inside(test_fun3))\\n  print()\\n  print(vars())\\n  print(globals())\\n  vars().__setitem__(str(a), list([2]))\\n  print(vars())\\n  x[:] = [1, 2, 3]\\n\\n\\n\\n\\n\\n\\n\\n\\n\\n\\n\\ntest_fun()\\ntest_fun2(x)\\ntest_fun3(x = a)\\nprint(x)\\nprint(a)'], '_oh': {2: <function fun at 0x7b1e07b51bd0>}, '_dh': ['/content'], 'In': ['', 'lst = [[1, 2, 3],\\n       [4, 5, 6, 7],\\n       [8, 9]]\\nprint(lst[1:3][0:2])', \"def wrap(fun):\\n  def wrapper(*args, **kwargs):\\n    print(fun.__doc__)\\n    return fun\\n  return wrapper\\n\\n@wrap\\ndef fun():\\n  '''\\n  asdfasdf\\n  '''\\nfun()\", 'x = 0\\na = list([0])\\n\\n\\ndef test_fun():\\n  global x\\n  x += 1\\n\\ndef test_fun2(x):\\n  x += 1\\n  return x\\n\\ndef test_fun3(x = x):\\n  def inside(fun, *args, **kwargs):\\n\\n    return dict(**kwargs)\\n  print(inside(test_fun3))\\n  print()\\n  print(vars())\\n  print(globals())\\n  vars().__setitem__(str(a), list([2]))\\n  print(vars())\\n  x[:] = [1, 2, 3]\\n\\n\\n\\n\\n\\n\\n\\n\\n\\n\\n\\ntest_fun()\\ntest_fun2(x)\\ntest_fun3(x = a)\\nprint(x)\\nprint(a)'], 'Out': {2: <function fun at 0x7b1e07b51bd0>}, 'get_ipython': <bound method InteractiveShell.get_ipython of <google.colab._shell.Shell object at 0x7b1e20eaa5c0>>, 'exit': <IPython.core.autocall.ZMQExitAutocall object at 0x7b1e20eaafb0>, 'quit': <IPython.core.autocall.ZMQExitAutocall object at 0x7b1e20eaafb0>, '_': <function fun at 0x7b1e07b51bd0>, '__': '', '___': '', '_i': \"\\ndef wrap(fun):\\n  def wrapper(*args, **kwargs):\\n    print(fun.__doc__)\\n    return fun\\n  return wrapper\\n\\n@wrap\\ndef fun():\\n  '''\\n  asdfasdf\\n  '''\\nfun()\", '_ii': 'lst = [[1, 2, 3],\\n       [4, 5, 6, 7],\\n       [8, 9]]\\nprint(lst[1:3][0:2])', '_iii': '', '_i1': 'lst = [[1, 2, 3],\\n       [4, 5, 6, 7],\\n       [8, 9]]\\nprint(lst[1:3][0:2])', 'lst': [[1, 2, 3], [4, 5, 6, 7], [8, 9]], '_i2': \"\\ndef wrap(fun):\\n  def wrapper(*args, **kwargs):\\n    print(fun.__doc__)\\n    return fun\\n  return wrapper\\n\\n@wrap\\ndef fun():\\n  '''\\n  asdfasdf\\n  '''\\nfun()\", 'wrap': <function wrap at 0x7b1e07b51c60>, 'fun': <function wrap.<locals>.wrapper at 0x7b1e07b51900>, '_2': <function fun at 0x7b1e07b51bd0>, '_i3': 'x = 0\\na = list([0])\\n\\n\\ndef test_fun():\\n  global x\\n  x += 1\\n\\ndef test_fun2(x):\\n  x += 1\\n  return x\\n\\ndef test_fun3(x = x):\\n  def inside(fun, *args, **kwargs):\\n\\n    return dict(**kwargs)\\n  print(inside(test_fun3))\\n  print()\\n  print(vars())\\n  print(globals())\\n  vars().__setitem__(str(a), list([2]))\\n  print(vars())\\n  x[:] = [1, 2, 3]\\n\\n\\n\\n\\n\\n\\n\\n\\n\\n\\n\\ntest_fun()\\ntest_fun2(x)\\ntest_fun3(x = a)\\nprint(x)\\nprint(a)', 'x': 1, 'a': [0], 'test_fun': <function test_fun at 0x7b1e07b512d0>, 'test_fun2': <function test_fun2 at 0x7b1e07b517e0>, 'test_fun3': <function test_fun3 at 0x7b1e07b51b40>}\n",
            "{'x': [0], 'inside': <function test_fun3.<locals>.inside at 0x7b1e07b51090>, '[0]': [2]}\n",
            "1\n",
            "[1, 2, 3]\n"
          ]
        }
      ]
    },
    {
      "cell_type": "code",
      "source": [
        "\n",
        "test_dict = {\"entry1\": 0, \"entry2\": 2}\n",
        "print(test_dict.get(\"entry1\"))\n",
        "print(test_dict.get(\"entry3\"))"
      ],
      "metadata": {
        "colab": {
          "base_uri": "https://localhost:8080/"
        },
        "id": "hU6jwDAdVzuv",
        "outputId": "f97a6896-b3e5-4455-a0e4-b1c35aaf9c50"
      },
      "execution_count": null,
      "outputs": [
        {
          "output_type": "stream",
          "name": "stdout",
          "text": [
            "0\n",
            "None\n"
          ]
        }
      ]
    },
    {
      "cell_type": "code",
      "source": [
        "import torch\n",
        "import tensorflow as tf"
      ],
      "metadata": {
        "id": "y0RoyeSAWsCX"
      },
      "execution_count": null,
      "outputs": []
    },
    {
      "cell_type": "code",
      "source": [],
      "metadata": {
        "id": "CSqeGprORcYZ"
      },
      "execution_count": null,
      "outputs": []
    },
    {
      "cell_type": "code",
      "source": [
        "a = torch.tensor([1, 2, 3, 4])\n",
        "b = torch.tensor([[5, 6], [7, 8]])\n",
        "print(a.reshape(b.shape))\n",
        "print(torch.reshape(a, b.shape))"
      ],
      "metadata": {
        "colab": {
          "base_uri": "https://localhost:8080/"
        },
        "id": "bmjJHBqIRdw1",
        "outputId": "00fd849d-8f70-4786-d47b-8de1d4fdb93a"
      },
      "execution_count": null,
      "outputs": [
        {
          "output_type": "stream",
          "name": "stdout",
          "text": [
            "tensor([[1, 2],\n",
            "        [3, 4]])\n",
            "tensor([[1, 2],\n",
            "        [3, 4]])\n"
          ]
        }
      ]
    },
    {
      "cell_type": "code",
      "source": [
        "def gather_old(\n",
        "    params: torch.Tensor,\n",
        "    indices: torch.Tensor,\n",
        "    /,\n",
        "    *,\n",
        "    axis: int = -1,\n",
        "    batch_dims: int = 0,\n",
        "    out: torch.Tensor = None,\n",
        ") -> torch.Tensor:\n",
        "    axis %= len(params.shape)\n",
        "    batch_dims %= len(params.shape)\n",
        "    result = []\n",
        "    if batch_dims == 0:\n",
        "\n",
        "\n",
        "      print(params.shape, indices.shape, params.shape < indices.shape, params.dim(), indices.dim())\n",
        "      dim_diff = params.dim() - indices.dim()\n",
        "      if dim_diff > 0:\n",
        "        params_squeezed = params\n",
        "        for d in range(dim_diff):\n",
        "          params_squeezed.squeeze(-1)\n",
        "        result = torch.take(\n",
        "              params_squeezed, indices.long(), out=None)\n",
        "        print(\"res: \", result)\n",
        "\n",
        "        print(\"shape: \", (params.shape[:axis] + indices.shape[batch_dims:]\n",
        "                                + params.shape[axis + 1 :]))\n",
        "        for d in range(dim_diff):\n",
        "          result = result.expand((params.shape[:axis] + indices.shape[batch_dims:]\n",
        "                                + params.shape[axis + 1 :]))\n",
        "\n",
        "        print(\"reshaped result: \", result)\n",
        "      else:\n",
        "        result = torch.take(\n",
        "              params, indices.long(), out=None)\n",
        "        print(\"else res: \", result)\n",
        "        print(\"shape: \", (params.shape[:axis] + indices.shape[batch_dims:]\n",
        "                                + params.shape[axis + 1 :]))\n",
        "        result = result.reshape((params.shape[:axis] + indices.shape[batch_dims:]\n",
        "                                + params.shape[axis + 1 :])\n",
        "                                )\n",
        "\n",
        "      print([*params.shape[0:batch_dims], *result.shape[1:]], (params.shape[:axis] + indices.shape[batch_dims:]\n",
        "                              + params.shape[axis + 1 :]), result, params.shape, indices.shape, params.shape > indices.shape, params.shape == indices.shape\n",
        "            )\n",
        "\n",
        "    else:\n",
        "        params_slices = torch.unbind(params, axis=0)\n",
        "        indices_slices = torch.unbind(indices, axis=0)\n",
        "        for b in range(batch_dims):\n",
        "            if b == 0:\n",
        "                zip_list = [(p, i) for p, i in zip(params_slices, indices_slices)]\n",
        "            else:\n",
        "                zip_list = [\n",
        "                    (p, i) for z in [zip(p1, i1) for p1, i1 in zip_list] for p, i in z\n",
        "                ]\n",
        "        for z in zip_list:\n",
        "            p, i = z\n",
        "            print(p.shape, i.reshape((-1, )).shape)\n",
        "            r = torch.gather(\n",
        "                p, (axis - batch_dims), torch.reshape(i.long(), (-1, )),\n",
        "                sparse_grad=False, out=None\n",
        "            )\n",
        "\n",
        "            result.append(r)\n",
        "        result = torch.stack(result)\n",
        "        #result = torch.cat(result, dim=0)\n",
        "        print(\"shape: \", (params.shape[:axis] + indices.shape[batch_dims:]\n",
        "                                + params.shape[axis + 1 :]))\n",
        "        result = result.reshape((params.shape[:axis] + indices.shape[batch_dims:]\n",
        "                                + params.shape[axis + 1 :])\n",
        "                                )\n",
        "    return result"
      ],
      "metadata": {
        "id": "WAPPpQnERuzc"
      },
      "execution_count": null,
      "outputs": []
    },
    {
      "cell_type": "code",
      "source": [
        "def gather(\n",
        "    params: torch.Tensor,\n",
        "    indices: torch.Tensor,\n",
        "    /,\n",
        "    *,\n",
        "    axis: int = -1,\n",
        "    batch_dims: int = 0,\n",
        "    out: torch.Tensor = None,\n",
        ") -> torch.Tensor:\n",
        "    axis %= len(params.shape)\n",
        "    axis = abs(len(params.shape) + axis) if axis < 0 else axis\n",
        "    print(f\"AXIS: {axis}\")\n",
        "    batch_dims %= len(params.shape)\n",
        "    result = []\n",
        "\n",
        "    def expand_p_i(params, indices):\n",
        "        res_dim_helper_table = [1 for dim in list(params.shape[:axis]\n",
        "                                              + indices.shape[batch_dims:]\n",
        "                                              + params.shape[axis + 1:])]\n",
        "        res_singleton_dims = torch.Size(res_dim_helper_table)\n",
        "        param_singleton_dims_table = [1 for dim in list(params.shape)]\n",
        "        param_singleton_dims = torch.Size(param_singleton_dims_table)\n",
        "        print(f\"SINGLETON_DIMS: {res_singleton_dims}\")\n",
        "        params_ex = params if\n",
        "                    params.dim() < 1 or\n",
        "                    indices.dim() < 1 else\n",
        "                    params.reshape(params.shape[:axis]\n",
        "                                   + res_singleton_dims[batch_dims:]\n",
        "                                   + params.shape[axis + 1:])\n",
        "        indices_ex = indices if\n",
        "                     params.dim() < 1 or\n",
        "                     indices.dim() < 1 else\n",
        "                     indices.reshape(param_singleton_dims[:axis]\n",
        "                                     + indices.shape[batch_dims:]\n",
        "                                     + param_singleton_dims[axis + 1:])\n",
        "        print(\"RESHAPE SHAPE: \", param_singleton_dims[:axis]\n",
        "                                     + indices.shape[batch_dims:]\n",
        "                                     + param_singleton_dims[axis + 1:], params.shape[:axis]\n",
        "                                   + res_singleton_dims[batch_dims:]\n",
        "                                   + params.shape[axis + 1:])\n",
        "        if (params.shape[:axis]\n",
        "           + indices.shape[batch_dims:]\n",
        "           + params.shape[axis + 1:]) != params_ex.shape:\n",
        "            params_ex = params_ex.expand(params.shape[:axis]\n",
        "                                         + indices.shape[batch_dims:]\n",
        "                                         + params.shape[axis + 1:])\n",
        "        if (indices.shape[:axis]\n",
        "           + indices.shape[batch_dims:]\n",
        "           + params.shape[axis + 1:]) != indices_ex.shape:\n",
        "            indices_ex = indices_ex.expand(params.shape[:axis]\n",
        "                                           + indices.shape[batch_dims:]\n",
        "                                           + params.shape[axis + 1:])\n",
        "        return params_ex, indices_ex\n",
        "    if batch_dims == 0:\n",
        "        dim_diff = params.dim() - indices.dim()\n",
        "        if dim_diff != 0:\n",
        "            params_expanded, indices_expanded = expand_p_i(params, indices)\n",
        "            result = torch.gather(\n",
        "                                    params_expanded, axis,\n",
        "                                    indices_expanded.long(),\n",
        "                                    sparse_grad=False, out=out\n",
        "                                 )\n",
        "            return result\n",
        "        else:\n",
        "            result = torch.gather(\n",
        "                params, axis, indices.long(), sparse_grad=False, out=out)\n",
        "            result = result.reshape((params.shape[:axis]\n",
        "                                    + indices.shape[batch_dims:]\n",
        "                                    + params.shape[axis + 1:])\n",
        "                                    )\n",
        "    else:\n",
        "        dim_diff = params.dim() - indices.dim()\n",
        "        params_expanded = params\n",
        "        indices_expanded = indices\n",
        "        if dim_diff != 0:\n",
        "            params_expanded, indices_expanded = expand_p_i(params, indices)\n",
        "        params_slices = torch.unbind(params_expanded, axis=0)\n",
        "        indices_slices = torch.unbind(indices_expanded, axis=0)\n",
        "        for b in range(batch_dims):\n",
        "            if b == 0:\n",
        "                zip_list = [(p, i) for\n",
        "                            p, i in\n",
        "                            zip(params_slices, indices_slices)\n",
        "                            ]\n",
        "            else:\n",
        "                zip_list = [\n",
        "                           (p, i) for z in [zip(p1, i1) for p1, i1 in zip_list]\n",
        "                           for p, i in z\n",
        "                            ]\n",
        "        for z in zip_list:\n",
        "            p, i = z\n",
        "            r = torch.gather(\n",
        "                             p, (axis - batch_dims),\n",
        "                             torch.reshape(i.long(), (-1, )),\n",
        "                             sparse_grad=False, out=None\n",
        "                            )\n",
        "\n",
        "            result.append(r)\n",
        "        result = torch.stack(result)\n",
        "        result = result.reshape((params.shape[:axis]\n",
        "                                 + indices.shape[batch_dims:]\n",
        "                                 + params.shape[axis + 1:])\n",
        "                                )\n",
        "\n",
        "    return result"
      ],
      "metadata": {
        "id": "qFw57Sz9ptK_"
      },
      "execution_count": null,
      "outputs": []
    },
    {
      "cell_type": "code",
      "source": [
        "params = torch.tensor([[-1.],\n",
        "                 [ 1.],\n",
        "                 [ 1.]])\n",
        "\n",
        "indices = torch.tensor([[[0],\n",
        "                  [0]],\n",
        "\n",
        "                 [[0],\n",
        "                  [0]],\n",
        "\n",
        "                 [[0],\n",
        "                  [0]]])\n",
        "\n",
        "paramstf = tf.constant([[-1.],\n",
        "                 [ 1.],\n",
        "                 [ 1.]])\n",
        "\n",
        "indicestf = tf.constant([[[0],\n",
        "                  [0]],\n",
        "\n",
        "                 [[0],\n",
        "                  [0]],\n",
        "\n",
        "                 [[0],\n",
        "                  [0]]])\n",
        "\n",
        "axis = 1\n",
        "batch_dims = 1\n",
        "\n",
        "print(\"tf: \", tf.gather(paramstf, indicestf, axis = axis, batch_dims = batch_dims))\n",
        "print()\n",
        "print()\n",
        "print(\"torch: \", gather(params, indices, axis = axis, batch_dims = batch_dims))\n",
        "torch_tensor = tf.gather(paramstf, indicestf, axis = axis, batch_dims = batch_dims)\n",
        "torch_to_tf = tf.convert_to_tensor(torch_tensor)\n",
        "tf_tensor = gather(params, indices, axis = axis, batch_dims = batch_dims)\n",
        "print()\n",
        "print(tf_tensor == torch_to_tf)"
      ],
      "metadata": {
        "colab": {
          "base_uri": "https://localhost:8080/",
          "height": 616
        },
        "id": "d-dGjdSpTKBt",
        "outputId": "0dfefb90-4ffa-4a59-95a0-767d97461f38"
      },
      "execution_count": null,
      "outputs": [
        {
          "output_type": "stream",
          "name": "stdout",
          "text": [
            "tf:  tf.Tensor(\n",
            "[[[-1.]\n",
            "  [-1.]]\n",
            "\n",
            " [[ 1.]\n",
            "  [ 1.]]\n",
            "\n",
            " [[ 1.]\n",
            "  [ 1.]]], shape=(3, 2, 1), dtype=float32)\n",
            "\n",
            "\n",
            "AXIS: 1\n",
            "SINGLETON_DIMS: torch.Size([1, 1, 1])\n"
          ]
        },
        {
          "output_type": "error",
          "ename": "RuntimeError",
          "evalue": "ignored",
          "traceback": [
            "\u001b[0;31m---------------------------------------------------------------------------\u001b[0m",
            "\u001b[0;31mRuntimeError\u001b[0m                              Traceback (most recent call last)",
            "\u001b[0;32m<ipython-input-33-17ed65aba849>\u001b[0m in \u001b[0;36m<cell line: 33>\u001b[0;34m()\u001b[0m\n\u001b[1;32m     31\u001b[0m \u001b[0mprint\u001b[0m\u001b[0;34m(\u001b[0m\u001b[0;34m)\u001b[0m\u001b[0;34m\u001b[0m\u001b[0;34m\u001b[0m\u001b[0m\n\u001b[1;32m     32\u001b[0m \u001b[0mprint\u001b[0m\u001b[0;34m(\u001b[0m\u001b[0;34m)\u001b[0m\u001b[0;34m\u001b[0m\u001b[0;34m\u001b[0m\u001b[0m\n\u001b[0;32m---> 33\u001b[0;31m \u001b[0mprint\u001b[0m\u001b[0;34m(\u001b[0m\u001b[0;34m\"torch: \"\u001b[0m\u001b[0;34m,\u001b[0m \u001b[0mgather\u001b[0m\u001b[0;34m(\u001b[0m\u001b[0mparams\u001b[0m\u001b[0;34m,\u001b[0m \u001b[0mindices\u001b[0m\u001b[0;34m,\u001b[0m \u001b[0maxis\u001b[0m \u001b[0;34m=\u001b[0m \u001b[0maxis\u001b[0m\u001b[0;34m,\u001b[0m \u001b[0mbatch_dims\u001b[0m \u001b[0;34m=\u001b[0m \u001b[0mbatch_dims\u001b[0m\u001b[0;34m)\u001b[0m\u001b[0;34m)\u001b[0m\u001b[0;34m\u001b[0m\u001b[0;34m\u001b[0m\u001b[0m\n\u001b[0m\u001b[1;32m     34\u001b[0m \u001b[0mtorch_tensor\u001b[0m \u001b[0;34m=\u001b[0m \u001b[0mtf\u001b[0m\u001b[0;34m.\u001b[0m\u001b[0mgather\u001b[0m\u001b[0;34m(\u001b[0m\u001b[0mparamstf\u001b[0m\u001b[0;34m,\u001b[0m \u001b[0mindicestf\u001b[0m\u001b[0;34m,\u001b[0m \u001b[0maxis\u001b[0m \u001b[0;34m=\u001b[0m \u001b[0maxis\u001b[0m\u001b[0;34m,\u001b[0m \u001b[0mbatch_dims\u001b[0m \u001b[0;34m=\u001b[0m \u001b[0mbatch_dims\u001b[0m\u001b[0;34m)\u001b[0m\u001b[0;34m\u001b[0m\u001b[0;34m\u001b[0m\u001b[0m\n\u001b[1;32m     35\u001b[0m \u001b[0mtorch_to_tf\u001b[0m \u001b[0;34m=\u001b[0m \u001b[0mtf\u001b[0m\u001b[0;34m.\u001b[0m\u001b[0mconvert_to_tensor\u001b[0m\u001b[0;34m(\u001b[0m\u001b[0mtorch_tensor\u001b[0m\u001b[0;34m)\u001b[0m\u001b[0;34m\u001b[0m\u001b[0;34m\u001b[0m\u001b[0m\n",
            "\u001b[0;32m<ipython-input-29-b2232d91e9f1>\u001b[0m in \u001b[0;36mgather\u001b[0;34m(params, indices, axis, batch_dims, out)\u001b[0m\n\u001b[1;32m     68\u001b[0m         \u001b[0mindices_expanded\u001b[0m \u001b[0;34m=\u001b[0m \u001b[0mindices\u001b[0m\u001b[0;34m\u001b[0m\u001b[0;34m\u001b[0m\u001b[0m\n\u001b[1;32m     69\u001b[0m         \u001b[0;32mif\u001b[0m \u001b[0mdim_diff\u001b[0m \u001b[0;34m!=\u001b[0m \u001b[0;36m0\u001b[0m\u001b[0;34m:\u001b[0m\u001b[0;34m\u001b[0m\u001b[0;34m\u001b[0m\u001b[0m\n\u001b[0;32m---> 70\u001b[0;31m             \u001b[0mparams_expanded\u001b[0m\u001b[0;34m,\u001b[0m \u001b[0mindices_expanded\u001b[0m \u001b[0;34m=\u001b[0m \u001b[0mexpand_p_i\u001b[0m\u001b[0;34m(\u001b[0m\u001b[0mparams\u001b[0m\u001b[0;34m,\u001b[0m \u001b[0mindices\u001b[0m\u001b[0;34m)\u001b[0m\u001b[0;34m\u001b[0m\u001b[0;34m\u001b[0m\u001b[0m\n\u001b[0m\u001b[1;32m     71\u001b[0m         \u001b[0mparams_slices\u001b[0m \u001b[0;34m=\u001b[0m \u001b[0mtorch\u001b[0m\u001b[0;34m.\u001b[0m\u001b[0munbind\u001b[0m\u001b[0;34m(\u001b[0m\u001b[0mparams_expanded\u001b[0m\u001b[0;34m,\u001b[0m \u001b[0maxis\u001b[0m\u001b[0;34m=\u001b[0m\u001b[0;36m0\u001b[0m\u001b[0;34m)\u001b[0m\u001b[0;34m\u001b[0m\u001b[0;34m\u001b[0m\u001b[0m\n\u001b[1;32m     72\u001b[0m         \u001b[0mindices_slices\u001b[0m \u001b[0;34m=\u001b[0m \u001b[0mtorch\u001b[0m\u001b[0;34m.\u001b[0m\u001b[0munbind\u001b[0m\u001b[0;34m(\u001b[0m\u001b[0mindices_expanded\u001b[0m\u001b[0;34m,\u001b[0m \u001b[0maxis\u001b[0m\u001b[0;34m=\u001b[0m\u001b[0;36m0\u001b[0m\u001b[0;34m)\u001b[0m\u001b[0;34m\u001b[0m\u001b[0;34m\u001b[0m\u001b[0m\n",
            "\u001b[0;32m<ipython-input-29-b2232d91e9f1>\u001b[0m in \u001b[0;36mexpand_p_i\u001b[0;34m(params, indices)\u001b[0m\n\u001b[1;32m     25\u001b[0m                                    \u001b[0;34m+\u001b[0m \u001b[0mres_singleton_dims\u001b[0m\u001b[0;34m[\u001b[0m\u001b[0mbatch_dims\u001b[0m\u001b[0;34m:\u001b[0m\u001b[0;34m]\u001b[0m\u001b[0;34m\u001b[0m\u001b[0;34m\u001b[0m\u001b[0m\n\u001b[1;32m     26\u001b[0m                                    + params.shape[axis + 1:])\n\u001b[0;32m---> 27\u001b[0;31m         indices_ex = indices.reshape(param_singleton_dims[:axis]\n\u001b[0m\u001b[1;32m     28\u001b[0m                                      \u001b[0;34m+\u001b[0m \u001b[0mindices\u001b[0m\u001b[0;34m.\u001b[0m\u001b[0mshape\u001b[0m\u001b[0;34m[\u001b[0m\u001b[0mbatch_dims\u001b[0m\u001b[0;34m:\u001b[0m\u001b[0;34m]\u001b[0m\u001b[0;34m\u001b[0m\u001b[0;34m\u001b[0m\u001b[0m\n\u001b[1;32m     29\u001b[0m                                      + param_singleton_dims[axis + 1:])\n",
            "\u001b[0;31mRuntimeError\u001b[0m: shape '[1, 2, 1]' is invalid for input of size 6"
          ]
        }
      ]
    },
    {
      "cell_type": "code",
      "source": [
        "params = torch.tensor([0])\n",
        "\n",
        "indices = torch.tensor([0, 0])\n",
        "\n",
        "paramstf = tf.constant([0])\n",
        "\n",
        "indicestf = tf.constant([0, 0])\n",
        "\n",
        "axis = 0\n",
        "batch_dims = 0\n",
        "\n",
        "print(\"tf: \", tf.gather(paramstf, indicestf, axis = axis, batch_dims = batch_dims))\n",
        "print()\n",
        "print()\n",
        "print(\"torch: \", gather(params, indices, axis = axis, batch_dims = batch_dims))\n",
        "tf_tensor = tf.gather(paramstf, indicestf, axis = axis, batch_dims = batch_dims)\n",
        "torch_tensor = gather(params, indices, axis = axis, batch_dims = batch_dims)\n",
        "torch_to_tf = tf.convert_to_tensor(torch_tensor, dtype = \"int32\")\n",
        "print(\"torch_to_tf: \", torch_to_tf)\n",
        "print()\n",
        "print(tf_tensor == torch_to_tf)"
      ],
      "metadata": {
        "colab": {
          "base_uri": "https://localhost:8080/"
        },
        "id": "JRo18trYTVsG",
        "outputId": "1d0ac9ff-4e12-4962-8434-19cb36beb10c"
      },
      "execution_count": null,
      "outputs": [
        {
          "output_type": "stream",
          "name": "stdout",
          "text": [
            "tf:  tf.Tensor([0 0], shape=(2,), dtype=int32)\n",
            "\n",
            "\n",
            "AXIS: 0\n",
            "torch:  tensor([0, 0])\n",
            "AXIS: 0\n",
            "torch_to_tf:  tf.Tensor([0 0], shape=(2,), dtype=int32)\n",
            "\n",
            "tf.Tensor([ True  True], shape=(2,), dtype=bool)\n"
          ]
        }
      ]
    },
    {
      "cell_type": "code",
      "source": [
        "params = torch.tensor([-1])\n",
        "\n",
        "indices = torch.tensor([[0]])\n",
        "\n",
        "paramstf = tf.constant([-1])\n",
        "\n",
        "indicestf = tf.constant([[0]])\n",
        "\n",
        "axis = 0\n",
        "batch_dims = 0\n",
        "\n",
        "print(\"tf: \", tf.gather(paramstf, indicestf, axis = axis, batch_dims = batch_dims))\n",
        "print()\n",
        "print()\n",
        "print(\"torch: \", gather(params, indices, axis = axis, batch_dims = batch_dims))\n",
        "tf_tensor = tf.gather(paramstf, indicestf, axis = axis, batch_dims = batch_dims)\n",
        "torch_tensor = gather(params, indices, axis = axis, batch_dims = batch_dims)\n",
        "torch_to_tf = tf.convert_to_tensor(torch_tensor, dtype = \"int32\")\n",
        "print(\"torch_to_tf: \", torch_to_tf)\n",
        "print()\n",
        "print(tf_tensor == torch_to_tf)"
      ],
      "metadata": {
        "colab": {
          "base_uri": "https://localhost:8080/"
        },
        "id": "6U7ApWFeXEw_",
        "outputId": "b8e89072-6101-49ab-99d3-1500ec513b19"
      },
      "execution_count": null,
      "outputs": [
        {
          "output_type": "stream",
          "name": "stdout",
          "text": [
            "tf:  tf.Tensor([[-1]], shape=(1, 1), dtype=int32)\n",
            "\n",
            "\n",
            "AXIS: 0\n",
            "SINGLETON_DIMS: torch.Size([1, 1])\n",
            "RESHAPE SHAPE:  torch.Size([1, 1]) torch.Size([1, 1])\n",
            "torch:  tensor([[-1]])\n",
            "AXIS: 0\n",
            "SINGLETON_DIMS: torch.Size([1, 1])\n",
            "RESHAPE SHAPE:  torch.Size([1, 1]) torch.Size([1, 1])\n",
            "torch_to_tf:  tf.Tensor([[-1]], shape=(1, 1), dtype=int32)\n",
            "\n",
            "tf.Tensor([[ True]], shape=(1, 1), dtype=bool)\n"
          ]
        }
      ]
    },
    {
      "cell_type": "code",
      "source": [
        "params = torch.tensor([[-1]])\n",
        "\n",
        "indices = torch.tensor([0])\n",
        "\n",
        "paramstf = tf.constant([[-1]])\n",
        "\n",
        "indicestf = tf.constant([0])\n",
        "\n",
        "axis = 0\n",
        "batch_dims = 0\n",
        "\n",
        "print(\"tf: \", tf.gather(paramstf, indicestf, axis = axis, batch_dims = batch_dims))\n",
        "print()\n",
        "print()\n",
        "print(\"torch: \", gather(params, indices, axis = axis, batch_dims = batch_dims))\n",
        "tf_tensor = tf.gather(paramstf, indicestf, axis = axis, batch_dims = batch_dims)\n",
        "torch_tensor = gather(params, indices, axis = axis, batch_dims = batch_dims)\n",
        "torch_to_tf = tf.convert_to_tensor(torch_tensor, dtype = \"int32\")\n",
        "print(\"torch_to_tf: \", torch_to_tf)\n",
        "print()\n",
        "print(tf_tensor == torch_to_tf)"
      ],
      "metadata": {
        "colab": {
          "base_uri": "https://localhost:8080/",
          "height": 494
        },
        "id": "YWJuj44IaK3b",
        "outputId": "2af3b2bc-14ac-46f1-fbc6-7bb2864144e5"
      },
      "execution_count": null,
      "outputs": [
        {
          "output_type": "stream",
          "name": "stdout",
          "text": [
            "tf:  tf.Tensor([[-1]], shape=(1, 1), dtype=int32)\n",
            "\n",
            "\n",
            "AXIS: 0\n",
            "SINGLETON_DIMS: torch.Size([1, 1])\n",
            "RESHAPE SHAPE:  torch.Size([1, 1]) torch.Size([1, 1, 1])\n"
          ]
        },
        {
          "output_type": "error",
          "ename": "RuntimeError",
          "evalue": "ignored",
          "traceback": [
            "\u001b[0;31m---------------------------------------------------------------------------\u001b[0m",
            "\u001b[0;31mRuntimeError\u001b[0m                              Traceback (most recent call last)",
            "\u001b[0;32m<ipython-input-36-149a90604572>\u001b[0m in \u001b[0;36m<cell line: 15>\u001b[0;34m()\u001b[0m\n\u001b[1;32m     13\u001b[0m \u001b[0mprint\u001b[0m\u001b[0;34m(\u001b[0m\u001b[0;34m)\u001b[0m\u001b[0;34m\u001b[0m\u001b[0;34m\u001b[0m\u001b[0m\n\u001b[1;32m     14\u001b[0m \u001b[0mprint\u001b[0m\u001b[0;34m(\u001b[0m\u001b[0;34m)\u001b[0m\u001b[0;34m\u001b[0m\u001b[0;34m\u001b[0m\u001b[0m\n\u001b[0;32m---> 15\u001b[0;31m \u001b[0mprint\u001b[0m\u001b[0;34m(\u001b[0m\u001b[0;34m\"torch: \"\u001b[0m\u001b[0;34m,\u001b[0m \u001b[0mgather\u001b[0m\u001b[0;34m(\u001b[0m\u001b[0mparams\u001b[0m\u001b[0;34m,\u001b[0m \u001b[0mindices\u001b[0m\u001b[0;34m,\u001b[0m \u001b[0maxis\u001b[0m \u001b[0;34m=\u001b[0m \u001b[0maxis\u001b[0m\u001b[0;34m,\u001b[0m \u001b[0mbatch_dims\u001b[0m \u001b[0;34m=\u001b[0m \u001b[0mbatch_dims\u001b[0m\u001b[0;34m)\u001b[0m\u001b[0;34m)\u001b[0m\u001b[0;34m\u001b[0m\u001b[0;34m\u001b[0m\u001b[0m\n\u001b[0m\u001b[1;32m     16\u001b[0m \u001b[0mtf_tensor\u001b[0m \u001b[0;34m=\u001b[0m \u001b[0mtf\u001b[0m\u001b[0;34m.\u001b[0m\u001b[0mgather\u001b[0m\u001b[0;34m(\u001b[0m\u001b[0mparamstf\u001b[0m\u001b[0;34m,\u001b[0m \u001b[0mindicestf\u001b[0m\u001b[0;34m,\u001b[0m \u001b[0maxis\u001b[0m \u001b[0;34m=\u001b[0m \u001b[0maxis\u001b[0m\u001b[0;34m,\u001b[0m \u001b[0mbatch_dims\u001b[0m \u001b[0;34m=\u001b[0m \u001b[0mbatch_dims\u001b[0m\u001b[0;34m)\u001b[0m\u001b[0;34m\u001b[0m\u001b[0;34m\u001b[0m\u001b[0m\n\u001b[1;32m     17\u001b[0m \u001b[0mtorch_tensor\u001b[0m \u001b[0;34m=\u001b[0m \u001b[0mgather\u001b[0m\u001b[0;34m(\u001b[0m\u001b[0mparams\u001b[0m\u001b[0;34m,\u001b[0m \u001b[0mindices\u001b[0m\u001b[0;34m,\u001b[0m \u001b[0maxis\u001b[0m \u001b[0;34m=\u001b[0m \u001b[0maxis\u001b[0m\u001b[0;34m,\u001b[0m \u001b[0mbatch_dims\u001b[0m \u001b[0;34m=\u001b[0m \u001b[0mbatch_dims\u001b[0m\u001b[0;34m)\u001b[0m\u001b[0;34m\u001b[0m\u001b[0;34m\u001b[0m\u001b[0m\n",
            "\u001b[0;32m<ipython-input-29-b2232d91e9f1>\u001b[0m in \u001b[0;36mgather\u001b[0;34m(params, indices, axis, batch_dims, out)\u001b[0m\n\u001b[1;32m     49\u001b[0m         \u001b[0mdim_diff\u001b[0m \u001b[0;34m=\u001b[0m \u001b[0mparams\u001b[0m\u001b[0;34m.\u001b[0m\u001b[0mdim\u001b[0m\u001b[0;34m(\u001b[0m\u001b[0;34m)\u001b[0m \u001b[0;34m-\u001b[0m \u001b[0mindices\u001b[0m\u001b[0;34m.\u001b[0m\u001b[0mdim\u001b[0m\u001b[0;34m(\u001b[0m\u001b[0;34m)\u001b[0m\u001b[0;34m\u001b[0m\u001b[0;34m\u001b[0m\u001b[0m\n\u001b[1;32m     50\u001b[0m         \u001b[0;32mif\u001b[0m \u001b[0mdim_diff\u001b[0m \u001b[0;34m!=\u001b[0m \u001b[0;36m0\u001b[0m\u001b[0;34m:\u001b[0m\u001b[0;34m\u001b[0m\u001b[0;34m\u001b[0m\u001b[0m\n\u001b[0;32m---> 51\u001b[0;31m             \u001b[0mparams_expanded\u001b[0m\u001b[0;34m,\u001b[0m \u001b[0mindices_expanded\u001b[0m \u001b[0;34m=\u001b[0m \u001b[0mexpand_p_i\u001b[0m\u001b[0;34m(\u001b[0m\u001b[0mparams\u001b[0m\u001b[0;34m,\u001b[0m \u001b[0mindices\u001b[0m\u001b[0;34m)\u001b[0m\u001b[0;34m\u001b[0m\u001b[0;34m\u001b[0m\u001b[0m\n\u001b[0m\u001b[1;32m     52\u001b[0m             result = torch.gather(\n\u001b[1;32m     53\u001b[0m                                     \u001b[0mparams_expanded\u001b[0m\u001b[0;34m,\u001b[0m \u001b[0maxis\u001b[0m\u001b[0;34m,\u001b[0m\u001b[0;34m\u001b[0m\u001b[0;34m\u001b[0m\u001b[0m\n",
            "\u001b[0;32m<ipython-input-29-b2232d91e9f1>\u001b[0m in \u001b[0;36mexpand_p_i\u001b[0;34m(params, indices)\u001b[0m\n\u001b[1;32m     36\u001b[0m            \u001b[0;34m+\u001b[0m \u001b[0mindices\u001b[0m\u001b[0;34m.\u001b[0m\u001b[0mshape\u001b[0m\u001b[0;34m[\u001b[0m\u001b[0mbatch_dims\u001b[0m\u001b[0;34m:\u001b[0m\u001b[0;34m]\u001b[0m\u001b[0;34m\u001b[0m\u001b[0;34m\u001b[0m\u001b[0m\n\u001b[1;32m     37\u001b[0m            + params.shape[axis + 1:]) != params_ex.shape:\n\u001b[0;32m---> 38\u001b[0;31m             params_ex = params_ex.expand(params.shape[:axis]\n\u001b[0m\u001b[1;32m     39\u001b[0m                                          \u001b[0;34m+\u001b[0m \u001b[0mindices\u001b[0m\u001b[0;34m.\u001b[0m\u001b[0mshape\u001b[0m\u001b[0;34m[\u001b[0m\u001b[0mbatch_dims\u001b[0m\u001b[0;34m:\u001b[0m\u001b[0;34m]\u001b[0m\u001b[0;34m\u001b[0m\u001b[0;34m\u001b[0m\u001b[0m\n\u001b[1;32m     40\u001b[0m                                          + params.shape[axis + 1:])\n",
            "\u001b[0;31mRuntimeError\u001b[0m: expand(torch.LongTensor{[1, 1, 1]}, size=[1, 1]): the number of sizes provided (2) must be greater or equal to the number of dimensions in the tensor (3)"
          ]
        }
      ]
    },
    {
      "cell_type": "code",
      "source": [
        "params = torch.tensor([0])\n",
        "\n",
        "indices = torch.tensor([0])\n",
        "\n",
        "paramstf = tf.constant([0])\n",
        "\n",
        "indicestf = tf.constant([0])\n",
        "\n",
        "axis = 0\n",
        "batch_dims = 0\n",
        "\n",
        "print(\"tf: \", tf.gather(paramstf, indicestf, axis = axis, batch_dims = batch_dims))\n",
        "print()\n",
        "print()\n",
        "print(\"torch: \", gather(params, indices, axis = axis, batch_dims = batch_dims))\n",
        "tf_tensor = tf.gather(paramstf, indicestf, axis = axis, batch_dims = batch_dims)\n",
        "torch_tensor = gather(params, indices, axis = axis, batch_dims = batch_dims)\n",
        "torch_to_tf = tf.convert_to_tensor(torch_tensor, dtype = \"int32\")\n",
        "print(\"torch_to_tf: \", torch_to_tf)\n",
        "print()\n",
        "print(tf_tensor == torch_to_tf)"
      ],
      "metadata": {
        "colab": {
          "base_uri": "https://localhost:8080/"
        },
        "id": "v1XzxC7_eAcC",
        "outputId": "8f6f379b-5353-4ec3-8639-f007b9b536a0"
      },
      "execution_count": null,
      "outputs": [
        {
          "output_type": "stream",
          "name": "stdout",
          "text": [
            "tf:  tf.Tensor([0], shape=(1,), dtype=int32)\n",
            "\n",
            "\n",
            "AXIS: 0\n",
            "torch:  tensor([0])\n",
            "AXIS: 0\n",
            "torch_to_tf:  tf.Tensor([0], shape=(1,), dtype=int32)\n",
            "\n",
            "tf.Tensor([ True], shape=(1,), dtype=bool)\n"
          ]
        }
      ]
    },
    {
      "cell_type": "code",
      "source": [
        "params = torch.tensor([[0],\n",
        "                 [0]])\n",
        "\n",
        "indices = torch.tensor([0])\n",
        "\n",
        "paramstf = tf.constant([[0],\n",
        "                 [0]])\n",
        "\n",
        "indicestf = tf.constant([0])\n",
        "\n",
        "axis = 1\n",
        "batch_dims = 0\n",
        "\n",
        "\n",
        "print(\"tf: \", tf.gather(paramstf, indicestf, axis = axis, batch_dims = batch_dims))\n",
        "print()\n",
        "print()\n",
        "print(\"torch: \", gather(params, indices, axis = axis, batch_dims = batch_dims))\n",
        "tf_tensor = tf.gather(paramstf, indicestf, axis = axis, batch_dims = batch_dims)\n",
        "torch_tensor = gather(params, indices, axis = axis, batch_dims = batch_dims)\n",
        "torch_to_tf = tf.convert_to_tensor(torch_tensor, dtype = \"int32\")\n",
        "print(\"torch_to_tf: \", torch_to_tf)\n",
        "print()\n",
        "print(tf_tensor == torch_to_tf)"
      ],
      "metadata": {
        "colab": {
          "base_uri": "https://localhost:8080/",
          "height": 529
        },
        "id": "RHXhCfN5le44",
        "outputId": "e779c609-4f81-420d-f888-169d65ce3dd1"
      },
      "execution_count": null,
      "outputs": [
        {
          "output_type": "stream",
          "name": "stdout",
          "text": [
            "tf:  tf.Tensor(\n",
            "[[0]\n",
            " [0]], shape=(2, 1), dtype=int32)\n",
            "\n",
            "\n",
            "AXIS: 1\n",
            "SINGLETON_DIMS: torch.Size([1, 1])\n",
            "RESHAPE SHAPE:  torch.Size([1, 1]) torch.Size([2, 1, 1])\n"
          ]
        },
        {
          "output_type": "error",
          "ename": "RuntimeError",
          "evalue": "ignored",
          "traceback": [
            "\u001b[0;31m---------------------------------------------------------------------------\u001b[0m",
            "\u001b[0;31mRuntimeError\u001b[0m                              Traceback (most recent call last)",
            "\u001b[0;32m<ipython-input-38-3078f7ffb8b8>\u001b[0m in \u001b[0;36m<cell line: 18>\u001b[0;34m()\u001b[0m\n\u001b[1;32m     16\u001b[0m \u001b[0mprint\u001b[0m\u001b[0;34m(\u001b[0m\u001b[0;34m)\u001b[0m\u001b[0;34m\u001b[0m\u001b[0;34m\u001b[0m\u001b[0m\n\u001b[1;32m     17\u001b[0m \u001b[0mprint\u001b[0m\u001b[0;34m(\u001b[0m\u001b[0;34m)\u001b[0m\u001b[0;34m\u001b[0m\u001b[0;34m\u001b[0m\u001b[0m\n\u001b[0;32m---> 18\u001b[0;31m \u001b[0mprint\u001b[0m\u001b[0;34m(\u001b[0m\u001b[0;34m\"torch: \"\u001b[0m\u001b[0;34m,\u001b[0m \u001b[0mgather\u001b[0m\u001b[0;34m(\u001b[0m\u001b[0mparams\u001b[0m\u001b[0;34m,\u001b[0m \u001b[0mindices\u001b[0m\u001b[0;34m,\u001b[0m \u001b[0maxis\u001b[0m \u001b[0;34m=\u001b[0m \u001b[0maxis\u001b[0m\u001b[0;34m,\u001b[0m \u001b[0mbatch_dims\u001b[0m \u001b[0;34m=\u001b[0m \u001b[0mbatch_dims\u001b[0m\u001b[0;34m)\u001b[0m\u001b[0;34m)\u001b[0m\u001b[0;34m\u001b[0m\u001b[0;34m\u001b[0m\u001b[0m\n\u001b[0m\u001b[1;32m     19\u001b[0m \u001b[0mtf_tensor\u001b[0m \u001b[0;34m=\u001b[0m \u001b[0mtf\u001b[0m\u001b[0;34m.\u001b[0m\u001b[0mgather\u001b[0m\u001b[0;34m(\u001b[0m\u001b[0mparamstf\u001b[0m\u001b[0;34m,\u001b[0m \u001b[0mindicestf\u001b[0m\u001b[0;34m,\u001b[0m \u001b[0maxis\u001b[0m \u001b[0;34m=\u001b[0m \u001b[0maxis\u001b[0m\u001b[0;34m,\u001b[0m \u001b[0mbatch_dims\u001b[0m \u001b[0;34m=\u001b[0m \u001b[0mbatch_dims\u001b[0m\u001b[0;34m)\u001b[0m\u001b[0;34m\u001b[0m\u001b[0;34m\u001b[0m\u001b[0m\n\u001b[1;32m     20\u001b[0m \u001b[0mtorch_tensor\u001b[0m \u001b[0;34m=\u001b[0m \u001b[0mgather\u001b[0m\u001b[0;34m(\u001b[0m\u001b[0mparams\u001b[0m\u001b[0;34m,\u001b[0m \u001b[0mindices\u001b[0m\u001b[0;34m,\u001b[0m \u001b[0maxis\u001b[0m \u001b[0;34m=\u001b[0m \u001b[0maxis\u001b[0m\u001b[0;34m,\u001b[0m \u001b[0mbatch_dims\u001b[0m \u001b[0;34m=\u001b[0m \u001b[0mbatch_dims\u001b[0m\u001b[0;34m)\u001b[0m\u001b[0;34m\u001b[0m\u001b[0;34m\u001b[0m\u001b[0m\n",
            "\u001b[0;32m<ipython-input-29-b2232d91e9f1>\u001b[0m in \u001b[0;36mgather\u001b[0;34m(params, indices, axis, batch_dims, out)\u001b[0m\n\u001b[1;32m     49\u001b[0m         \u001b[0mdim_diff\u001b[0m \u001b[0;34m=\u001b[0m \u001b[0mparams\u001b[0m\u001b[0;34m.\u001b[0m\u001b[0mdim\u001b[0m\u001b[0;34m(\u001b[0m\u001b[0;34m)\u001b[0m \u001b[0;34m-\u001b[0m \u001b[0mindices\u001b[0m\u001b[0;34m.\u001b[0m\u001b[0mdim\u001b[0m\u001b[0;34m(\u001b[0m\u001b[0;34m)\u001b[0m\u001b[0;34m\u001b[0m\u001b[0;34m\u001b[0m\u001b[0m\n\u001b[1;32m     50\u001b[0m         \u001b[0;32mif\u001b[0m \u001b[0mdim_diff\u001b[0m \u001b[0;34m!=\u001b[0m \u001b[0;36m0\u001b[0m\u001b[0;34m:\u001b[0m\u001b[0;34m\u001b[0m\u001b[0;34m\u001b[0m\u001b[0m\n\u001b[0;32m---> 51\u001b[0;31m             \u001b[0mparams_expanded\u001b[0m\u001b[0;34m,\u001b[0m \u001b[0mindices_expanded\u001b[0m \u001b[0;34m=\u001b[0m \u001b[0mexpand_p_i\u001b[0m\u001b[0;34m(\u001b[0m\u001b[0mparams\u001b[0m\u001b[0;34m,\u001b[0m \u001b[0mindices\u001b[0m\u001b[0;34m)\u001b[0m\u001b[0;34m\u001b[0m\u001b[0;34m\u001b[0m\u001b[0m\n\u001b[0m\u001b[1;32m     52\u001b[0m             result = torch.gather(\n\u001b[1;32m     53\u001b[0m                                     \u001b[0mparams_expanded\u001b[0m\u001b[0;34m,\u001b[0m \u001b[0maxis\u001b[0m\u001b[0;34m,\u001b[0m\u001b[0;34m\u001b[0m\u001b[0;34m\u001b[0m\u001b[0m\n",
            "\u001b[0;32m<ipython-input-29-b2232d91e9f1>\u001b[0m in \u001b[0;36mexpand_p_i\u001b[0;34m(params, indices)\u001b[0m\n\u001b[1;32m     36\u001b[0m            \u001b[0;34m+\u001b[0m \u001b[0mindices\u001b[0m\u001b[0;34m.\u001b[0m\u001b[0mshape\u001b[0m\u001b[0;34m[\u001b[0m\u001b[0mbatch_dims\u001b[0m\u001b[0;34m:\u001b[0m\u001b[0;34m]\u001b[0m\u001b[0;34m\u001b[0m\u001b[0;34m\u001b[0m\u001b[0m\n\u001b[1;32m     37\u001b[0m            + params.shape[axis + 1:]) != params_ex.shape:\n\u001b[0;32m---> 38\u001b[0;31m             params_ex = params_ex.expand(params.shape[:axis]\n\u001b[0m\u001b[1;32m     39\u001b[0m                                          \u001b[0;34m+\u001b[0m \u001b[0mindices\u001b[0m\u001b[0;34m.\u001b[0m\u001b[0mshape\u001b[0m\u001b[0;34m[\u001b[0m\u001b[0mbatch_dims\u001b[0m\u001b[0;34m:\u001b[0m\u001b[0;34m]\u001b[0m\u001b[0;34m\u001b[0m\u001b[0;34m\u001b[0m\u001b[0m\n\u001b[1;32m     40\u001b[0m                                          + params.shape[axis + 1:])\n",
            "\u001b[0;31mRuntimeError\u001b[0m: expand(torch.LongTensor{[2, 1, 1]}, size=[2, 1]): the number of sizes provided (2) must be greater or equal to the number of dimensions in the tensor (3)"
          ]
        }
      ]
    },
    {
      "cell_type": "code",
      "source": [
        "params = torch.tensor([[-13712,  25013, -11631,  -2072,  -7720, -29788, -27294]])\n",
        "\n",
        "indices = torch.tensor([3, 4, 1])\n",
        "\n",
        "paramstf = tf.constant([[-13712,  25013, -11631,  -2072,  -7720, -29788, -27294]])\n",
        "\n",
        "indicestf = tf.constant([3, 4, 1])\n",
        "\n",
        "axis = 1\n",
        "batch_dims = 0\n",
        "\n",
        "\n",
        "print(\"tf: \", tf.gather(paramstf, indicestf, axis = axis, batch_dims = batch_dims))\n",
        "print()\n",
        "print()\n",
        "print(\"torch: \", gather(params, indices, axis = axis, batch_dims = batch_dims))\n",
        "tf_tensor = tf.gather(paramstf, indicestf, axis = axis, batch_dims = batch_dims)\n",
        "torch_tensor = gather(params, indices, axis = axis, batch_dims = batch_dims)\n",
        "torch_to_tf = tf.convert_to_tensor(torch_tensor, dtype = \"int32\")\n",
        "print(\"torch_to_tf: \", torch_to_tf)\n",
        "print()\n",
        "print(tf_tensor == torch_to_tf)"
      ],
      "metadata": {
        "colab": {
          "base_uri": "https://localhost:8080/",
          "height": 477
        },
        "id": "LtAwBJEnNRZf",
        "outputId": "47052dfe-adb0-4956-fe0c-8a850f87a65d"
      },
      "execution_count": null,
      "outputs": [
        {
          "output_type": "stream",
          "name": "stdout",
          "text": [
            "tf:  tf.Tensor([[-2072 -7720 25013]], shape=(1, 3), dtype=int32)\n",
            "\n",
            "\n",
            "AXIS: 1\n",
            "SINGLETON_DIMS: torch.Size([1, 1])\n"
          ]
        },
        {
          "output_type": "error",
          "ename": "RuntimeError",
          "evalue": "ignored",
          "traceback": [
            "\u001b[0;31m---------------------------------------------------------------------------\u001b[0m",
            "\u001b[0;31mRuntimeError\u001b[0m                              Traceback (most recent call last)",
            "\u001b[0;32m<ipython-input-39-d1cf95027673>\u001b[0m in \u001b[0;36m<cell line: 16>\u001b[0;34m()\u001b[0m\n\u001b[1;32m     14\u001b[0m \u001b[0mprint\u001b[0m\u001b[0;34m(\u001b[0m\u001b[0;34m)\u001b[0m\u001b[0;34m\u001b[0m\u001b[0;34m\u001b[0m\u001b[0m\n\u001b[1;32m     15\u001b[0m \u001b[0mprint\u001b[0m\u001b[0;34m(\u001b[0m\u001b[0;34m)\u001b[0m\u001b[0;34m\u001b[0m\u001b[0;34m\u001b[0m\u001b[0m\n\u001b[0;32m---> 16\u001b[0;31m \u001b[0mprint\u001b[0m\u001b[0;34m(\u001b[0m\u001b[0;34m\"torch: \"\u001b[0m\u001b[0;34m,\u001b[0m \u001b[0mgather\u001b[0m\u001b[0;34m(\u001b[0m\u001b[0mparams\u001b[0m\u001b[0;34m,\u001b[0m \u001b[0mindices\u001b[0m\u001b[0;34m,\u001b[0m \u001b[0maxis\u001b[0m \u001b[0;34m=\u001b[0m \u001b[0maxis\u001b[0m\u001b[0;34m,\u001b[0m \u001b[0mbatch_dims\u001b[0m \u001b[0;34m=\u001b[0m \u001b[0mbatch_dims\u001b[0m\u001b[0;34m)\u001b[0m\u001b[0;34m)\u001b[0m\u001b[0;34m\u001b[0m\u001b[0;34m\u001b[0m\u001b[0m\n\u001b[0m\u001b[1;32m     17\u001b[0m \u001b[0mtf_tensor\u001b[0m \u001b[0;34m=\u001b[0m \u001b[0mtf\u001b[0m\u001b[0;34m.\u001b[0m\u001b[0mgather\u001b[0m\u001b[0;34m(\u001b[0m\u001b[0mparamstf\u001b[0m\u001b[0;34m,\u001b[0m \u001b[0mindicestf\u001b[0m\u001b[0;34m,\u001b[0m \u001b[0maxis\u001b[0m \u001b[0;34m=\u001b[0m \u001b[0maxis\u001b[0m\u001b[0;34m,\u001b[0m \u001b[0mbatch_dims\u001b[0m \u001b[0;34m=\u001b[0m \u001b[0mbatch_dims\u001b[0m\u001b[0;34m)\u001b[0m\u001b[0;34m\u001b[0m\u001b[0;34m\u001b[0m\u001b[0m\n\u001b[1;32m     18\u001b[0m \u001b[0mtorch_tensor\u001b[0m \u001b[0;34m=\u001b[0m \u001b[0mgather\u001b[0m\u001b[0;34m(\u001b[0m\u001b[0mparams\u001b[0m\u001b[0;34m,\u001b[0m \u001b[0mindices\u001b[0m\u001b[0;34m,\u001b[0m \u001b[0maxis\u001b[0m \u001b[0;34m=\u001b[0m \u001b[0maxis\u001b[0m\u001b[0;34m,\u001b[0m \u001b[0mbatch_dims\u001b[0m \u001b[0;34m=\u001b[0m \u001b[0mbatch_dims\u001b[0m\u001b[0;34m)\u001b[0m\u001b[0;34m\u001b[0m\u001b[0;34m\u001b[0m\u001b[0m\n",
            "\u001b[0;32m<ipython-input-29-b2232d91e9f1>\u001b[0m in \u001b[0;36mgather\u001b[0;34m(params, indices, axis, batch_dims, out)\u001b[0m\n\u001b[1;32m     49\u001b[0m         \u001b[0mdim_diff\u001b[0m \u001b[0;34m=\u001b[0m \u001b[0mparams\u001b[0m\u001b[0;34m.\u001b[0m\u001b[0mdim\u001b[0m\u001b[0;34m(\u001b[0m\u001b[0;34m)\u001b[0m \u001b[0;34m-\u001b[0m \u001b[0mindices\u001b[0m\u001b[0;34m.\u001b[0m\u001b[0mdim\u001b[0m\u001b[0;34m(\u001b[0m\u001b[0;34m)\u001b[0m\u001b[0;34m\u001b[0m\u001b[0;34m\u001b[0m\u001b[0m\n\u001b[1;32m     50\u001b[0m         \u001b[0;32mif\u001b[0m \u001b[0mdim_diff\u001b[0m \u001b[0;34m!=\u001b[0m \u001b[0;36m0\u001b[0m\u001b[0;34m:\u001b[0m\u001b[0;34m\u001b[0m\u001b[0;34m\u001b[0m\u001b[0m\n\u001b[0;32m---> 51\u001b[0;31m             \u001b[0mparams_expanded\u001b[0m\u001b[0;34m,\u001b[0m \u001b[0mindices_expanded\u001b[0m \u001b[0;34m=\u001b[0m \u001b[0mexpand_p_i\u001b[0m\u001b[0;34m(\u001b[0m\u001b[0mparams\u001b[0m\u001b[0;34m,\u001b[0m \u001b[0mindices\u001b[0m\u001b[0;34m)\u001b[0m\u001b[0;34m\u001b[0m\u001b[0;34m\u001b[0m\u001b[0m\n\u001b[0m\u001b[1;32m     52\u001b[0m             result = torch.gather(\n\u001b[1;32m     53\u001b[0m                                     \u001b[0mparams_expanded\u001b[0m\u001b[0;34m,\u001b[0m \u001b[0maxis\u001b[0m\u001b[0;34m,\u001b[0m\u001b[0;34m\u001b[0m\u001b[0;34m\u001b[0m\u001b[0m\n",
            "\u001b[0;32m<ipython-input-29-b2232d91e9f1>\u001b[0m in \u001b[0;36mexpand_p_i\u001b[0;34m(params, indices)\u001b[0m\n\u001b[1;32m     22\u001b[0m         \u001b[0mparam_singleton_dims\u001b[0m \u001b[0;34m=\u001b[0m \u001b[0mtorch\u001b[0m\u001b[0;34m.\u001b[0m\u001b[0mSize\u001b[0m\u001b[0;34m(\u001b[0m\u001b[0mparam_singleton_dims_table\u001b[0m\u001b[0;34m)\u001b[0m\u001b[0;34m\u001b[0m\u001b[0;34m\u001b[0m\u001b[0m\n\u001b[1;32m     23\u001b[0m         \u001b[0mprint\u001b[0m\u001b[0;34m(\u001b[0m\u001b[0;34mf\"SINGLETON_DIMS: {res_singleton_dims}\"\u001b[0m\u001b[0;34m)\u001b[0m\u001b[0;34m\u001b[0m\u001b[0;34m\u001b[0m\u001b[0m\n\u001b[0;32m---> 24\u001b[0;31m         params_ex = params.reshape(params.shape[:axis]\n\u001b[0m\u001b[1;32m     25\u001b[0m                                    \u001b[0;34m+\u001b[0m \u001b[0mres_singleton_dims\u001b[0m\u001b[0;34m[\u001b[0m\u001b[0mbatch_dims\u001b[0m\u001b[0;34m:\u001b[0m\u001b[0;34m]\u001b[0m\u001b[0;34m\u001b[0m\u001b[0;34m\u001b[0m\u001b[0m\n\u001b[1;32m     26\u001b[0m                                    + params.shape[axis + 1:])\n",
            "\u001b[0;31mRuntimeError\u001b[0m: shape '[1, 1, 1]' is invalid for input of size 7"
          ]
        }
      ]
    },
    {
      "cell_type": "code",
      "source": [
        "params = torch.tensor([[-1, -1]])\n",
        "\n",
        "indices = torch.tensor([0])\n",
        "\n",
        "paramstf = tf.constant([[-1, -1]])\n",
        "\n",
        "indicestf = tf.constant([0])\n",
        "\n",
        "axis = 0\n",
        "batch_dims = 0\n",
        "\n",
        "\n",
        "\n",
        "print(\"tf: \", tf.gather(paramstf, indicestf, axis = axis, batch_dims = batch_dims))\n",
        "print()\n",
        "print()\n",
        "print(\"torch: \", gather(params, indices, axis = axis, batch_dims = batch_dims))\n",
        "tf_tensor = tf.gather(paramstf, indicestf, axis = axis, batch_dims = batch_dims)\n",
        "torch_tensor = gather(params, indices, axis = axis, batch_dims = batch_dims)\n",
        "torch_to_tf = tf.convert_to_tensor(torch_tensor, dtype = \"int32\")\n",
        "print(\"torch_to_tf: \", torch_to_tf)\n",
        "print()\n",
        "print(tf_tensor == torch_to_tf)"
      ],
      "metadata": {
        "colab": {
          "base_uri": "https://localhost:8080/",
          "height": 494
        },
        "id": "H6S64nm9dCgv",
        "outputId": "aa491d11-8f81-4f97-93df-b804a92f46b7"
      },
      "execution_count": null,
      "outputs": [
        {
          "output_type": "stream",
          "name": "stdout",
          "text": [
            "tf:  tf.Tensor([[-1 -1]], shape=(1, 2), dtype=int32)\n",
            "\n",
            "\n",
            "AXIS: 0\n",
            "SINGLETON_DIMS: torch.Size([1, 1])\n",
            "RESHAPE SHAPE:  torch.Size([1, 1]) torch.Size([1, 1, 2])\n"
          ]
        },
        {
          "output_type": "error",
          "ename": "RuntimeError",
          "evalue": "ignored",
          "traceback": [
            "\u001b[0;31m---------------------------------------------------------------------------\u001b[0m",
            "\u001b[0;31mRuntimeError\u001b[0m                              Traceback (most recent call last)",
            "\u001b[0;32m<ipython-input-40-2e10a239d4cb>\u001b[0m in \u001b[0;36m<cell line: 17>\u001b[0;34m()\u001b[0m\n\u001b[1;32m     15\u001b[0m \u001b[0mprint\u001b[0m\u001b[0;34m(\u001b[0m\u001b[0;34m)\u001b[0m\u001b[0;34m\u001b[0m\u001b[0;34m\u001b[0m\u001b[0m\n\u001b[1;32m     16\u001b[0m \u001b[0mprint\u001b[0m\u001b[0;34m(\u001b[0m\u001b[0;34m)\u001b[0m\u001b[0;34m\u001b[0m\u001b[0;34m\u001b[0m\u001b[0m\n\u001b[0;32m---> 17\u001b[0;31m \u001b[0mprint\u001b[0m\u001b[0;34m(\u001b[0m\u001b[0;34m\"torch: \"\u001b[0m\u001b[0;34m,\u001b[0m \u001b[0mgather\u001b[0m\u001b[0;34m(\u001b[0m\u001b[0mparams\u001b[0m\u001b[0;34m,\u001b[0m \u001b[0mindices\u001b[0m\u001b[0;34m,\u001b[0m \u001b[0maxis\u001b[0m \u001b[0;34m=\u001b[0m \u001b[0maxis\u001b[0m\u001b[0;34m,\u001b[0m \u001b[0mbatch_dims\u001b[0m \u001b[0;34m=\u001b[0m \u001b[0mbatch_dims\u001b[0m\u001b[0;34m)\u001b[0m\u001b[0;34m)\u001b[0m\u001b[0;34m\u001b[0m\u001b[0;34m\u001b[0m\u001b[0m\n\u001b[0m\u001b[1;32m     18\u001b[0m \u001b[0mtf_tensor\u001b[0m \u001b[0;34m=\u001b[0m \u001b[0mtf\u001b[0m\u001b[0;34m.\u001b[0m\u001b[0mgather\u001b[0m\u001b[0;34m(\u001b[0m\u001b[0mparamstf\u001b[0m\u001b[0;34m,\u001b[0m \u001b[0mindicestf\u001b[0m\u001b[0;34m,\u001b[0m \u001b[0maxis\u001b[0m \u001b[0;34m=\u001b[0m \u001b[0maxis\u001b[0m\u001b[0;34m,\u001b[0m \u001b[0mbatch_dims\u001b[0m \u001b[0;34m=\u001b[0m \u001b[0mbatch_dims\u001b[0m\u001b[0;34m)\u001b[0m\u001b[0;34m\u001b[0m\u001b[0;34m\u001b[0m\u001b[0m\n\u001b[1;32m     19\u001b[0m \u001b[0mtorch_tensor\u001b[0m \u001b[0;34m=\u001b[0m \u001b[0mgather\u001b[0m\u001b[0;34m(\u001b[0m\u001b[0mparams\u001b[0m\u001b[0;34m,\u001b[0m \u001b[0mindices\u001b[0m\u001b[0;34m,\u001b[0m \u001b[0maxis\u001b[0m \u001b[0;34m=\u001b[0m \u001b[0maxis\u001b[0m\u001b[0;34m,\u001b[0m \u001b[0mbatch_dims\u001b[0m \u001b[0;34m=\u001b[0m \u001b[0mbatch_dims\u001b[0m\u001b[0;34m)\u001b[0m\u001b[0;34m\u001b[0m\u001b[0;34m\u001b[0m\u001b[0m\n",
            "\u001b[0;32m<ipython-input-29-b2232d91e9f1>\u001b[0m in \u001b[0;36mgather\u001b[0;34m(params, indices, axis, batch_dims, out)\u001b[0m\n\u001b[1;32m     49\u001b[0m         \u001b[0mdim_diff\u001b[0m \u001b[0;34m=\u001b[0m \u001b[0mparams\u001b[0m\u001b[0;34m.\u001b[0m\u001b[0mdim\u001b[0m\u001b[0;34m(\u001b[0m\u001b[0;34m)\u001b[0m \u001b[0;34m-\u001b[0m \u001b[0mindices\u001b[0m\u001b[0;34m.\u001b[0m\u001b[0mdim\u001b[0m\u001b[0;34m(\u001b[0m\u001b[0;34m)\u001b[0m\u001b[0;34m\u001b[0m\u001b[0;34m\u001b[0m\u001b[0m\n\u001b[1;32m     50\u001b[0m         \u001b[0;32mif\u001b[0m \u001b[0mdim_diff\u001b[0m \u001b[0;34m!=\u001b[0m \u001b[0;36m0\u001b[0m\u001b[0;34m:\u001b[0m\u001b[0;34m\u001b[0m\u001b[0;34m\u001b[0m\u001b[0m\n\u001b[0;32m---> 51\u001b[0;31m             \u001b[0mparams_expanded\u001b[0m\u001b[0;34m,\u001b[0m \u001b[0mindices_expanded\u001b[0m \u001b[0;34m=\u001b[0m \u001b[0mexpand_p_i\u001b[0m\u001b[0;34m(\u001b[0m\u001b[0mparams\u001b[0m\u001b[0;34m,\u001b[0m \u001b[0mindices\u001b[0m\u001b[0;34m)\u001b[0m\u001b[0;34m\u001b[0m\u001b[0;34m\u001b[0m\u001b[0m\n\u001b[0m\u001b[1;32m     52\u001b[0m             result = torch.gather(\n\u001b[1;32m     53\u001b[0m                                     \u001b[0mparams_expanded\u001b[0m\u001b[0;34m,\u001b[0m \u001b[0maxis\u001b[0m\u001b[0;34m,\u001b[0m\u001b[0;34m\u001b[0m\u001b[0;34m\u001b[0m\u001b[0m\n",
            "\u001b[0;32m<ipython-input-29-b2232d91e9f1>\u001b[0m in \u001b[0;36mexpand_p_i\u001b[0;34m(params, indices)\u001b[0m\n\u001b[1;32m     36\u001b[0m            \u001b[0;34m+\u001b[0m \u001b[0mindices\u001b[0m\u001b[0;34m.\u001b[0m\u001b[0mshape\u001b[0m\u001b[0;34m[\u001b[0m\u001b[0mbatch_dims\u001b[0m\u001b[0;34m:\u001b[0m\u001b[0;34m]\u001b[0m\u001b[0;34m\u001b[0m\u001b[0;34m\u001b[0m\u001b[0m\n\u001b[1;32m     37\u001b[0m            + params.shape[axis + 1:]) != params_ex.shape:\n\u001b[0;32m---> 38\u001b[0;31m             params_ex = params_ex.expand(params.shape[:axis]\n\u001b[0m\u001b[1;32m     39\u001b[0m                                          \u001b[0;34m+\u001b[0m \u001b[0mindices\u001b[0m\u001b[0;34m.\u001b[0m\u001b[0mshape\u001b[0m\u001b[0;34m[\u001b[0m\u001b[0mbatch_dims\u001b[0m\u001b[0;34m:\u001b[0m\u001b[0;34m]\u001b[0m\u001b[0;34m\u001b[0m\u001b[0;34m\u001b[0m\u001b[0m\n\u001b[1;32m     40\u001b[0m                                          + params.shape[axis + 1:])\n",
            "\u001b[0;31mRuntimeError\u001b[0m: expand(torch.LongTensor{[1, 1, 2]}, size=[1, 2]): the number of sizes provided (2) must be greater or equal to the number of dimensions in the tensor (3)"
          ]
        }
      ]
    },
    {
      "cell_type": "code",
      "source": [
        "params = torch.tensor([[-1]])\n",
        "\n",
        "indices = torch.tensor([[0]])\n",
        "\n",
        "paramstf = tf.constant([[-1]])\n",
        "\n",
        "indicestf = tf.constant([[0]])\n",
        "\n",
        "axis = 0\n",
        "batch_dims = 0\n",
        "\n",
        "\n",
        "print(\"tf: \", tf.gather(paramstf, indicestf, axis = axis, batch_dims = batch_dims))\n",
        "print()\n",
        "print()\n",
        "print(\"torch: \", gather(params, indices, axis = axis, batch_dims = batch_dims))\n",
        "tf_tensor = tf.gather(paramstf, indicestf, axis = axis, batch_dims = batch_dims)\n",
        "torch_tensor = gather(params, indices, axis = axis, batch_dims = batch_dims)\n",
        "torch_to_tf = tf.convert_to_tensor(torch_tensor, dtype = \"int32\")\n",
        "print(\"torch_to_tf: \", torch_to_tf)\n",
        "print()\n",
        "print(tf_tensor == torch_to_tf)"
      ],
      "metadata": {
        "colab": {
          "base_uri": "https://localhost:8080/"
        },
        "id": "SNeXmM8fg7CR",
        "outputId": "ddf1ec52-2801-407e-f9fb-51b0d0786497"
      },
      "execution_count": null,
      "outputs": [
        {
          "output_type": "stream",
          "name": "stdout",
          "text": [
            "tf:  tf.Tensor([[[-1]]], shape=(1, 1, 1), dtype=int32)\n",
            "\n",
            "\n",
            "AXIS: 0\n",
            "torch:  tensor([[[-1]]])\n",
            "AXIS: 0\n",
            "torch_to_tf:  tf.Tensor([[[-1]]], shape=(1, 1, 1), dtype=int32)\n",
            "\n",
            "tf.Tensor([[[ True]]], shape=(1, 1, 1), dtype=bool)\n"
          ]
        }
      ]
    },
    {
      "cell_type": "code",
      "source": [
        "a = torch.tensor([[1]])\n",
        "print(a.reshape((1, 1, 1)))"
      ],
      "metadata": {
        "colab": {
          "base_uri": "https://localhost:8080/"
        },
        "id": "VHVpu0JWoOea",
        "outputId": "1e79fb78-b207-4364-ba7a-c488bf389e2f"
      },
      "execution_count": null,
      "outputs": [
        {
          "output_type": "stream",
          "name": "stdout",
          "text": [
            "tensor([[[1]]])\n"
          ]
        }
      ]
    },
    {
      "cell_type": "code",
      "source": [
        "params = torch.tensor([[-1], [-1], [-1]])\n",
        "\n",
        "indices = torch.tensor([1])\n",
        "\n",
        "paramstf = tf.constant([[-1], [-1], [-1]])\n",
        "\n",
        "indicestf = tf.constant([1])\n",
        "\n",
        "axis = 0\n",
        "batch_dims = 0\n",
        "print(indices.unsqueeze(-1).unsqueeze(-1))\n",
        "print(params.squeeze(-1))\n",
        "print(params.dim(), indices.dim())\n",
        "print(\"tf: \", tf.gather(paramstf, indicestf, axis = axis, batch_dims = batch_dims))\n",
        "print()\n",
        "print()\n",
        "print(\"torch: \", gather(params, indices, axis = axis, batch_dims = batch_dims))\n",
        "tf_tensor = tf.gather(paramstf, indicestf, axis = axis, batch_dims = batch_dims)\n",
        "torch_tensor = gather(params, indices, axis = axis, batch_dims = batch_dims)\n",
        "torch_to_tf = tf.convert_to_tensor(torch_tensor, dtype = \"int32\")\n",
        "print(\"torch_to_tf: \", torch_to_tf)\n",
        "print()\n",
        "print(tf_tensor == torch_to_tf)"
      ],
      "metadata": {
        "colab": {
          "base_uri": "https://localhost:8080/",
          "height": 529
        },
        "id": "fii13QArv-6Z",
        "outputId": "3e005581-9870-4a23-c2c5-afa0a53a3776"
      },
      "execution_count": null,
      "outputs": [
        {
          "output_type": "stream",
          "name": "stdout",
          "text": [
            "tensor([[[1]]])\n",
            "tensor([-1, -1, -1])\n",
            "2 1\n",
            "tf:  tf.Tensor([[-1]], shape=(1, 1), dtype=int32)\n",
            "\n",
            "\n",
            "AXIS: 0\n",
            "SINGLETON_DIMS: torch.Size([1, 1])\n"
          ]
        },
        {
          "output_type": "error",
          "ename": "RuntimeError",
          "evalue": "ignored",
          "traceback": [
            "\u001b[0;31m---------------------------------------------------------------------------\u001b[0m",
            "\u001b[0;31mRuntimeError\u001b[0m                              Traceback (most recent call last)",
            "\u001b[0;32m<ipython-input-42-221a76545e7b>\u001b[0m in \u001b[0;36m<cell line: 17>\u001b[0;34m()\u001b[0m\n\u001b[1;32m     15\u001b[0m \u001b[0mprint\u001b[0m\u001b[0;34m(\u001b[0m\u001b[0;34m)\u001b[0m\u001b[0;34m\u001b[0m\u001b[0;34m\u001b[0m\u001b[0m\n\u001b[1;32m     16\u001b[0m \u001b[0mprint\u001b[0m\u001b[0;34m(\u001b[0m\u001b[0;34m)\u001b[0m\u001b[0;34m\u001b[0m\u001b[0;34m\u001b[0m\u001b[0m\n\u001b[0;32m---> 17\u001b[0;31m \u001b[0mprint\u001b[0m\u001b[0;34m(\u001b[0m\u001b[0;34m\"torch: \"\u001b[0m\u001b[0;34m,\u001b[0m \u001b[0mgather\u001b[0m\u001b[0;34m(\u001b[0m\u001b[0mparams\u001b[0m\u001b[0;34m,\u001b[0m \u001b[0mindices\u001b[0m\u001b[0;34m,\u001b[0m \u001b[0maxis\u001b[0m \u001b[0;34m=\u001b[0m \u001b[0maxis\u001b[0m\u001b[0;34m,\u001b[0m \u001b[0mbatch_dims\u001b[0m \u001b[0;34m=\u001b[0m \u001b[0mbatch_dims\u001b[0m\u001b[0;34m)\u001b[0m\u001b[0;34m)\u001b[0m\u001b[0;34m\u001b[0m\u001b[0;34m\u001b[0m\u001b[0m\n\u001b[0m\u001b[1;32m     18\u001b[0m \u001b[0mtf_tensor\u001b[0m \u001b[0;34m=\u001b[0m \u001b[0mtf\u001b[0m\u001b[0;34m.\u001b[0m\u001b[0mgather\u001b[0m\u001b[0;34m(\u001b[0m\u001b[0mparamstf\u001b[0m\u001b[0;34m,\u001b[0m \u001b[0mindicestf\u001b[0m\u001b[0;34m,\u001b[0m \u001b[0maxis\u001b[0m \u001b[0;34m=\u001b[0m \u001b[0maxis\u001b[0m\u001b[0;34m,\u001b[0m \u001b[0mbatch_dims\u001b[0m \u001b[0;34m=\u001b[0m \u001b[0mbatch_dims\u001b[0m\u001b[0;34m)\u001b[0m\u001b[0;34m\u001b[0m\u001b[0;34m\u001b[0m\u001b[0m\n\u001b[1;32m     19\u001b[0m \u001b[0mtorch_tensor\u001b[0m \u001b[0;34m=\u001b[0m \u001b[0mgather\u001b[0m\u001b[0;34m(\u001b[0m\u001b[0mparams\u001b[0m\u001b[0;34m,\u001b[0m \u001b[0mindices\u001b[0m\u001b[0;34m,\u001b[0m \u001b[0maxis\u001b[0m \u001b[0;34m=\u001b[0m \u001b[0maxis\u001b[0m\u001b[0;34m,\u001b[0m \u001b[0mbatch_dims\u001b[0m \u001b[0;34m=\u001b[0m \u001b[0mbatch_dims\u001b[0m\u001b[0;34m)\u001b[0m\u001b[0;34m\u001b[0m\u001b[0;34m\u001b[0m\u001b[0m\n",
            "\u001b[0;32m<ipython-input-29-b2232d91e9f1>\u001b[0m in \u001b[0;36mgather\u001b[0;34m(params, indices, axis, batch_dims, out)\u001b[0m\n\u001b[1;32m     49\u001b[0m         \u001b[0mdim_diff\u001b[0m \u001b[0;34m=\u001b[0m \u001b[0mparams\u001b[0m\u001b[0;34m.\u001b[0m\u001b[0mdim\u001b[0m\u001b[0;34m(\u001b[0m\u001b[0;34m)\u001b[0m \u001b[0;34m-\u001b[0m \u001b[0mindices\u001b[0m\u001b[0;34m.\u001b[0m\u001b[0mdim\u001b[0m\u001b[0;34m(\u001b[0m\u001b[0;34m)\u001b[0m\u001b[0;34m\u001b[0m\u001b[0;34m\u001b[0m\u001b[0m\n\u001b[1;32m     50\u001b[0m         \u001b[0;32mif\u001b[0m \u001b[0mdim_diff\u001b[0m \u001b[0;34m!=\u001b[0m \u001b[0;36m0\u001b[0m\u001b[0;34m:\u001b[0m\u001b[0;34m\u001b[0m\u001b[0;34m\u001b[0m\u001b[0m\n\u001b[0;32m---> 51\u001b[0;31m             \u001b[0mparams_expanded\u001b[0m\u001b[0;34m,\u001b[0m \u001b[0mindices_expanded\u001b[0m \u001b[0;34m=\u001b[0m \u001b[0mexpand_p_i\u001b[0m\u001b[0;34m(\u001b[0m\u001b[0mparams\u001b[0m\u001b[0;34m,\u001b[0m \u001b[0mindices\u001b[0m\u001b[0;34m)\u001b[0m\u001b[0;34m\u001b[0m\u001b[0;34m\u001b[0m\u001b[0m\n\u001b[0m\u001b[1;32m     52\u001b[0m             result = torch.gather(\n\u001b[1;32m     53\u001b[0m                                     \u001b[0mparams_expanded\u001b[0m\u001b[0;34m,\u001b[0m \u001b[0maxis\u001b[0m\u001b[0;34m,\u001b[0m\u001b[0;34m\u001b[0m\u001b[0;34m\u001b[0m\u001b[0m\n",
            "\u001b[0;32m<ipython-input-29-b2232d91e9f1>\u001b[0m in \u001b[0;36mexpand_p_i\u001b[0;34m(params, indices)\u001b[0m\n\u001b[1;32m     22\u001b[0m         \u001b[0mparam_singleton_dims\u001b[0m \u001b[0;34m=\u001b[0m \u001b[0mtorch\u001b[0m\u001b[0;34m.\u001b[0m\u001b[0mSize\u001b[0m\u001b[0;34m(\u001b[0m\u001b[0mparam_singleton_dims_table\u001b[0m\u001b[0;34m)\u001b[0m\u001b[0;34m\u001b[0m\u001b[0;34m\u001b[0m\u001b[0m\n\u001b[1;32m     23\u001b[0m         \u001b[0mprint\u001b[0m\u001b[0;34m(\u001b[0m\u001b[0;34mf\"SINGLETON_DIMS: {res_singleton_dims}\"\u001b[0m\u001b[0;34m)\u001b[0m\u001b[0;34m\u001b[0m\u001b[0;34m\u001b[0m\u001b[0m\n\u001b[0;32m---> 24\u001b[0;31m         params_ex = params.reshape(params.shape[:axis]\n\u001b[0m\u001b[1;32m     25\u001b[0m                                    \u001b[0;34m+\u001b[0m \u001b[0mres_singleton_dims\u001b[0m\u001b[0;34m[\u001b[0m\u001b[0mbatch_dims\u001b[0m\u001b[0;34m:\u001b[0m\u001b[0;34m]\u001b[0m\u001b[0;34m\u001b[0m\u001b[0;34m\u001b[0m\u001b[0m\n\u001b[1;32m     26\u001b[0m                                    + params.shape[axis + 1:])\n",
            "\u001b[0;31mRuntimeError\u001b[0m: shape '[1, 1, 1]' is invalid for input of size 3"
          ]
        }
      ]
    },
    {
      "cell_type": "code",
      "source": [
        "torch.gather(torch.tensor([[-1], [-1], [-1]]), 0, torch.tensor([[1]]))"
      ],
      "metadata": {
        "colab": {
          "base_uri": "https://localhost:8080/"
        },
        "id": "AEh2tBe22iJB",
        "outputId": "7c604d26-87cc-4e53-b679-537e07fa8d06"
      },
      "execution_count": null,
      "outputs": [
        {
          "output_type": "execute_result",
          "data": {
            "text/plain": [
              "tensor([[-1]])"
            ]
          },
          "metadata": {},
          "execution_count": 20
        }
      ]
    },
    {
      "cell_type": "code",
      "source": [
        "params = torch.tensor([[0], [0], [1]])\n",
        "\n",
        "indices = torch.tensor([0])\n",
        "\n",
        "paramstf = tf.constant([[0], [0], [1]])\n",
        "\n",
        "indicestf = tf.constant([0])\n",
        "\n",
        "axis = 0\n",
        "batch_dims = 1\n",
        "\n",
        "print(params.dim(), indices.dim())\n",
        "\n",
        "print(\"tf: \", tf.gather(paramstf, indicestf, axis = axis, batch_dims = batch_dims))\n",
        "print()\n",
        "print()\n",
        "print(\"torch: \", gather(params, indices, axis = axis, batch_dims = batch_dims))\n",
        "tf_tensor = tf.gather(paramstf, indicestf, axis = axis, batch_dims = batch_dims)\n",
        "torch_tensor = gather(params, indices, axis = axis, batch_dims = batch_dims)\n",
        "torch_to_tf = tf.convert_to_tensor(torch_tensor, dtype = \"int32\")\n",
        "print(\"torch_to_tf: \", torch_to_tf)\n",
        "print()\n",
        "print(tf_tensor == torch_to_tf)"
      ],
      "metadata": {
        "id": "SGNyJUkv3GUW",
        "colab": {
          "base_uri": "https://localhost:8080/",
          "height": 494
        },
        "outputId": "337d2c26-3bd1-4be8-d0ce-3ede8dba828e"
      },
      "execution_count": null,
      "outputs": [
        {
          "output_type": "stream",
          "name": "stdout",
          "text": [
            "2 1\n",
            "tf:  tf.Tensor([[0]], shape=(1, 1), dtype=int32)\n",
            "\n",
            "\n",
            "AXIS: 0\n",
            "SINGLETON_DIMS: torch.Size([1])\n"
          ]
        },
        {
          "output_type": "error",
          "ename": "RuntimeError",
          "evalue": "ignored",
          "traceback": [
            "\u001b[0;31m---------------------------------------------------------------------------\u001b[0m",
            "\u001b[0;31mRuntimeError\u001b[0m                              Traceback (most recent call last)",
            "\u001b[0;32m<ipython-input-43-0fe8550dc8fe>\u001b[0m in \u001b[0;36m<cell line: 17>\u001b[0;34m()\u001b[0m\n\u001b[1;32m     15\u001b[0m \u001b[0mprint\u001b[0m\u001b[0;34m(\u001b[0m\u001b[0;34m)\u001b[0m\u001b[0;34m\u001b[0m\u001b[0;34m\u001b[0m\u001b[0m\n\u001b[1;32m     16\u001b[0m \u001b[0mprint\u001b[0m\u001b[0;34m(\u001b[0m\u001b[0;34m)\u001b[0m\u001b[0;34m\u001b[0m\u001b[0;34m\u001b[0m\u001b[0m\n\u001b[0;32m---> 17\u001b[0;31m \u001b[0mprint\u001b[0m\u001b[0;34m(\u001b[0m\u001b[0;34m\"torch: \"\u001b[0m\u001b[0;34m,\u001b[0m \u001b[0mgather\u001b[0m\u001b[0;34m(\u001b[0m\u001b[0mparams\u001b[0m\u001b[0;34m,\u001b[0m \u001b[0mindices\u001b[0m\u001b[0;34m,\u001b[0m \u001b[0maxis\u001b[0m \u001b[0;34m=\u001b[0m \u001b[0maxis\u001b[0m\u001b[0;34m,\u001b[0m \u001b[0mbatch_dims\u001b[0m \u001b[0;34m=\u001b[0m \u001b[0mbatch_dims\u001b[0m\u001b[0;34m)\u001b[0m\u001b[0;34m)\u001b[0m\u001b[0;34m\u001b[0m\u001b[0;34m\u001b[0m\u001b[0m\n\u001b[0m\u001b[1;32m     18\u001b[0m \u001b[0mtf_tensor\u001b[0m \u001b[0;34m=\u001b[0m \u001b[0mtf\u001b[0m\u001b[0;34m.\u001b[0m\u001b[0mgather\u001b[0m\u001b[0;34m(\u001b[0m\u001b[0mparamstf\u001b[0m\u001b[0;34m,\u001b[0m \u001b[0mindicestf\u001b[0m\u001b[0;34m,\u001b[0m \u001b[0maxis\u001b[0m \u001b[0;34m=\u001b[0m \u001b[0maxis\u001b[0m\u001b[0;34m,\u001b[0m \u001b[0mbatch_dims\u001b[0m \u001b[0;34m=\u001b[0m \u001b[0mbatch_dims\u001b[0m\u001b[0;34m)\u001b[0m\u001b[0;34m\u001b[0m\u001b[0;34m\u001b[0m\u001b[0m\n\u001b[1;32m     19\u001b[0m \u001b[0mtorch_tensor\u001b[0m \u001b[0;34m=\u001b[0m \u001b[0mgather\u001b[0m\u001b[0;34m(\u001b[0m\u001b[0mparams\u001b[0m\u001b[0;34m,\u001b[0m \u001b[0mindices\u001b[0m\u001b[0;34m,\u001b[0m \u001b[0maxis\u001b[0m \u001b[0;34m=\u001b[0m \u001b[0maxis\u001b[0m\u001b[0;34m,\u001b[0m \u001b[0mbatch_dims\u001b[0m \u001b[0;34m=\u001b[0m \u001b[0mbatch_dims\u001b[0m\u001b[0;34m)\u001b[0m\u001b[0;34m\u001b[0m\u001b[0;34m\u001b[0m\u001b[0m\n",
            "\u001b[0;32m<ipython-input-29-b2232d91e9f1>\u001b[0m in \u001b[0;36mgather\u001b[0;34m(params, indices, axis, batch_dims, out)\u001b[0m\n\u001b[1;32m     68\u001b[0m         \u001b[0mindices_expanded\u001b[0m \u001b[0;34m=\u001b[0m \u001b[0mindices\u001b[0m\u001b[0;34m\u001b[0m\u001b[0;34m\u001b[0m\u001b[0m\n\u001b[1;32m     69\u001b[0m         \u001b[0;32mif\u001b[0m \u001b[0mdim_diff\u001b[0m \u001b[0;34m!=\u001b[0m \u001b[0;36m0\u001b[0m\u001b[0;34m:\u001b[0m\u001b[0;34m\u001b[0m\u001b[0;34m\u001b[0m\u001b[0m\n\u001b[0;32m---> 70\u001b[0;31m             \u001b[0mparams_expanded\u001b[0m\u001b[0;34m,\u001b[0m \u001b[0mindices_expanded\u001b[0m \u001b[0;34m=\u001b[0m \u001b[0mexpand_p_i\u001b[0m\u001b[0;34m(\u001b[0m\u001b[0mparams\u001b[0m\u001b[0;34m,\u001b[0m \u001b[0mindices\u001b[0m\u001b[0;34m)\u001b[0m\u001b[0;34m\u001b[0m\u001b[0;34m\u001b[0m\u001b[0m\n\u001b[0m\u001b[1;32m     71\u001b[0m         \u001b[0mparams_slices\u001b[0m \u001b[0;34m=\u001b[0m \u001b[0mtorch\u001b[0m\u001b[0;34m.\u001b[0m\u001b[0munbind\u001b[0m\u001b[0;34m(\u001b[0m\u001b[0mparams_expanded\u001b[0m\u001b[0;34m,\u001b[0m \u001b[0maxis\u001b[0m\u001b[0;34m=\u001b[0m\u001b[0;36m0\u001b[0m\u001b[0;34m)\u001b[0m\u001b[0;34m\u001b[0m\u001b[0;34m\u001b[0m\u001b[0m\n\u001b[1;32m     72\u001b[0m         \u001b[0mindices_slices\u001b[0m \u001b[0;34m=\u001b[0m \u001b[0mtorch\u001b[0m\u001b[0;34m.\u001b[0m\u001b[0munbind\u001b[0m\u001b[0;34m(\u001b[0m\u001b[0mindices_expanded\u001b[0m\u001b[0;34m,\u001b[0m \u001b[0maxis\u001b[0m\u001b[0;34m=\u001b[0m\u001b[0;36m0\u001b[0m\u001b[0;34m)\u001b[0m\u001b[0;34m\u001b[0m\u001b[0;34m\u001b[0m\u001b[0m\n",
            "\u001b[0;32m<ipython-input-29-b2232d91e9f1>\u001b[0m in \u001b[0;36mexpand_p_i\u001b[0;34m(params, indices)\u001b[0m\n\u001b[1;32m     22\u001b[0m         \u001b[0mparam_singleton_dims\u001b[0m \u001b[0;34m=\u001b[0m \u001b[0mtorch\u001b[0m\u001b[0;34m.\u001b[0m\u001b[0mSize\u001b[0m\u001b[0;34m(\u001b[0m\u001b[0mparam_singleton_dims_table\u001b[0m\u001b[0;34m)\u001b[0m\u001b[0;34m\u001b[0m\u001b[0;34m\u001b[0m\u001b[0m\n\u001b[1;32m     23\u001b[0m         \u001b[0mprint\u001b[0m\u001b[0;34m(\u001b[0m\u001b[0;34mf\"SINGLETON_DIMS: {res_singleton_dims}\"\u001b[0m\u001b[0;34m)\u001b[0m\u001b[0;34m\u001b[0m\u001b[0;34m\u001b[0m\u001b[0m\n\u001b[0;32m---> 24\u001b[0;31m         params_ex = params.reshape(params.shape[:axis]\n\u001b[0m\u001b[1;32m     25\u001b[0m                                    \u001b[0;34m+\u001b[0m \u001b[0mres_singleton_dims\u001b[0m\u001b[0;34m[\u001b[0m\u001b[0mbatch_dims\u001b[0m\u001b[0;34m:\u001b[0m\u001b[0;34m]\u001b[0m\u001b[0;34m\u001b[0m\u001b[0;34m\u001b[0m\u001b[0m\n\u001b[1;32m     26\u001b[0m                                    + params.shape[axis + 1:])\n",
            "\u001b[0;31mRuntimeError\u001b[0m: shape '[1]' is invalid for input of size 3"
          ]
        }
      ]
    },
    {
      "cell_type": "code",
      "source": [
        "params = torch.tensor([[0], [1]])\n",
        "\n",
        "indices = torch.tensor([[0], [0]])\n",
        "\n",
        "paramstf = tf.constant([[0], [1]])\n",
        "\n",
        "indicestf = tf.constant([[0]])\n",
        "\n",
        "axis = 1\n",
        "batch_dims = 0\n",
        "\n",
        "print(params.shape)\n",
        "print(indices.expand((indices.shape[0], params.shape[-1 - axis])))\n",
        "print(torch.gather(params, axis, indices))\n",
        "print(params.dim(), indices.dim())\n",
        "print(\"tf: \", tf.gather(paramstf, indicestf, axis = axis, batch_dims = batch_dims))\n",
        "print()\n",
        "print()\n",
        "print(\"torch: \", gather(params, indices, axis = axis, batch_dims = batch_dims))\n",
        "tf_tensor = tf.gather(paramstf, indicestf, axis = axis, batch_dims = batch_dims)\n",
        "torch_tensor = gather(params, indices, axis = axis, batch_dims = batch_dims)\n",
        "torch_to_tf = tf.convert_to_tensor(torch_tensor, dtype = \"int32\")\n",
        "print(\"torch_to_tf: \", torch_to_tf)\n",
        "print()\n",
        "print(tf_tensor == torch_to_tf)"
      ],
      "metadata": {
        "colab": {
          "base_uri": "https://localhost:8080/",
          "height": 644
        },
        "id": "oX8dX48VNUPF",
        "outputId": "5b1962ca-b67d-41ba-ce54-7f508d1738fb"
      },
      "execution_count": null,
      "outputs": [
        {
          "output_type": "stream",
          "name": "stdout",
          "text": [
            "torch.Size([2, 1])\n",
            "tensor([[0, 0],\n",
            "        [0, 0]])\n",
            "tensor([[0],\n",
            "        [1]])\n",
            "2 2\n",
            "tf:  tf.Tensor(\n",
            "[[[0]]\n",
            "\n",
            " [[1]]], shape=(2, 1, 1), dtype=int32)\n",
            "\n",
            "\n",
            "torch.Size([2, 1]) torch.Size([2, 1]) False 2 2\n",
            "else res:  tensor([[0],\n",
            "        [0]])\n",
            "shape:  torch.Size([2, 2, 1])\n"
          ]
        },
        {
          "output_type": "error",
          "ename": "RuntimeError",
          "evalue": "ignored",
          "traceback": [
            "\u001b[0;31m---------------------------------------------------------------------------\u001b[0m",
            "\u001b[0;31mRuntimeError\u001b[0m                              Traceback (most recent call last)",
            "\u001b[0;32m<ipython-input-22-19e929480e46>\u001b[0m in \u001b[0;36m<cell line: 19>\u001b[0;34m()\u001b[0m\n\u001b[1;32m     17\u001b[0m \u001b[0mprint\u001b[0m\u001b[0;34m(\u001b[0m\u001b[0;34m)\u001b[0m\u001b[0;34m\u001b[0m\u001b[0;34m\u001b[0m\u001b[0m\n\u001b[1;32m     18\u001b[0m \u001b[0mprint\u001b[0m\u001b[0;34m(\u001b[0m\u001b[0;34m)\u001b[0m\u001b[0;34m\u001b[0m\u001b[0;34m\u001b[0m\u001b[0m\n\u001b[0;32m---> 19\u001b[0;31m \u001b[0mprint\u001b[0m\u001b[0;34m(\u001b[0m\u001b[0;34m\"torch: \"\u001b[0m\u001b[0;34m,\u001b[0m \u001b[0mgather\u001b[0m\u001b[0;34m(\u001b[0m\u001b[0mparams\u001b[0m\u001b[0;34m,\u001b[0m \u001b[0mindices\u001b[0m\u001b[0;34m,\u001b[0m \u001b[0maxis\u001b[0m \u001b[0;34m=\u001b[0m \u001b[0maxis\u001b[0m\u001b[0;34m,\u001b[0m \u001b[0mbatch_dims\u001b[0m \u001b[0;34m=\u001b[0m \u001b[0mbatch_dims\u001b[0m\u001b[0;34m)\u001b[0m\u001b[0;34m)\u001b[0m\u001b[0;34m\u001b[0m\u001b[0;34m\u001b[0m\u001b[0m\n\u001b[0m\u001b[1;32m     20\u001b[0m \u001b[0mtf_tensor\u001b[0m \u001b[0;34m=\u001b[0m \u001b[0mtf\u001b[0m\u001b[0;34m.\u001b[0m\u001b[0mgather\u001b[0m\u001b[0;34m(\u001b[0m\u001b[0mparamstf\u001b[0m\u001b[0;34m,\u001b[0m \u001b[0mindicestf\u001b[0m\u001b[0;34m,\u001b[0m \u001b[0maxis\u001b[0m \u001b[0;34m=\u001b[0m \u001b[0maxis\u001b[0m\u001b[0;34m,\u001b[0m \u001b[0mbatch_dims\u001b[0m \u001b[0;34m=\u001b[0m \u001b[0mbatch_dims\u001b[0m\u001b[0;34m)\u001b[0m\u001b[0;34m\u001b[0m\u001b[0;34m\u001b[0m\u001b[0m\n\u001b[1;32m     21\u001b[0m \u001b[0mtorch_tensor\u001b[0m \u001b[0;34m=\u001b[0m \u001b[0mgather\u001b[0m\u001b[0;34m(\u001b[0m\u001b[0mparams\u001b[0m\u001b[0;34m,\u001b[0m \u001b[0mindices\u001b[0m\u001b[0;34m,\u001b[0m \u001b[0maxis\u001b[0m \u001b[0;34m=\u001b[0m \u001b[0maxis\u001b[0m\u001b[0;34m,\u001b[0m \u001b[0mbatch_dims\u001b[0m \u001b[0;34m=\u001b[0m \u001b[0mbatch_dims\u001b[0m\u001b[0;34m)\u001b[0m\u001b[0;34m\u001b[0m\u001b[0;34m\u001b[0m\u001b[0m\n",
            "\u001b[0;32m<ipython-input-8-0dc73dbf4f48>\u001b[0m in \u001b[0;36mgather\u001b[0;34m(params, indices, axis, batch_dims, out)\u001b[0m\n\u001b[1;32m     37\u001b[0m         print(\"shape: \", (params.shape[:axis] + indices.shape[batch_dims:]\n\u001b[1;32m     38\u001b[0m                                 + params.shape[axis + 1 :]))\n\u001b[0;32m---> 39\u001b[0;31m         result = result.reshape((params.shape[:axis] + indices.shape[batch_dims:]\n\u001b[0m\u001b[1;32m     40\u001b[0m                                 + params.shape[axis + 1 :])\n\u001b[1;32m     41\u001b[0m                                 )\n",
            "\u001b[0;31mRuntimeError\u001b[0m: shape '[2, 2, 1]' is invalid for input of size 2"
          ]
        }
      ]
    },
    {
      "cell_type": "code",
      "source": [
        "axis = 1\n",
        "batch_dims = 0\n",
        "\n",
        "params = torch.tensor([[[0], [2]]])\n",
        "\n",
        "indices = torch.tensor([[[0], [0]], [[0], [0]]])\n",
        "print(\"xxx: \", params.shape[:2] + indices.shape + params.shape[2 + 1:])\n",
        "#params = params.expand((1, 2, 2))\n",
        "#params = params.unsqueeze(-1).unsqueeze(-1)\n",
        "params = params.expand(params.shape[:axis] + indices.shape + params.shape[axis + 1:])\n",
        "print(\"params shape: \", params.shape)\n",
        "indices = indices.unsqueeze(0).unsqueeze(2)\n",
        "indices = indices.expand(params.shape)\n",
        "\n",
        "paramstf = tf.constant([[[0], [2]]])\n",
        "\n",
        "indicestf = tf.constant([[[0], [0]], [[0], [0]]])\n",
        "print(paramstf.shape, indicestf.shape)\n",
        "\n",
        "print(torch.gather(params, axis, indices))\n",
        "print(tf.gather(paramstf, indicestf, axis, batch_dims = batch_dims))"
      ],
      "metadata": {
        "id": "HbyMAtyBOX4L"
      },
      "execution_count": null,
      "outputs": []
    },
    {
      "cell_type": "code",
      "source": [
        "a = torch.tensor([[1, 2]])\n",
        "a.shape\n",
        "a0 = a.expand((3, 3, 2))\n",
        "a = a0.reshape((3, 3, 1, 2))\n",
        "a = a.expand((3, 3, 2, 2))\n",
        "ai0 = torch.ones((3, 2))\n",
        "ai = ai0.reshape((1, 3, 2, 1))\n",
        "ai = ai.expand((3, 3, 2, 2))\n",
        "\n",
        "b = [1 for dim in list(a.shape)]\n",
        "c = torch.Size(b)\n",
        "d = torch.ones(c)\n",
        "\n",
        "restorch = torch.gather(a, 1, ai.long())\n",
        "torch_to_tf_a = tf.convert_to_tensor(a0, dtype = \"int32\")\n",
        "torch_to_tf_ai = tf.convert_to_tensor(ai0, dtype = \"int32\")\n",
        "print(torch_to_tf_a.shape, torch_to_tf_ai.shape)\n",
        "restf = tf.gather(torch_to_tf_a, torch_to_tf_ai, axis = 1, batch_dims = 0)\n",
        "print(restf)\n",
        "print()\n",
        "print(restorch.shape)\n",
        "restf == tf.convert_to_tensor(restorch, dtype = \"int32\")\n"
      ],
      "metadata": {
        "colab": {
          "base_uri": "https://localhost:8080/"
        },
        "id": "-ofcesGfdRMd",
        "outputId": "1b286c1a-8a9d-42b3-f28c-3006c5533927"
      },
      "execution_count": null,
      "outputs": [
        {
          "output_type": "stream",
          "name": "stdout",
          "text": [
            "(3, 3, 2) (3, 2)\n",
            "tf.Tensor(\n",
            "[[[[1 2]\n",
            "   [1 2]]\n",
            "\n",
            "  [[1 2]\n",
            "   [1 2]]\n",
            "\n",
            "  [[1 2]\n",
            "   [1 2]]]\n",
            "\n",
            "\n",
            " [[[1 2]\n",
            "   [1 2]]\n",
            "\n",
            "  [[1 2]\n",
            "   [1 2]]\n",
            "\n",
            "  [[1 2]\n",
            "   [1 2]]]\n",
            "\n",
            "\n",
            " [[[1 2]\n",
            "   [1 2]]\n",
            "\n",
            "  [[1 2]\n",
            "   [1 2]]\n",
            "\n",
            "  [[1 2]\n",
            "   [1 2]]]], shape=(3, 3, 2, 2), dtype=int32)\n",
            "\n",
            "torch.Size([3, 3, 2, 2])\n"
          ]
        },
        {
          "output_type": "execute_result",
          "data": {
            "text/plain": [
              "<tf.Tensor: shape=(3, 3, 2, 2), dtype=bool, numpy=\n",
              "array([[[[ True,  True],\n",
              "         [ True,  True]],\n",
              "\n",
              "        [[ True,  True],\n",
              "         [ True,  True]],\n",
              "\n",
              "        [[ True,  True],\n",
              "         [ True,  True]]],\n",
              "\n",
              "\n",
              "       [[[ True,  True],\n",
              "         [ True,  True]],\n",
              "\n",
              "        [[ True,  True],\n",
              "         [ True,  True]],\n",
              "\n",
              "        [[ True,  True],\n",
              "         [ True,  True]]],\n",
              "\n",
              "\n",
              "       [[[ True,  True],\n",
              "         [ True,  True]],\n",
              "\n",
              "        [[ True,  True],\n",
              "         [ True,  True]],\n",
              "\n",
              "        [[ True,  True],\n",
              "         [ True,  True]]]])>"
            ]
          },
          "metadata": {},
          "execution_count": 78
        }
      ]
    },
    {
      "cell_type": "code",
      "source": [
        "params = torch.tensor([1])\n",
        "\n",
        "indices = torch.tensor([[0], [0]])\n",
        "\n",
        "paramstf = tf.constant([1])\n",
        "\n",
        "indicestf = tf.constant([[0], [0]])\n",
        "\n",
        "axis = -1\n",
        "batch_dims = 0\n",
        "\n",
        "print(params.shape)\n",
        "print(indices.expand((indices.shape[0], params.shape[-1 - axis])))\n",
        "print(params.shape[:axis] , indices.shape[batch_dims:] , params.shape[axis + 1:])\n",
        "print(params.dim(), indices.dim())\n",
        "print(\"tf: \", tf.gather(paramstf, indicestf, axis = axis, batch_dims = batch_dims))\n",
        "print()\n",
        "print()\n",
        "print(\"torch: \", gather(params, indices, axis = axis, batch_dims = batch_dims))\n",
        "tf_tensor = tf.gather(paramstf, indicestf, axis = axis, batch_dims = batch_dims)\n",
        "torch_tensor = gather(params, indices, axis = axis, batch_dims = batch_dims)\n",
        "print(torch_to_tf == tf.convert_to_tensor(torch_tensor, dtype = \"int32\"))\n",
        "print(\"torch_to_tf: \", torch_to_tf)\n",
        "print()"
      ],
      "metadata": {
        "id": "ImdDZFpWxmd4",
        "colab": {
          "base_uri": "https://localhost:8080/"
        },
        "outputId": "fbc44766-566b-4c50-a1d2-2df9c0aa37ca"
      },
      "execution_count": null,
      "outputs": [
        {
          "output_type": "stream",
          "name": "stdout",
          "text": [
            "torch.Size([1])\n",
            "tensor([[0],\n",
            "        [0]])\n",
            "torch.Size([]) torch.Size([2, 1]) torch.Size([1])\n",
            "1 2\n",
            "tf:  tf.Tensor(\n",
            "[[1]\n",
            " [1]], shape=(2, 1), dtype=int32)\n",
            "\n",
            "\n",
            "AXIS: 0\n",
            "SINGLETON_DIMS: torch.Size([1, 1])\n",
            "RESHAPE SHAPE:  torch.Size([2, 1]) torch.Size([1, 1])\n",
            "torch:  tensor([[1],\n",
            "        [1]])\n",
            "AXIS: 0\n",
            "SINGLETON_DIMS: torch.Size([1, 1])\n",
            "RESHAPE SHAPE:  torch.Size([2, 1]) torch.Size([1, 1])\n",
            "tf.Tensor(\n",
            "[[ True]\n",
            " [ True]], shape=(2, 1), dtype=bool)\n",
            "torch_to_tf:  tf.Tensor(\n",
            "[[1]\n",
            " [1]], shape=(2, 1), dtype=int32)\n",
            "\n"
          ]
        }
      ]
    },
    {
      "cell_type": "code",
      "source": [
        "a = torch.tensor([[[1]]])\n",
        "b = torch.tensor([-1, -1, -1])\n",
        "axis = 0\n",
        "batch_dims = 0\n",
        "print(a.shape, b.shape)\n",
        "print(a.reshape((1, 1, 1, 1)))\n",
        "print(a.shape[:axis], b.shape, a.shape[axis + 1:])\n",
        "\n",
        "a = a.expand((a.shape[:axis] + b.shape + a.shape[axis + 1:]))\n",
        "print(a)"
      ],
      "metadata": {
        "colab": {
          "base_uri": "https://localhost:8080/"
        },
        "id": "yitiyZxikn2c",
        "outputId": "882d689d-76fb-4d34-ec18-c950912995e7"
      },
      "execution_count": null,
      "outputs": [
        {
          "output_type": "stream",
          "name": "stdout",
          "text": [
            "torch.Size([1, 1, 1]) torch.Size([3])\n",
            "tensor([[[[1]]]])\n",
            "torch.Size([]) torch.Size([3]) torch.Size([1, 1])\n",
            "tensor([[[1]],\n",
            "\n",
            "        [[1]],\n",
            "\n",
            "        [[1]]])\n"
          ]
        }
      ]
    },
    {
      "cell_type": "code",
      "source": [],
      "metadata": {
        "id": "49McLCmcuU8U"
      },
      "execution_count": null,
      "outputs": []
    }
  ]
}