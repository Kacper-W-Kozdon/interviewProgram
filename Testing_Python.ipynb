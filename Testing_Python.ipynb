{
  "nbformat": 4,
  "nbformat_minor": 0,
  "metadata": {
    "colab": {
      "provenance": [],
      "authorship_tag": "ABX9TyN3Gs4N6lQIa1pfiV4jbvB3",
      "include_colab_link": true
    },
    "kernelspec": {
      "name": "python3",
      "display_name": "Python 3"
    },
    "language_info": {
      "name": "python"
    }
  },
  "cells": [
    {
      "cell_type": "markdown",
      "metadata": {
        "id": "view-in-github",
        "colab_type": "text"
      },
      "source": [
        "<a href=\"https://colab.research.google.com/github/Kacper-W-Kozdon/interviewProgram/blob/main/Testing_Python.ipynb\" target=\"_parent\"><img src=\"https://colab.research.google.com/assets/colab-badge.svg\" alt=\"Open In Colab\"/></a>"
      ]
    },
    {
      "cell_type": "code",
      "execution_count": null,
      "metadata": {
        "colab": {
          "base_uri": "https://localhost:8080/"
        },
        "id": "JTV5Cp2PFSjC",
        "outputId": "4b10a42e-4db1-4a72-f87b-3241dd54c96e"
      },
      "outputs": [
        {
          "output_type": "stream",
          "name": "stdout",
          "text": [
            "[[4, 5, 6, 7], [8, 9]]\n"
          ]
        }
      ],
      "source": [
        "lst = [[1, 2, 3],\n",
        "       [4, 5, 6, 7],\n",
        "       [8, 9]]\n",
        "print(lst[1:3][0:2])\n"
      ]
    },
    {
      "cell_type": "code",
      "source": [
        "\n",
        "def wrap(fun):\n",
        "  def wrapper(*args, **kwargs):\n",
        "    print(fun.__doc__)\n",
        "    return fun\n",
        "  return wrapper\n",
        "\n",
        "@wrap\n",
        "def fun():\n",
        "  '''\n",
        "  asdfasdf\n",
        "  '''\n",
        "fun()\n",
        "\n",
        "\n",
        "\n"
      ],
      "metadata": {
        "id": "hfmu8eYnFqaw",
        "colab": {
          "base_uri": "https://localhost:8080/"
        },
        "outputId": "e30dded7-8e30-4328-b7af-5a5cf1987a24"
      },
      "execution_count": null,
      "outputs": [
        {
          "output_type": "stream",
          "name": "stdout",
          "text": [
            "\n",
            "  asdfasdf\n",
            "  \n"
          ]
        },
        {
          "output_type": "execute_result",
          "data": {
            "text/plain": [
              "<function __main__.fun()>"
            ]
          },
          "metadata": {},
          "execution_count": 2
        }
      ]
    },
    {
      "cell_type": "markdown",
      "source": [],
      "metadata": {
        "id": "Q56NAEkVfMiU"
      }
    },
    {
      "cell_type": "code",
      "source": [
        "x = 0\n",
        "a = list([0])\n",
        "\n",
        "\n",
        "def test_fun():\n",
        "  global x\n",
        "  x += 1\n",
        "\n",
        "def test_fun2(x):\n",
        "  x += 1\n",
        "  return x\n",
        "\n",
        "def test_fun3(x = x):\n",
        "  def inside(fun, *args, **kwargs):\n",
        "\n",
        "    return dict(**kwargs)\n",
        "  print(inside(test_fun3))\n",
        "  print()\n",
        "  print(vars())\n",
        "  print(globals())\n",
        "  vars().__setitem__(str(a), list([2]))\n",
        "  print(vars())\n",
        "  x[:] = [1, 2, 3]\n",
        "\n",
        "\n",
        "\n",
        "\n",
        "\n",
        "\n",
        "\n",
        "\n",
        "\n",
        "\n",
        "\n",
        "test_fun()\n",
        "test_fun2(x)\n",
        "test_fun3(x = a)\n",
        "print(x)\n",
        "print(a)\n",
        "\n"
      ],
      "metadata": {
        "id": "3zg8fx56OIrk",
        "colab": {
          "base_uri": "https://localhost:8080/"
        },
        "outputId": "e5a5ff3d-1431-4272-c4f9-418ee3834761"
      },
      "execution_count": null,
      "outputs": [
        {
          "output_type": "stream",
          "name": "stdout",
          "text": [
            "{}\n",
            "\n",
            "{'x': [0], 'inside': <function test_fun3.<locals>.inside at 0x7b1e07b51090>}\n",
            "{'__name__': '__main__', '__doc__': 'Automatically created module for IPython interactive environment', '__package__': None, '__loader__': None, '__spec__': None, '__builtin__': <module 'builtins' (built-in)>, '__builtins__': <module 'builtins' (built-in)>, '_ih': ['', 'lst = [[1, 2, 3],\\n       [4, 5, 6, 7],\\n       [8, 9]]\\nprint(lst[1:3][0:2])', \"def wrap(fun):\\n  def wrapper(*args, **kwargs):\\n    print(fun.__doc__)\\n    return fun\\n  return wrapper\\n\\n@wrap\\ndef fun():\\n  '''\\n  asdfasdf\\n  '''\\nfun()\", 'x = 0\\na = list([0])\\n\\n\\ndef test_fun():\\n  global x\\n  x += 1\\n\\ndef test_fun2(x):\\n  x += 1\\n  return x\\n\\ndef test_fun3(x = x):\\n  def inside(fun, *args, **kwargs):\\n\\n    return dict(**kwargs)\\n  print(inside(test_fun3))\\n  print()\\n  print(vars())\\n  print(globals())\\n  vars().__setitem__(str(a), list([2]))\\n  print(vars())\\n  x[:] = [1, 2, 3]\\n\\n\\n\\n\\n\\n\\n\\n\\n\\n\\n\\ntest_fun()\\ntest_fun2(x)\\ntest_fun3(x = a)\\nprint(x)\\nprint(a)'], '_oh': {2: <function fun at 0x7b1e07b51bd0>}, '_dh': ['/content'], 'In': ['', 'lst = [[1, 2, 3],\\n       [4, 5, 6, 7],\\n       [8, 9]]\\nprint(lst[1:3][0:2])', \"def wrap(fun):\\n  def wrapper(*args, **kwargs):\\n    print(fun.__doc__)\\n    return fun\\n  return wrapper\\n\\n@wrap\\ndef fun():\\n  '''\\n  asdfasdf\\n  '''\\nfun()\", 'x = 0\\na = list([0])\\n\\n\\ndef test_fun():\\n  global x\\n  x += 1\\n\\ndef test_fun2(x):\\n  x += 1\\n  return x\\n\\ndef test_fun3(x = x):\\n  def inside(fun, *args, **kwargs):\\n\\n    return dict(**kwargs)\\n  print(inside(test_fun3))\\n  print()\\n  print(vars())\\n  print(globals())\\n  vars().__setitem__(str(a), list([2]))\\n  print(vars())\\n  x[:] = [1, 2, 3]\\n\\n\\n\\n\\n\\n\\n\\n\\n\\n\\n\\ntest_fun()\\ntest_fun2(x)\\ntest_fun3(x = a)\\nprint(x)\\nprint(a)'], 'Out': {2: <function fun at 0x7b1e07b51bd0>}, 'get_ipython': <bound method InteractiveShell.get_ipython of <google.colab._shell.Shell object at 0x7b1e20eaa5c0>>, 'exit': <IPython.core.autocall.ZMQExitAutocall object at 0x7b1e20eaafb0>, 'quit': <IPython.core.autocall.ZMQExitAutocall object at 0x7b1e20eaafb0>, '_': <function fun at 0x7b1e07b51bd0>, '__': '', '___': '', '_i': \"\\ndef wrap(fun):\\n  def wrapper(*args, **kwargs):\\n    print(fun.__doc__)\\n    return fun\\n  return wrapper\\n\\n@wrap\\ndef fun():\\n  '''\\n  asdfasdf\\n  '''\\nfun()\", '_ii': 'lst = [[1, 2, 3],\\n       [4, 5, 6, 7],\\n       [8, 9]]\\nprint(lst[1:3][0:2])', '_iii': '', '_i1': 'lst = [[1, 2, 3],\\n       [4, 5, 6, 7],\\n       [8, 9]]\\nprint(lst[1:3][0:2])', 'lst': [[1, 2, 3], [4, 5, 6, 7], [8, 9]], '_i2': \"\\ndef wrap(fun):\\n  def wrapper(*args, **kwargs):\\n    print(fun.__doc__)\\n    return fun\\n  return wrapper\\n\\n@wrap\\ndef fun():\\n  '''\\n  asdfasdf\\n  '''\\nfun()\", 'wrap': <function wrap at 0x7b1e07b51c60>, 'fun': <function wrap.<locals>.wrapper at 0x7b1e07b51900>, '_2': <function fun at 0x7b1e07b51bd0>, '_i3': 'x = 0\\na = list([0])\\n\\n\\ndef test_fun():\\n  global x\\n  x += 1\\n\\ndef test_fun2(x):\\n  x += 1\\n  return x\\n\\ndef test_fun3(x = x):\\n  def inside(fun, *args, **kwargs):\\n\\n    return dict(**kwargs)\\n  print(inside(test_fun3))\\n  print()\\n  print(vars())\\n  print(globals())\\n  vars().__setitem__(str(a), list([2]))\\n  print(vars())\\n  x[:] = [1, 2, 3]\\n\\n\\n\\n\\n\\n\\n\\n\\n\\n\\n\\ntest_fun()\\ntest_fun2(x)\\ntest_fun3(x = a)\\nprint(x)\\nprint(a)', 'x': 1, 'a': [0], 'test_fun': <function test_fun at 0x7b1e07b512d0>, 'test_fun2': <function test_fun2 at 0x7b1e07b517e0>, 'test_fun3': <function test_fun3 at 0x7b1e07b51b40>}\n",
            "{'x': [0], 'inside': <function test_fun3.<locals>.inside at 0x7b1e07b51090>, '[0]': [2]}\n",
            "1\n",
            "[1, 2, 3]\n"
          ]
        }
      ]
    },
    {
      "cell_type": "code",
      "source": [
        "\n",
        "test_dict = {\"entry1\": 0, \"entry2\": 2}\n",
        "print(test_dict.get(\"entry1\"))\n",
        "print(test_dict.get(\"entry3\"))"
      ],
      "metadata": {
        "colab": {
          "base_uri": "https://localhost:8080/"
        },
        "id": "hU6jwDAdVzuv",
        "outputId": "f97a6896-b3e5-4455-a0e4-b1c35aaf9c50"
      },
      "execution_count": null,
      "outputs": [
        {
          "output_type": "stream",
          "name": "stdout",
          "text": [
            "0\n",
            "None\n"
          ]
        }
      ]
    },
    {
      "cell_type": "code",
      "source": [
        "import torch\n",
        "import tensorflow as tf"
      ],
      "metadata": {
        "id": "y0RoyeSAWsCX"
      },
      "execution_count": 3,
      "outputs": []
    },
    {
      "cell_type": "code",
      "source": [],
      "metadata": {
        "id": "CSqeGprORcYZ"
      },
      "execution_count": 3,
      "outputs": []
    },
    {
      "cell_type": "code",
      "source": [
        "a = torch.tensor([1, 2, 3, 4])\n",
        "b = torch.tensor([[5, 6], [7, 8]])\n",
        "print(a.reshape(b.shape))\n",
        "print(torch.reshape(a, b.shape))"
      ],
      "metadata": {
        "colab": {
          "base_uri": "https://localhost:8080/"
        },
        "id": "bmjJHBqIRdw1",
        "outputId": "00fd849d-8f70-4786-d47b-8de1d4fdb93a"
      },
      "execution_count": 4,
      "outputs": [
        {
          "output_type": "stream",
          "name": "stdout",
          "text": [
            "tensor([[1, 2],\n",
            "        [3, 4]])\n",
            "tensor([[1, 2],\n",
            "        [3, 4]])\n"
          ]
        }
      ]
    },
    {
      "cell_type": "code",
      "source": [
        "def gather_old(\n",
        "    params: torch.Tensor,\n",
        "    indices: torch.Tensor,\n",
        "    /,\n",
        "    *,\n",
        "    axis: int = -1,\n",
        "    batch_dims: int = 0,\n",
        "    out: torch.Tensor = None,\n",
        ") -> torch.Tensor:\n",
        "    axis %= len(params.shape)\n",
        "    batch_dims %= len(params.shape)\n",
        "    result = []\n",
        "    if batch_dims == 0:\n",
        "\n",
        "\n",
        "      print(params.shape, indices.shape, params.shape < indices.shape, params.dim(), indices.dim())\n",
        "      dim_diff = params.dim() - indices.dim()\n",
        "      if dim_diff > 0:\n",
        "        params_squeezed = params\n",
        "        for d in range(dim_diff):\n",
        "          params_squeezed.squeeze(-1)\n",
        "        result = torch.take(\n",
        "              params_squeezed, indices.long(), out=None)\n",
        "        print(\"res: \", result)\n",
        "\n",
        "        print(\"shape: \", (params.shape[:axis] + indices.shape[batch_dims:]\n",
        "                                + params.shape[axis + 1 :]))\n",
        "        for d in range(dim_diff):\n",
        "          result = result.expand((params.shape[:axis] + indices.shape[batch_dims:]\n",
        "                                + params.shape[axis + 1 :]))\n",
        "\n",
        "        print(\"reshaped result: \", result)\n",
        "      else:\n",
        "        result = torch.take(\n",
        "              params, indices.long(), out=None)\n",
        "        print(\"else res: \", result)\n",
        "        print(\"shape: \", (params.shape[:axis] + indices.shape[batch_dims:]\n",
        "                                + params.shape[axis + 1 :]))\n",
        "        result = result.reshape((params.shape[:axis] + indices.shape[batch_dims:]\n",
        "                                + params.shape[axis + 1 :])\n",
        "                                )\n",
        "\n",
        "      print([*params.shape[0:batch_dims], *result.shape[1:]], (params.shape[:axis] + indices.shape[batch_dims:]\n",
        "                              + params.shape[axis + 1 :]), result, params.shape, indices.shape, params.shape > indices.shape, params.shape == indices.shape\n",
        "            )\n",
        "\n",
        "    else:\n",
        "        params_slices = torch.unbind(params, axis=0)\n",
        "        indices_slices = torch.unbind(indices, axis=0)\n",
        "        for b in range(batch_dims):\n",
        "            if b == 0:\n",
        "                zip_list = [(p, i) for p, i in zip(params_slices, indices_slices)]\n",
        "            else:\n",
        "                zip_list = [\n",
        "                    (p, i) for z in [zip(p1, i1) for p1, i1 in zip_list] for p, i in z\n",
        "                ]\n",
        "        for z in zip_list:\n",
        "            p, i = z\n",
        "            print(p.shape, i.reshape((-1, )).shape)\n",
        "            r = torch.gather(\n",
        "                p, (axis - batch_dims), torch.reshape(i.long(), (-1, )),\n",
        "                sparse_grad=False, out=None\n",
        "            )\n",
        "\n",
        "            result.append(r)\n",
        "        result = torch.stack(result)\n",
        "        #result = torch.cat(result, dim=0)\n",
        "        print(\"shape: \", (params.shape[:axis] + indices.shape[batch_dims:]\n",
        "                                + params.shape[axis + 1 :]))\n",
        "        result = result.reshape((params.shape[:axis] + indices.shape[batch_dims:]\n",
        "                                + params.shape[axis + 1 :])\n",
        "                                )\n",
        "    return result"
      ],
      "metadata": {
        "id": "WAPPpQnERuzc"
      },
      "execution_count": 5,
      "outputs": []
    },
    {
      "cell_type": "code",
      "source": [
        "def gather(\n",
        "    params: torch.Tensor,\n",
        "    indices: torch.Tensor,\n",
        "    /,\n",
        "    *,\n",
        "    axis: int = -1,\n",
        "    batch_dims: int = 0,\n",
        "    out: torch.Tensor = None,\n",
        ") -> torch.Tensor:\n",
        "    axis %= len(params.shape)\n",
        "    axis = abs(len(params.shape) + axis) if axis < 0 else axis\n",
        "    batch_dims %= len(params.shape)\n",
        "    result = []\n",
        "\n",
        "    def expand_p_i(params, indices):\n",
        "        dim_helper_table = [1 for dim in list(params.shape[:axis]\n",
        "                                              + indices.shape[batch_dims:]\n",
        "                                              + params.shape[axis + 1:])]\n",
        "        singleton_dims = torch.Size(dim_helper_table)\n",
        "        params_ex = params.reshape(params.shape[:axis]\n",
        "                                   + singleton_dims[batch_dims:]\n",
        "                                   + params.shape[axis + 1:])\n",
        "        indices_ex = indices.reshape(singleton_dims[:axis]\n",
        "                                     + indices.shape[batch_dims:]\n",
        "                                     + singleton_dims[axis + 1:])\n",
        "        if (params.shape[:axis]\n",
        "           + indices.shape[batch_dims:]\n",
        "           + params.shape[axis + 1:]) != params_ex.shape:\n",
        "            params_ex = params_ex.expand(params.shape[:axis]\n",
        "                                         + indices.shape[batch_dims:]\n",
        "                                         + params.shape[axis + 1:])\n",
        "        if (indices.shape[:axis]\n",
        "           + indices.shape[batch_dims:]\n",
        "           + params.shape[axis + 1:]) != indices_ex.shape:\n",
        "            indices_ex = indices_ex.expand(params.shape[:axis]\n",
        "                                           + indices.shape[batch_dims:]\n",
        "                                           + params.shape[axis + 1:])\n",
        "        return params_ex, indices_ex\n",
        "    if batch_dims == 0:\n",
        "        dim_diff = params.dim() - indices.dim()\n",
        "        if dim_diff != 0:\n",
        "            params_expanded, indices_expanded = expand_p_i(params, indices)\n",
        "            result = torch.gather(\n",
        "                                    params_expanded, axis,\n",
        "                                    indices_expanded.long(),\n",
        "                                    sparse_grad=False, out=out\n",
        "                                 )\n",
        "            return result\n",
        "        else:\n",
        "            result = torch.gather(\n",
        "                params, axis, indices.long(), sparse_grad=False, out=out)\n",
        "            result = result.reshape((params.shape[:axis]\n",
        "                                    + indices.shape[batch_dims:]\n",
        "                                    + params.shape[axis + 1:])\n",
        "                                    )\n",
        "    else:\n",
        "        dim_diff = params.dim() - indices.dim()\n",
        "        params_expanded = params\n",
        "        indices_expanded = indices\n",
        "        if dim_diff != 0:\n",
        "            params_expanded, indices_expanded = expand_p_i(params, indices)\n",
        "        params_slices = torch.unbind(params_expanded, axis=0)\n",
        "        indices_slices = torch.unbind(indices_expanded, axis=0)\n",
        "        for b in range(batch_dims):\n",
        "            if b == 0:\n",
        "                zip_list = [(p, i) for\n",
        "                            p, i in\n",
        "                            zip(params_slices, indices_slices)\n",
        "                            ]\n",
        "            else:\n",
        "                zip_list = [\n",
        "                           (p, i) for z in [zip(p1, i1) for p1, i1 in zip_list]\n",
        "                           for p, i in z\n",
        "                            ]\n",
        "        for z in zip_list:\n",
        "            p, i = z\n",
        "            r = torch.gather(\n",
        "                             p, (axis - batch_dims),\n",
        "                             torch.reshape(i.long(), (-1, )),\n",
        "                             sparse_grad=False, out=None\n",
        "                            )\n",
        "\n",
        "            result.append(r)\n",
        "        result = torch.stack(result)\n",
        "        result = result.reshape((params.shape[:axis]\n",
        "                                 + indices.shape[batch_dims:]\n",
        "                                 + params.shape[axis + 1:])\n",
        "                                )\n",
        "\n",
        "    return result"
      ],
      "metadata": {
        "id": "qFw57Sz9ptK_"
      },
      "execution_count": 6,
      "outputs": []
    },
    {
      "cell_type": "code",
      "source": [
        "params = torch.tensor([[-1.],\n",
        "                 [ 1.],\n",
        "                 [ 1.]])\n",
        "\n",
        "indices = torch.tensor([[[0],\n",
        "                  [0]],\n",
        "\n",
        "                 [[0],\n",
        "                  [0]],\n",
        "\n",
        "                 [[0],\n",
        "                  [0]]])\n",
        "\n",
        "paramstf = tf.constant([[-1.],\n",
        "                 [ 1.],\n",
        "                 [ 1.]])\n",
        "\n",
        "indicestf = tf.constant([[[0],\n",
        "                  [0]],\n",
        "\n",
        "                 [[0],\n",
        "                  [0]],\n",
        "\n",
        "                 [[0],\n",
        "                  [0]]])\n",
        "\n",
        "axis = 1\n",
        "batch_dims = 1\n",
        "\n",
        "print(\"tf: \", tf.gather(paramstf, indicestf, axis = axis, batch_dims = batch_dims))\n",
        "print()\n",
        "print()\n",
        "print(\"torch: \", gather(params, indices, axis = axis, batch_dims = batch_dims))\n",
        "torch_tensor = tf.gather(paramstf, indicestf, axis = axis, batch_dims = batch_dims)\n",
        "torch_to_tf = tf.convert_to_tensor(torch_tensor)\n",
        "tf_tensor = gather(params, indices, axis = axis, batch_dims = batch_dims)\n",
        "print()\n",
        "print(tf_tensor == torch_to_tf)"
      ],
      "metadata": {
        "colab": {
          "base_uri": "https://localhost:8080/",
          "height": 581
        },
        "id": "d-dGjdSpTKBt",
        "outputId": "a92fe88b-e1b7-4ea9-fb10-4f4b9bf406de"
      },
      "execution_count": 7,
      "outputs": [
        {
          "output_type": "stream",
          "name": "stdout",
          "text": [
            "tf:  tf.Tensor(\n",
            "[[[-1.]\n",
            "  [-1.]]\n",
            "\n",
            " [[ 1.]\n",
            "  [ 1.]]\n",
            "\n",
            " [[ 1.]\n",
            "  [ 1.]]], shape=(3, 2, 1), dtype=float32)\n",
            "\n",
            "\n"
          ]
        },
        {
          "output_type": "error",
          "ename": "RuntimeError",
          "evalue": "ignored",
          "traceback": [
            "\u001b[0;31m---------------------------------------------------------------------------\u001b[0m",
            "\u001b[0;31mRuntimeError\u001b[0m                              Traceback (most recent call last)",
            "\u001b[0;32m<ipython-input-7-17ed65aba849>\u001b[0m in \u001b[0;36m<cell line: 33>\u001b[0;34m()\u001b[0m\n\u001b[1;32m     31\u001b[0m \u001b[0mprint\u001b[0m\u001b[0;34m(\u001b[0m\u001b[0;34m)\u001b[0m\u001b[0;34m\u001b[0m\u001b[0;34m\u001b[0m\u001b[0m\n\u001b[1;32m     32\u001b[0m \u001b[0mprint\u001b[0m\u001b[0;34m(\u001b[0m\u001b[0;34m)\u001b[0m\u001b[0;34m\u001b[0m\u001b[0;34m\u001b[0m\u001b[0m\n\u001b[0;32m---> 33\u001b[0;31m \u001b[0mprint\u001b[0m\u001b[0;34m(\u001b[0m\u001b[0;34m\"torch: \"\u001b[0m\u001b[0;34m,\u001b[0m \u001b[0mgather\u001b[0m\u001b[0;34m(\u001b[0m\u001b[0mparams\u001b[0m\u001b[0;34m,\u001b[0m \u001b[0mindices\u001b[0m\u001b[0;34m,\u001b[0m \u001b[0maxis\u001b[0m \u001b[0;34m=\u001b[0m \u001b[0maxis\u001b[0m\u001b[0;34m,\u001b[0m \u001b[0mbatch_dims\u001b[0m \u001b[0;34m=\u001b[0m \u001b[0mbatch_dims\u001b[0m\u001b[0;34m)\u001b[0m\u001b[0;34m)\u001b[0m\u001b[0;34m\u001b[0m\u001b[0;34m\u001b[0m\u001b[0m\n\u001b[0m\u001b[1;32m     34\u001b[0m \u001b[0mtorch_tensor\u001b[0m \u001b[0;34m=\u001b[0m \u001b[0mtf\u001b[0m\u001b[0;34m.\u001b[0m\u001b[0mgather\u001b[0m\u001b[0;34m(\u001b[0m\u001b[0mparamstf\u001b[0m\u001b[0;34m,\u001b[0m \u001b[0mindicestf\u001b[0m\u001b[0;34m,\u001b[0m \u001b[0maxis\u001b[0m \u001b[0;34m=\u001b[0m \u001b[0maxis\u001b[0m\u001b[0;34m,\u001b[0m \u001b[0mbatch_dims\u001b[0m \u001b[0;34m=\u001b[0m \u001b[0mbatch_dims\u001b[0m\u001b[0;34m)\u001b[0m\u001b[0;34m\u001b[0m\u001b[0;34m\u001b[0m\u001b[0m\n\u001b[1;32m     35\u001b[0m \u001b[0mtorch_to_tf\u001b[0m \u001b[0;34m=\u001b[0m \u001b[0mtf\u001b[0m\u001b[0;34m.\u001b[0m\u001b[0mconvert_to_tensor\u001b[0m\u001b[0;34m(\u001b[0m\u001b[0mtorch_tensor\u001b[0m\u001b[0;34m)\u001b[0m\u001b[0;34m\u001b[0m\u001b[0;34m\u001b[0m\u001b[0m\n",
            "\u001b[0;32m<ipython-input-6-ff73540cb382>\u001b[0m in \u001b[0;36mgather\u001b[0;34m(params, indices, axis, batch_dims, out)\u001b[0m\n\u001b[1;32m     58\u001b[0m         \u001b[0mindices_expanded\u001b[0m \u001b[0;34m=\u001b[0m \u001b[0mindices\u001b[0m\u001b[0;34m\u001b[0m\u001b[0;34m\u001b[0m\u001b[0m\n\u001b[1;32m     59\u001b[0m         \u001b[0;32mif\u001b[0m \u001b[0mdim_diff\u001b[0m \u001b[0;34m!=\u001b[0m \u001b[0;36m0\u001b[0m\u001b[0;34m:\u001b[0m\u001b[0;34m\u001b[0m\u001b[0;34m\u001b[0m\u001b[0m\n\u001b[0;32m---> 60\u001b[0;31m             \u001b[0mparams_expanded\u001b[0m\u001b[0;34m,\u001b[0m \u001b[0mindices_expanded\u001b[0m \u001b[0;34m=\u001b[0m \u001b[0mexpand_p_i\u001b[0m\u001b[0;34m(\u001b[0m\u001b[0mparams\u001b[0m\u001b[0;34m,\u001b[0m \u001b[0mindices\u001b[0m\u001b[0;34m)\u001b[0m\u001b[0;34m\u001b[0m\u001b[0;34m\u001b[0m\u001b[0m\n\u001b[0m\u001b[1;32m     61\u001b[0m         \u001b[0mparams_slices\u001b[0m \u001b[0;34m=\u001b[0m \u001b[0mtorch\u001b[0m\u001b[0;34m.\u001b[0m\u001b[0munbind\u001b[0m\u001b[0;34m(\u001b[0m\u001b[0mparams_expanded\u001b[0m\u001b[0;34m,\u001b[0m \u001b[0maxis\u001b[0m\u001b[0;34m=\u001b[0m\u001b[0;36m0\u001b[0m\u001b[0;34m)\u001b[0m\u001b[0;34m\u001b[0m\u001b[0;34m\u001b[0m\u001b[0m\n\u001b[1;32m     62\u001b[0m         \u001b[0mindices_slices\u001b[0m \u001b[0;34m=\u001b[0m \u001b[0mtorch\u001b[0m\u001b[0;34m.\u001b[0m\u001b[0munbind\u001b[0m\u001b[0;34m(\u001b[0m\u001b[0mindices_expanded\u001b[0m\u001b[0;34m,\u001b[0m \u001b[0maxis\u001b[0m\u001b[0;34m=\u001b[0m\u001b[0;36m0\u001b[0m\u001b[0;34m)\u001b[0m\u001b[0;34m\u001b[0m\u001b[0;34m\u001b[0m\u001b[0m\n",
            "\u001b[0;32m<ipython-input-6-ff73540cb382>\u001b[0m in \u001b[0;36mexpand_p_i\u001b[0;34m(params, indices)\u001b[0m\n\u001b[1;32m     20\u001b[0m                                    \u001b[0;34m+\u001b[0m \u001b[0msingleton_dims\u001b[0m\u001b[0;34m[\u001b[0m\u001b[0mbatch_dims\u001b[0m\u001b[0;34m:\u001b[0m\u001b[0;34m]\u001b[0m\u001b[0;34m\u001b[0m\u001b[0;34m\u001b[0m\u001b[0m\n\u001b[1;32m     21\u001b[0m                                    + params.shape[axis + 1:])\n\u001b[0;32m---> 22\u001b[0;31m         indices_ex = indices.reshape(singleton_dims[:axis]\n\u001b[0m\u001b[1;32m     23\u001b[0m                                      \u001b[0;34m+\u001b[0m \u001b[0mindices\u001b[0m\u001b[0;34m.\u001b[0m\u001b[0mshape\u001b[0m\u001b[0;34m[\u001b[0m\u001b[0mbatch_dims\u001b[0m\u001b[0;34m:\u001b[0m\u001b[0;34m]\u001b[0m\u001b[0;34m\u001b[0m\u001b[0;34m\u001b[0m\u001b[0m\n\u001b[1;32m     24\u001b[0m                                      + singleton_dims[axis + 1:])\n",
            "\u001b[0;31mRuntimeError\u001b[0m: shape '[1, 2, 1, 1]' is invalid for input of size 6"
          ]
        }
      ]
    },
    {
      "cell_type": "code",
      "source": [
        "params = torch.tensor([0])\n",
        "\n",
        "indices = torch.tensor([0, 0])\n",
        "\n",
        "paramstf = tf.constant([0])\n",
        "\n",
        "indicestf = tf.constant([0, 0])\n",
        "\n",
        "axis = 0\n",
        "batch_dims = 0\n",
        "\n",
        "print(\"tf: \", tf.gather(paramstf, indicestf, axis = axis, batch_dims = batch_dims))\n",
        "print()\n",
        "print()\n",
        "print(\"torch: \", gather(params, indices, axis = axis, batch_dims = batch_dims))\n",
        "tf_tensor = tf.gather(paramstf, indicestf, axis = axis, batch_dims = batch_dims)\n",
        "torch_tensor = gather(params, indices, axis = axis, batch_dims = batch_dims)\n",
        "torch_to_tf = tf.convert_to_tensor(torch_tensor, dtype = \"int32\")\n",
        "print(\"torch_to_tf: \", torch_to_tf)\n",
        "print()\n",
        "print(tf_tensor == torch_to_tf)"
      ],
      "metadata": {
        "colab": {
          "base_uri": "https://localhost:8080/"
        },
        "id": "JRo18trYTVsG",
        "outputId": "8d62d967-7516-4b03-d777-caf2e21ecac4"
      },
      "execution_count": null,
      "outputs": [
        {
          "output_type": "stream",
          "name": "stdout",
          "text": [
            "tf:  tf.Tensor([0 0], shape=(2,), dtype=int32)\n",
            "\n",
            "\n",
            "torch.Size([1]) torch.Size([2]) True 1 1\n",
            "else res:  tensor([0, 0])\n",
            "shape:  torch.Size([2])\n",
            "[] torch.Size([2]) tensor([0, 0]) torch.Size([1]) torch.Size([2]) False False\n",
            "torch:  tensor([0, 0])\n",
            "torch.Size([1]) torch.Size([2]) True 1 1\n",
            "else res:  tensor([0, 0])\n",
            "shape:  torch.Size([2])\n",
            "[] torch.Size([2]) tensor([0, 0]) torch.Size([1]) torch.Size([2]) False False\n",
            "torch_to_tf:  tf.Tensor([0 0], shape=(2,), dtype=int32)\n",
            "\n",
            "tf.Tensor([ True  True], shape=(2,), dtype=bool)\n"
          ]
        }
      ]
    },
    {
      "cell_type": "code",
      "source": [
        "params = torch.tensor([-1])\n",
        "\n",
        "indices = torch.tensor([[0]])\n",
        "\n",
        "paramstf = tf.constant([-1])\n",
        "\n",
        "indicestf = tf.constant([[0]])\n",
        "\n",
        "axis = 0\n",
        "batch_dims = 0\n",
        "\n",
        "print(\"tf: \", tf.gather(paramstf, indicestf, axis = axis, batch_dims = batch_dims))\n",
        "print()\n",
        "print()\n",
        "print(\"torch: \", gather(params, indices, axis = axis, batch_dims = batch_dims))\n",
        "tf_tensor = tf.gather(paramstf, indicestf, axis = axis, batch_dims = batch_dims)\n",
        "torch_tensor = gather(params, indices, axis = axis, batch_dims = batch_dims)\n",
        "torch_to_tf = tf.convert_to_tensor(torch_tensor, dtype = \"int32\")\n",
        "print(\"torch_to_tf: \", torch_to_tf)\n",
        "print()\n",
        "print(tf_tensor == torch_to_tf)"
      ],
      "metadata": {
        "colab": {
          "base_uri": "https://localhost:8080/"
        },
        "id": "6U7ApWFeXEw_",
        "outputId": "47f8789a-2d7e-4f01-8720-6d8ba498e161"
      },
      "execution_count": null,
      "outputs": [
        {
          "output_type": "stream",
          "name": "stdout",
          "text": [
            "tf:  tf.Tensor([[-1]], shape=(1, 1), dtype=int32)\n",
            "\n",
            "\n",
            "torch.Size([1]) torch.Size([1, 1]) True 1 2\n",
            "else res:  tensor([[-1]])\n",
            "shape:  torch.Size([1, 1])\n",
            "[1] torch.Size([1, 1]) tensor([[-1]]) torch.Size([1]) torch.Size([1, 1]) False False\n",
            "torch:  tensor([[-1]])\n",
            "torch.Size([1]) torch.Size([1, 1]) True 1 2\n",
            "else res:  tensor([[-1]])\n",
            "shape:  torch.Size([1, 1])\n",
            "[1] torch.Size([1, 1]) tensor([[-1]]) torch.Size([1]) torch.Size([1, 1]) False False\n",
            "torch_to_tf:  tf.Tensor([[-1]], shape=(1, 1), dtype=int32)\n",
            "\n",
            "tf.Tensor([[ True]], shape=(1, 1), dtype=bool)\n"
          ]
        }
      ]
    },
    {
      "cell_type": "code",
      "source": [
        "params = torch.tensor([[-1]])\n",
        "\n",
        "indices = torch.tensor([0])\n",
        "\n",
        "paramstf = tf.constant([[-1]])\n",
        "\n",
        "indicestf = tf.constant([0])\n",
        "\n",
        "axis = 0\n",
        "batch_dims = 0\n",
        "\n",
        "print(\"tf: \", tf.gather(paramstf, indicestf, axis = axis, batch_dims = batch_dims))\n",
        "print()\n",
        "print()\n",
        "print(\"torch: \", gather(params, indices, axis = axis, batch_dims = batch_dims))\n",
        "tf_tensor = tf.gather(paramstf, indicestf, axis = axis, batch_dims = batch_dims)\n",
        "torch_tensor = gather(params, indices, axis = axis, batch_dims = batch_dims)\n",
        "torch_to_tf = tf.convert_to_tensor(torch_tensor, dtype = \"int32\")\n",
        "print(\"torch_to_tf: \", torch_to_tf)\n",
        "print()\n",
        "print(tf_tensor == torch_to_tf)"
      ],
      "metadata": {
        "colab": {
          "base_uri": "https://localhost:8080/"
        },
        "id": "YWJuj44IaK3b",
        "outputId": "95fd6244-f0c3-4f4b-8579-f1f2cccaf865"
      },
      "execution_count": null,
      "outputs": [
        {
          "output_type": "stream",
          "name": "stdout",
          "text": [
            "tf:  tf.Tensor([[-1]], shape=(1, 1), dtype=int32)\n",
            "\n",
            "\n",
            "torch.Size([1, 1]) torch.Size([1]) False 2 1\n",
            "res:  tensor([-1])\n",
            "shape:  torch.Size([1, 1])\n",
            "reshaped result:  tensor([[-1]])\n",
            "[1] torch.Size([1, 1]) tensor([[-1]]) torch.Size([1, 1]) torch.Size([1]) True False\n",
            "torch:  tensor([[-1]])\n",
            "torch.Size([1, 1]) torch.Size([1]) False 2 1\n",
            "res:  tensor([-1])\n",
            "shape:  torch.Size([1, 1])\n",
            "reshaped result:  tensor([[-1]])\n",
            "[1] torch.Size([1, 1]) tensor([[-1]]) torch.Size([1, 1]) torch.Size([1]) True False\n",
            "torch_to_tf:  tf.Tensor([[-1]], shape=(1, 1), dtype=int32)\n",
            "\n",
            "tf.Tensor([[ True]], shape=(1, 1), dtype=bool)\n"
          ]
        }
      ]
    },
    {
      "cell_type": "code",
      "source": [
        "params = torch.tensor([0])\n",
        "\n",
        "indices = torch.tensor([0])\n",
        "\n",
        "paramstf = tf.constant([0])\n",
        "\n",
        "indicestf = tf.constant([0])\n",
        "\n",
        "axis = 0\n",
        "batch_dims = 0\n",
        "\n",
        "print(\"tf: \", tf.gather(paramstf, indicestf, axis = axis, batch_dims = batch_dims))\n",
        "print()\n",
        "print()\n",
        "print(\"torch: \", gather(params, indices, axis = axis, batch_dims = batch_dims))\n",
        "tf_tensor = tf.gather(paramstf, indicestf, axis = axis, batch_dims = batch_dims)\n",
        "torch_tensor = gather(params, indices, axis = axis, batch_dims = batch_dims)\n",
        "torch_to_tf = tf.convert_to_tensor(torch_tensor, dtype = \"int32\")\n",
        "print(\"torch_to_tf: \", torch_to_tf)\n",
        "print()\n",
        "print(tf_tensor == torch_to_tf)"
      ],
      "metadata": {
        "colab": {
          "base_uri": "https://localhost:8080/"
        },
        "id": "v1XzxC7_eAcC",
        "outputId": "e0f6daa8-1c49-479f-c8aa-d50186d531b3"
      },
      "execution_count": null,
      "outputs": [
        {
          "output_type": "stream",
          "name": "stdout",
          "text": [
            "tf:  tf.Tensor([0], shape=(1,), dtype=int32)\n",
            "\n",
            "\n",
            "torch.Size([1]) torch.Size([1]) False 1 1\n",
            "else res:  tensor([0])\n",
            "shape:  torch.Size([1])\n",
            "[] torch.Size([1]) tensor([0]) torch.Size([1]) torch.Size([1]) False True\n",
            "torch:  tensor([0])\n",
            "torch.Size([1]) torch.Size([1]) False 1 1\n",
            "else res:  tensor([0])\n",
            "shape:  torch.Size([1])\n",
            "[] torch.Size([1]) tensor([0]) torch.Size([1]) torch.Size([1]) False True\n",
            "torch_to_tf:  tf.Tensor([0], shape=(1,), dtype=int32)\n",
            "\n",
            "tf.Tensor([ True], shape=(1,), dtype=bool)\n"
          ]
        }
      ]
    },
    {
      "cell_type": "code",
      "source": [
        "params = torch.tensor([[0],\n",
        "                 [0]])\n",
        "\n",
        "indices = torch.tensor([0])\n",
        "\n",
        "paramstf = tf.constant([[0],\n",
        "                 [0]])\n",
        "\n",
        "indicestf = tf.constant([0])\n",
        "\n",
        "axis = 1\n",
        "batch_dims = 0\n",
        "\n",
        "\n",
        "print(\"tf: \", tf.gather(paramstf, indicestf, axis = axis, batch_dims = batch_dims))\n",
        "print()\n",
        "print()\n",
        "print(\"torch: \", gather(params, indices, axis = axis, batch_dims = batch_dims))\n",
        "tf_tensor = tf.gather(paramstf, indicestf, axis = axis, batch_dims = batch_dims)\n",
        "torch_tensor = gather(params, indices, axis = axis, batch_dims = batch_dims)\n",
        "torch_to_tf = tf.convert_to_tensor(torch_tensor, dtype = \"int32\")\n",
        "print(\"torch_to_tf: \", torch_to_tf)\n",
        "print()\n",
        "print(tf_tensor == torch_to_tf)"
      ],
      "metadata": {
        "colab": {
          "base_uri": "https://localhost:8080/"
        },
        "id": "RHXhCfN5le44",
        "outputId": "4ff1a3d3-18ba-4e65-c6ca-05669454e84f"
      },
      "execution_count": null,
      "outputs": [
        {
          "output_type": "stream",
          "name": "stdout",
          "text": [
            "tf:  tf.Tensor(\n",
            "[[0]\n",
            " [0]], shape=(2, 1), dtype=int32)\n",
            "\n",
            "\n",
            "torch.Size([2, 1]) torch.Size([1]) False 2 1\n",
            "res:  tensor([0])\n",
            "shape:  torch.Size([2, 1])\n",
            "reshaped result:  tensor([[0],\n",
            "        [0]])\n",
            "[1] torch.Size([2, 1]) tensor([[0],\n",
            "        [0]]) torch.Size([2, 1]) torch.Size([1]) True False\n",
            "torch:  tensor([[0],\n",
            "        [0]])\n",
            "torch.Size([2, 1]) torch.Size([1]) False 2 1\n",
            "res:  tensor([0])\n",
            "shape:  torch.Size([2, 1])\n",
            "reshaped result:  tensor([[0],\n",
            "        [0]])\n",
            "[1] torch.Size([2, 1]) tensor([[0],\n",
            "        [0]]) torch.Size([2, 1]) torch.Size([1]) True False\n",
            "torch_to_tf:  tf.Tensor(\n",
            "[[0]\n",
            " [0]], shape=(2, 1), dtype=int32)\n",
            "\n",
            "tf.Tensor(\n",
            "[[ True]\n",
            " [ True]], shape=(2, 1), dtype=bool)\n"
          ]
        }
      ]
    },
    {
      "cell_type": "code",
      "source": [
        "params = torch.tensor([[-13712,  25013, -11631,  -2072,  -7720, -29788, -27294]])\n",
        "\n",
        "indices = torch.tensor([3, 4, 1])\n",
        "\n",
        "paramstf = tf.constant([[-13712,  25013, -11631,  -2072,  -7720, -29788, -27294]])\n",
        "\n",
        "indicestf = tf.constant([3, 4, 1])\n",
        "\n",
        "axis = 1\n",
        "batch_dims = 0\n",
        "\n",
        "\n",
        "print(\"tf: \", tf.gather(paramstf, indicestf, axis = axis, batch_dims = batch_dims))\n",
        "print()\n",
        "print()\n",
        "print(\"torch: \", gather(params, indices, axis = axis, batch_dims = batch_dims))\n",
        "tf_tensor = tf.gather(paramstf, indicestf, axis = axis, batch_dims = batch_dims)\n",
        "torch_tensor = gather(params, indices, axis = axis, batch_dims = batch_dims)\n",
        "torch_to_tf = tf.convert_to_tensor(torch_tensor, dtype = \"int32\")\n",
        "print(\"torch_to_tf: \", torch_to_tf)\n",
        "print()\n",
        "print(tf_tensor == torch_to_tf)"
      ],
      "metadata": {
        "colab": {
          "base_uri": "https://localhost:8080/"
        },
        "id": "LtAwBJEnNRZf",
        "outputId": "2586ceb7-9be8-4c8c-e003-1adef98321f1"
      },
      "execution_count": null,
      "outputs": [
        {
          "output_type": "stream",
          "name": "stdout",
          "text": [
            "tf:  tf.Tensor([[-2072 -7720 25013]], shape=(1, 3), dtype=int32)\n",
            "\n",
            "\n",
            "torch.Size([1, 7]) torch.Size([3]) True 2 1\n",
            "res:  tensor([-2072, -7720, 25013])\n",
            "shape:  torch.Size([1, 3])\n",
            "reshaped result:  tensor([[-2072, -7720, 25013]])\n",
            "[3] torch.Size([1, 3]) tensor([[-2072, -7720, 25013]]) torch.Size([1, 7]) torch.Size([3]) False False\n",
            "torch:  tensor([[-2072, -7720, 25013]])\n",
            "torch.Size([1, 7]) torch.Size([3]) True 2 1\n",
            "res:  tensor([-2072, -7720, 25013])\n",
            "shape:  torch.Size([1, 3])\n",
            "reshaped result:  tensor([[-2072, -7720, 25013]])\n",
            "[3] torch.Size([1, 3]) tensor([[-2072, -7720, 25013]]) torch.Size([1, 7]) torch.Size([3]) False False\n",
            "torch_to_tf:  tf.Tensor([[-2072 -7720 25013]], shape=(1, 3), dtype=int32)\n",
            "\n",
            "tf.Tensor([[ True  True  True]], shape=(1, 3), dtype=bool)\n"
          ]
        }
      ]
    },
    {
      "cell_type": "code",
      "source": [
        "params = torch.tensor([[-1, -1]])\n",
        "\n",
        "indices = torch.tensor([0])\n",
        "\n",
        "paramstf = tf.constant([[-1, -1]])\n",
        "\n",
        "indicestf = tf.constant([0])\n",
        "\n",
        "axis = 0\n",
        "batch_dims = 0\n",
        "\n",
        "\n",
        "\n",
        "print(\"tf: \", tf.gather(paramstf, indicestf, axis = axis, batch_dims = batch_dims))\n",
        "print()\n",
        "print()\n",
        "print(\"torch: \", gather(params, indices, axis = axis, batch_dims = batch_dims))\n",
        "tf_tensor = tf.gather(paramstf, indicestf, axis = axis, batch_dims = batch_dims)\n",
        "torch_tensor = gather(params, indices, axis = axis, batch_dims = batch_dims)\n",
        "torch_to_tf = tf.convert_to_tensor(torch_tensor, dtype = \"int32\")\n",
        "print(\"torch_to_tf: \", torch_to_tf)\n",
        "print()\n",
        "print(tf_tensor == torch_to_tf)"
      ],
      "metadata": {
        "colab": {
          "base_uri": "https://localhost:8080/"
        },
        "id": "H6S64nm9dCgv",
        "outputId": "27409818-1f2b-4b6e-dff3-89b348229e23"
      },
      "execution_count": null,
      "outputs": [
        {
          "output_type": "stream",
          "name": "stdout",
          "text": [
            "tf:  tf.Tensor([[-1 -1]], shape=(1, 2), dtype=int32)\n",
            "\n",
            "\n",
            "torch.Size([1, 2]) torch.Size([1]) False 2 1\n",
            "res:  tensor([-1])\n",
            "shape:  torch.Size([1, 2])\n",
            "reshaped result:  tensor([[-1, -1]])\n",
            "[2] torch.Size([1, 2]) tensor([[-1, -1]]) torch.Size([1, 2]) torch.Size([1]) True False\n",
            "torch:  tensor([[-1, -1]])\n",
            "torch.Size([1, 2]) torch.Size([1]) False 2 1\n",
            "res:  tensor([-1])\n",
            "shape:  torch.Size([1, 2])\n",
            "reshaped result:  tensor([[-1, -1]])\n",
            "[2] torch.Size([1, 2]) tensor([[-1, -1]]) torch.Size([1, 2]) torch.Size([1]) True False\n",
            "torch_to_tf:  tf.Tensor([[-1 -1]], shape=(1, 2), dtype=int32)\n",
            "\n",
            "tf.Tensor([[ True  True]], shape=(1, 2), dtype=bool)\n"
          ]
        }
      ]
    },
    {
      "cell_type": "code",
      "source": [
        "params = torch.tensor([[-1]])\n",
        "\n",
        "indices = torch.tensor([[0]])\n",
        "\n",
        "paramstf = tf.constant([[-1]])\n",
        "\n",
        "indicestf = tf.constant([[0]])\n",
        "\n",
        "axis = 0\n",
        "batch_dims = 0\n",
        "\n",
        "\n",
        "print(\"tf: \", tf.gather(paramstf, indicestf, axis = axis, batch_dims = batch_dims))\n",
        "print()\n",
        "print()\n",
        "print(\"torch: \", gather(params, indices, axis = axis, batch_dims = batch_dims))\n",
        "tf_tensor = tf.gather(paramstf, indicestf, axis = axis, batch_dims = batch_dims)\n",
        "torch_tensor = gather(params, indices, axis = axis, batch_dims = batch_dims)\n",
        "torch_to_tf = tf.convert_to_tensor(torch_tensor, dtype = \"int32\")\n",
        "print(\"torch_to_tf: \", torch_to_tf)\n",
        "print()\n",
        "print(tf_tensor == torch_to_tf)"
      ],
      "metadata": {
        "colab": {
          "base_uri": "https://localhost:8080/"
        },
        "id": "SNeXmM8fg7CR",
        "outputId": "2d6c95d0-4340-4b6a-b808-e02f99c0e8ec"
      },
      "execution_count": null,
      "outputs": [
        {
          "output_type": "stream",
          "name": "stdout",
          "text": [
            "tf:  tf.Tensor([[[-1]]], shape=(1, 1, 1), dtype=int32)\n",
            "\n",
            "\n",
            "torch.Size([1, 1]) torch.Size([1, 1]) False 2 2\n",
            "else res:  tensor([[-1]])\n",
            "shape:  torch.Size([1, 1, 1])\n",
            "[1, 1] torch.Size([1, 1, 1]) tensor([[[-1]]]) torch.Size([1, 1]) torch.Size([1, 1]) False True\n",
            "torch:  tensor([[[-1]]])\n",
            "torch.Size([1, 1]) torch.Size([1, 1]) False 2 2\n",
            "else res:  tensor([[-1]])\n",
            "shape:  torch.Size([1, 1, 1])\n",
            "[1, 1] torch.Size([1, 1, 1]) tensor([[[-1]]]) torch.Size([1, 1]) torch.Size([1, 1]) False True\n",
            "torch_to_tf:  tf.Tensor([[[-1]]], shape=(1, 1, 1), dtype=int32)\n",
            "\n",
            "tf.Tensor([[[ True]]], shape=(1, 1, 1), dtype=bool)\n"
          ]
        }
      ]
    },
    {
      "cell_type": "code",
      "source": [
        "a = torch.tensor([[1]])\n",
        "print(a.reshape((1, 1, 1)))"
      ],
      "metadata": {
        "colab": {
          "base_uri": "https://localhost:8080/"
        },
        "id": "VHVpu0JWoOea",
        "outputId": "1e79fb78-b207-4364-ba7a-c488bf389e2f"
      },
      "execution_count": null,
      "outputs": [
        {
          "output_type": "stream",
          "name": "stdout",
          "text": [
            "tensor([[[1]]])\n"
          ]
        }
      ]
    },
    {
      "cell_type": "code",
      "source": [
        "params = torch.tensor([[-1], [-1], [-1]])\n",
        "\n",
        "indices = torch.tensor([1])\n",
        "\n",
        "paramstf = tf.constant([[-1], [-1], [-1]])\n",
        "\n",
        "indicestf = tf.constant([1])\n",
        "\n",
        "axis = 0\n",
        "batch_dims = 0\n",
        "print(indices.unsqueeze(-1).unsqueeze(-1))\n",
        "print(params.squeeze(-1))\n",
        "print(params.dim(), indices.dim())\n",
        "print(\"tf: \", tf.gather(paramstf, indicestf, axis = axis, batch_dims = batch_dims))\n",
        "print()\n",
        "print()\n",
        "print(\"torch: \", gather(params, indices, axis = axis, batch_dims = batch_dims))\n",
        "tf_tensor = tf.gather(paramstf, indicestf, axis = axis, batch_dims = batch_dims)\n",
        "torch_tensor = gather(params, indices, axis = axis, batch_dims = batch_dims)\n",
        "torch_to_tf = tf.convert_to_tensor(torch_tensor, dtype = \"int32\")\n",
        "print(\"torch_to_tf: \", torch_to_tf)\n",
        "print()\n",
        "print(tf_tensor == torch_to_tf)"
      ],
      "metadata": {
        "colab": {
          "base_uri": "https://localhost:8080/"
        },
        "id": "fii13QArv-6Z",
        "outputId": "72664582-a525-4212-c1a9-652982d1ef43"
      },
      "execution_count": null,
      "outputs": [
        {
          "output_type": "stream",
          "name": "stdout",
          "text": [
            "tensor([[[1]]])\n",
            "tensor([-1, -1, -1])\n",
            "2 1\n",
            "tf:  tf.Tensor([[-1]], shape=(1, 1), dtype=int32)\n",
            "\n",
            "\n",
            "torch.Size([3, 1]) torch.Size([1]) False 2 1\n",
            "res:  tensor([-1])\n",
            "shape:  torch.Size([1, 1])\n",
            "reshaped result:  tensor([[-1]])\n",
            "[1] torch.Size([1, 1]) tensor([[-1]]) torch.Size([3, 1]) torch.Size([1]) True False\n",
            "torch:  tensor([[-1]])\n",
            "torch.Size([3, 1]) torch.Size([1]) False 2 1\n",
            "res:  tensor([-1])\n",
            "shape:  torch.Size([1, 1])\n",
            "reshaped result:  tensor([[-1]])\n",
            "[1] torch.Size([1, 1]) tensor([[-1]]) torch.Size([3, 1]) torch.Size([1]) True False\n",
            "torch_to_tf:  tf.Tensor([[-1]], shape=(1, 1), dtype=int32)\n",
            "\n",
            "tf.Tensor([[ True]], shape=(1, 1), dtype=bool)\n"
          ]
        }
      ]
    },
    {
      "cell_type": "code",
      "source": [
        "torch.gather(torch.tensor([[-1], [-1], [-1]]), 0, torch.tensor([[1]]))"
      ],
      "metadata": {
        "colab": {
          "base_uri": "https://localhost:8080/"
        },
        "id": "AEh2tBe22iJB",
        "outputId": "7c604d26-87cc-4e53-b679-537e07fa8d06"
      },
      "execution_count": null,
      "outputs": [
        {
          "output_type": "execute_result",
          "data": {
            "text/plain": [
              "tensor([[-1]])"
            ]
          },
          "metadata": {},
          "execution_count": 20
        }
      ]
    },
    {
      "cell_type": "code",
      "source": [
        "params = torch.tensor([[0], [0], [1]])\n",
        "\n",
        "indices = torch.tensor([0])\n",
        "\n",
        "paramstf = tf.constant([[0], [0], [1]])\n",
        "\n",
        "indicestf = tf.constant([0])\n",
        "\n",
        "axis = 0\n",
        "batch_dims = 1\n",
        "\n",
        "print(params.dim(), indices.dim())\n",
        "\n",
        "print(\"tf: \", tf.gather(paramstf, indicestf, axis = axis, batch_dims = batch_dims))\n",
        "print()\n",
        "print()\n",
        "print(\"torch: \", gather(params, indices, axis = axis, batch_dims = batch_dims))\n",
        "tf_tensor = tf.gather(paramstf, indicestf, axis = axis, batch_dims = batch_dims)\n",
        "torch_tensor = gather(params, indices, axis = axis, batch_dims = batch_dims)\n",
        "torch_to_tf = tf.convert_to_tensor(torch_tensor, dtype = \"int32\")\n",
        "print(\"torch_to_tf: \", torch_to_tf)\n",
        "print()\n",
        "print(tf_tensor == torch_to_tf)"
      ],
      "metadata": {
        "id": "SGNyJUkv3GUW",
        "colab": {
          "base_uri": "https://localhost:8080/"
        },
        "outputId": "fcbfff0a-9efc-48ff-8bee-9d2a5b8f37aa"
      },
      "execution_count": null,
      "outputs": [
        {
          "output_type": "stream",
          "name": "stdout",
          "text": [
            "2 1\n",
            "tf:  tf.Tensor([[0]], shape=(1, 1), dtype=int32)\n",
            "\n",
            "\n",
            "torch.Size([1]) torch.Size([1])\n",
            "shape:  torch.Size([1])\n",
            "torch:  tensor([0])\n",
            "torch.Size([1]) torch.Size([1])\n",
            "shape:  torch.Size([1])\n",
            "torch_to_tf:  tf.Tensor([0], shape=(1,), dtype=int32)\n",
            "\n",
            "tf.Tensor([[ True]], shape=(1, 1), dtype=bool)\n"
          ]
        }
      ]
    },
    {
      "cell_type": "code",
      "source": [
        "params = torch.tensor([[0], [1]])\n",
        "\n",
        "indices = torch.tensor([[0], [0]])\n",
        "\n",
        "paramstf = tf.constant([[0], [1]])\n",
        "\n",
        "indicestf = tf.constant([[0]])\n",
        "\n",
        "axis = 1\n",
        "batch_dims = 0\n",
        "\n",
        "print(params.shape)\n",
        "print(indices.expand((indices.shape[0], params.shape[-1 - axis])))\n",
        "print(torch.gather(params, axis, indices))\n",
        "print(params.dim(), indices.dim())\n",
        "print(\"tf: \", tf.gather(paramstf, indicestf, axis = axis, batch_dims = batch_dims))\n",
        "print()\n",
        "print()\n",
        "print(\"torch: \", gather(params, indices, axis = axis, batch_dims = batch_dims))\n",
        "tf_tensor = tf.gather(paramstf, indicestf, axis = axis, batch_dims = batch_dims)\n",
        "torch_tensor = gather(params, indices, axis = axis, batch_dims = batch_dims)\n",
        "torch_to_tf = tf.convert_to_tensor(torch_tensor, dtype = \"int32\")\n",
        "print(\"torch_to_tf: \", torch_to_tf)\n",
        "print()\n",
        "print(tf_tensor == torch_to_tf)"
      ],
      "metadata": {
        "colab": {
          "base_uri": "https://localhost:8080/",
          "height": 644
        },
        "id": "oX8dX48VNUPF",
        "outputId": "5b1962ca-b67d-41ba-ce54-7f508d1738fb"
      },
      "execution_count": null,
      "outputs": [
        {
          "output_type": "stream",
          "name": "stdout",
          "text": [
            "torch.Size([2, 1])\n",
            "tensor([[0, 0],\n",
            "        [0, 0]])\n",
            "tensor([[0],\n",
            "        [1]])\n",
            "2 2\n",
            "tf:  tf.Tensor(\n",
            "[[[0]]\n",
            "\n",
            " [[1]]], shape=(2, 1, 1), dtype=int32)\n",
            "\n",
            "\n",
            "torch.Size([2, 1]) torch.Size([2, 1]) False 2 2\n",
            "else res:  tensor([[0],\n",
            "        [0]])\n",
            "shape:  torch.Size([2, 2, 1])\n"
          ]
        },
        {
          "output_type": "error",
          "ename": "RuntimeError",
          "evalue": "ignored",
          "traceback": [
            "\u001b[0;31m---------------------------------------------------------------------------\u001b[0m",
            "\u001b[0;31mRuntimeError\u001b[0m                              Traceback (most recent call last)",
            "\u001b[0;32m<ipython-input-22-19e929480e46>\u001b[0m in \u001b[0;36m<cell line: 19>\u001b[0;34m()\u001b[0m\n\u001b[1;32m     17\u001b[0m \u001b[0mprint\u001b[0m\u001b[0;34m(\u001b[0m\u001b[0;34m)\u001b[0m\u001b[0;34m\u001b[0m\u001b[0;34m\u001b[0m\u001b[0m\n\u001b[1;32m     18\u001b[0m \u001b[0mprint\u001b[0m\u001b[0;34m(\u001b[0m\u001b[0;34m)\u001b[0m\u001b[0;34m\u001b[0m\u001b[0;34m\u001b[0m\u001b[0m\n\u001b[0;32m---> 19\u001b[0;31m \u001b[0mprint\u001b[0m\u001b[0;34m(\u001b[0m\u001b[0;34m\"torch: \"\u001b[0m\u001b[0;34m,\u001b[0m \u001b[0mgather\u001b[0m\u001b[0;34m(\u001b[0m\u001b[0mparams\u001b[0m\u001b[0;34m,\u001b[0m \u001b[0mindices\u001b[0m\u001b[0;34m,\u001b[0m \u001b[0maxis\u001b[0m \u001b[0;34m=\u001b[0m \u001b[0maxis\u001b[0m\u001b[0;34m,\u001b[0m \u001b[0mbatch_dims\u001b[0m \u001b[0;34m=\u001b[0m \u001b[0mbatch_dims\u001b[0m\u001b[0;34m)\u001b[0m\u001b[0;34m)\u001b[0m\u001b[0;34m\u001b[0m\u001b[0;34m\u001b[0m\u001b[0m\n\u001b[0m\u001b[1;32m     20\u001b[0m \u001b[0mtf_tensor\u001b[0m \u001b[0;34m=\u001b[0m \u001b[0mtf\u001b[0m\u001b[0;34m.\u001b[0m\u001b[0mgather\u001b[0m\u001b[0;34m(\u001b[0m\u001b[0mparamstf\u001b[0m\u001b[0;34m,\u001b[0m \u001b[0mindicestf\u001b[0m\u001b[0;34m,\u001b[0m \u001b[0maxis\u001b[0m \u001b[0;34m=\u001b[0m \u001b[0maxis\u001b[0m\u001b[0;34m,\u001b[0m \u001b[0mbatch_dims\u001b[0m \u001b[0;34m=\u001b[0m \u001b[0mbatch_dims\u001b[0m\u001b[0;34m)\u001b[0m\u001b[0;34m\u001b[0m\u001b[0;34m\u001b[0m\u001b[0m\n\u001b[1;32m     21\u001b[0m \u001b[0mtorch_tensor\u001b[0m \u001b[0;34m=\u001b[0m \u001b[0mgather\u001b[0m\u001b[0;34m(\u001b[0m\u001b[0mparams\u001b[0m\u001b[0;34m,\u001b[0m \u001b[0mindices\u001b[0m\u001b[0;34m,\u001b[0m \u001b[0maxis\u001b[0m \u001b[0;34m=\u001b[0m \u001b[0maxis\u001b[0m\u001b[0;34m,\u001b[0m \u001b[0mbatch_dims\u001b[0m \u001b[0;34m=\u001b[0m \u001b[0mbatch_dims\u001b[0m\u001b[0;34m)\u001b[0m\u001b[0;34m\u001b[0m\u001b[0;34m\u001b[0m\u001b[0m\n",
            "\u001b[0;32m<ipython-input-8-0dc73dbf4f48>\u001b[0m in \u001b[0;36mgather\u001b[0;34m(params, indices, axis, batch_dims, out)\u001b[0m\n\u001b[1;32m     37\u001b[0m         print(\"shape: \", (params.shape[:axis] + indices.shape[batch_dims:]\n\u001b[1;32m     38\u001b[0m                                 + params.shape[axis + 1 :]))\n\u001b[0;32m---> 39\u001b[0;31m         result = result.reshape((params.shape[:axis] + indices.shape[batch_dims:]\n\u001b[0m\u001b[1;32m     40\u001b[0m                                 + params.shape[axis + 1 :])\n\u001b[1;32m     41\u001b[0m                                 )\n",
            "\u001b[0;31mRuntimeError\u001b[0m: shape '[2, 2, 1]' is invalid for input of size 2"
          ]
        }
      ]
    },
    {
      "cell_type": "code",
      "source": [
        "axis = 1\n",
        "batch_dims = 0\n",
        "\n",
        "params = torch.tensor([[[0], [2]]])\n",
        "\n",
        "indices = torch.tensor([[[0], [0]], [[0], [0]]])\n",
        "print(\"xxx: \", params.shape[:2] + indices.shape + params.shape[2 + 1:])\n",
        "#params = params.expand((1, 2, 2))\n",
        "#params = params.unsqueeze(-1).unsqueeze(-1)\n",
        "params = params.expand(params.shape[:axis] + indices.shape + params.shape[axis + 1:])\n",
        "print(\"params shape: \", params.shape)\n",
        "indices = indices.unsqueeze(0).unsqueeze(2)\n",
        "indices = indices.expand(params.shape)\n",
        "\n",
        "paramstf = tf.constant([[[0], [2]]])\n",
        "\n",
        "indicestf = tf.constant([[[0], [0]], [[0], [0]]])\n",
        "print(paramstf.shape, indicestf.shape)\n",
        "\n",
        "print(torch.gather(params, axis, indices))\n",
        "print(tf.gather(paramstf, indicestf, axis, batch_dims = batch_dims))"
      ],
      "metadata": {
        "id": "HbyMAtyBOX4L"
      },
      "execution_count": null,
      "outputs": []
    },
    {
      "cell_type": "code",
      "source": [
        "a = torch.tensor([[1, 2]])\n",
        "a.shape\n",
        "a0 = a.expand((3, 3, 2))\n",
        "a = a0.reshape((3, 3, 1, 2))\n",
        "a = a.expand((3, 3, 2, 2))\n",
        "ai0 = torch.ones((3, 2))\n",
        "ai = ai0.reshape((1, 3, 2, 1))\n",
        "ai = ai.expand((3, 3, 2, 2))\n",
        "\n",
        "b = [1 for dim in list(a.shape)]\n",
        "c = torch.Size(b)\n",
        "d = torch.ones(c)\n",
        "\n",
        "restorch = torch.gather(a, 1, ai.long())\n",
        "torch_to_tf_a = tf.convert_to_tensor(a0, dtype = \"int32\")\n",
        "torch_to_tf_ai = tf.convert_to_tensor(ai0, dtype = \"int32\")\n",
        "print(torch_to_tf_a.shape, torch_to_tf_ai.shape)\n",
        "restf = tf.gather(torch_to_tf_a, torch_to_tf_ai, axis = 1, batch_dims = 0)\n",
        "print(restf)\n",
        "print()\n",
        "print(restorch.shape)\n",
        "restf == tf.convert_to_tensor(restorch, dtype = \"int32\")\n"
      ],
      "metadata": {
        "colab": {
          "base_uri": "https://localhost:8080/"
        },
        "id": "-ofcesGfdRMd",
        "outputId": "1b286c1a-8a9d-42b3-f28c-3006c5533927"
      },
      "execution_count": null,
      "outputs": [
        {
          "output_type": "stream",
          "name": "stdout",
          "text": [
            "(3, 3, 2) (3, 2)\n",
            "tf.Tensor(\n",
            "[[[[1 2]\n",
            "   [1 2]]\n",
            "\n",
            "  [[1 2]\n",
            "   [1 2]]\n",
            "\n",
            "  [[1 2]\n",
            "   [1 2]]]\n",
            "\n",
            "\n",
            " [[[1 2]\n",
            "   [1 2]]\n",
            "\n",
            "  [[1 2]\n",
            "   [1 2]]\n",
            "\n",
            "  [[1 2]\n",
            "   [1 2]]]\n",
            "\n",
            "\n",
            " [[[1 2]\n",
            "   [1 2]]\n",
            "\n",
            "  [[1 2]\n",
            "   [1 2]]\n",
            "\n",
            "  [[1 2]\n",
            "   [1 2]]]], shape=(3, 3, 2, 2), dtype=int32)\n",
            "\n",
            "torch.Size([3, 3, 2, 2])\n"
          ]
        },
        {
          "output_type": "execute_result",
          "data": {
            "text/plain": [
              "<tf.Tensor: shape=(3, 3, 2, 2), dtype=bool, numpy=\n",
              "array([[[[ True,  True],\n",
              "         [ True,  True]],\n",
              "\n",
              "        [[ True,  True],\n",
              "         [ True,  True]],\n",
              "\n",
              "        [[ True,  True],\n",
              "         [ True,  True]]],\n",
              "\n",
              "\n",
              "       [[[ True,  True],\n",
              "         [ True,  True]],\n",
              "\n",
              "        [[ True,  True],\n",
              "         [ True,  True]],\n",
              "\n",
              "        [[ True,  True],\n",
              "         [ True,  True]]],\n",
              "\n",
              "\n",
              "       [[[ True,  True],\n",
              "         [ True,  True]],\n",
              "\n",
              "        [[ True,  True],\n",
              "         [ True,  True]],\n",
              "\n",
              "        [[ True,  True],\n",
              "         [ True,  True]]]])>"
            ]
          },
          "metadata": {},
          "execution_count": 78
        }
      ]
    },
    {
      "cell_type": "code",
      "source": [
        "params = torch.tensor([1])\n",
        "\n",
        "indices = torch.tensor([[0], [0]])\n",
        "\n",
        "paramstf = tf.constant([1])\n",
        "\n",
        "indicestf = tf.constant([[0], [0]])\n",
        "\n",
        "axis = -1\n",
        "batch_dims = 0\n",
        "\n",
        "print(params.shape)\n",
        "print(indices.expand((indices.shape[0], params.shape[-1 - axis])))\n",
        "print(params.shape[:axis] , indices.shape[batch_dims:] , params.shape[axis + 1:])\n",
        "print(params.dim(), indices.dim())\n",
        "print(\"tf: \", tf.gather(paramstf, indicestf, axis = axis, batch_dims = batch_dims))\n",
        "print()\n",
        "print()\n",
        "print(\"torch: \", gather(params, indices, axis = axis, batch_dims = batch_dims))\n",
        "tf_tensor = tf.gather(paramstf, indicestf, axis = axis, batch_dims = batch_dims)\n",
        "torch_tensor = gather(params, indices, axis = axis, batch_dims = batch_dims)\n",
        "torch_to_tf = tf.convert_to_tensor(torch_tensor, dtype = \"int32\")\n",
        "print(\"torch_to_tf: \", torch_to_tf)\n",
        "print()"
      ],
      "metadata": {
        "id": "ImdDZFpWxmd4",
        "colab": {
          "base_uri": "https://localhost:8080/",
          "height": 564
        },
        "outputId": "d28807fe-1f15-48d5-e55f-6abc72749fc0"
      },
      "execution_count": 14,
      "outputs": [
        {
          "output_type": "stream",
          "name": "stdout",
          "text": [
            "torch.Size([1])\n",
            "tensor([[0],\n",
            "        [0]])\n",
            "torch.Size([]) torch.Size([2, 1]) torch.Size([1])\n",
            "1 2\n",
            "tf:  tf.Tensor(\n",
            "[[1]\n",
            " [1]], shape=(2, 1), dtype=int32)\n",
            "\n",
            "\n"
          ]
        },
        {
          "output_type": "error",
          "ename": "RuntimeError",
          "evalue": "ignored",
          "traceback": [
            "\u001b[0;31m---------------------------------------------------------------------------\u001b[0m",
            "\u001b[0;31mRuntimeError\u001b[0m                              Traceback (most recent call last)",
            "\u001b[0;32m<ipython-input-14-865da49a7a84>\u001b[0m in \u001b[0;36m<cell line: 19>\u001b[0;34m()\u001b[0m\n\u001b[1;32m     17\u001b[0m \u001b[0mprint\u001b[0m\u001b[0;34m(\u001b[0m\u001b[0;34m)\u001b[0m\u001b[0;34m\u001b[0m\u001b[0;34m\u001b[0m\u001b[0m\n\u001b[1;32m     18\u001b[0m \u001b[0mprint\u001b[0m\u001b[0;34m(\u001b[0m\u001b[0;34m)\u001b[0m\u001b[0;34m\u001b[0m\u001b[0;34m\u001b[0m\u001b[0m\n\u001b[0;32m---> 19\u001b[0;31m \u001b[0mprint\u001b[0m\u001b[0;34m(\u001b[0m\u001b[0;34m\"torch: \"\u001b[0m\u001b[0;34m,\u001b[0m \u001b[0mgather\u001b[0m\u001b[0;34m(\u001b[0m\u001b[0mparams\u001b[0m\u001b[0;34m,\u001b[0m \u001b[0mindices\u001b[0m\u001b[0;34m,\u001b[0m \u001b[0maxis\u001b[0m \u001b[0;34m=\u001b[0m \u001b[0maxis\u001b[0m\u001b[0;34m,\u001b[0m \u001b[0mbatch_dims\u001b[0m \u001b[0;34m=\u001b[0m \u001b[0mbatch_dims\u001b[0m\u001b[0;34m)\u001b[0m\u001b[0;34m)\u001b[0m\u001b[0;34m\u001b[0m\u001b[0;34m\u001b[0m\u001b[0m\n\u001b[0m\u001b[1;32m     20\u001b[0m \u001b[0mtf_tensor\u001b[0m \u001b[0;34m=\u001b[0m \u001b[0mtf\u001b[0m\u001b[0;34m.\u001b[0m\u001b[0mgather\u001b[0m\u001b[0;34m(\u001b[0m\u001b[0mparamstf\u001b[0m\u001b[0;34m,\u001b[0m \u001b[0mindicestf\u001b[0m\u001b[0;34m,\u001b[0m \u001b[0maxis\u001b[0m \u001b[0;34m=\u001b[0m \u001b[0maxis\u001b[0m\u001b[0;34m,\u001b[0m \u001b[0mbatch_dims\u001b[0m \u001b[0;34m=\u001b[0m \u001b[0mbatch_dims\u001b[0m\u001b[0;34m)\u001b[0m\u001b[0;34m\u001b[0m\u001b[0;34m\u001b[0m\u001b[0m\n\u001b[1;32m     21\u001b[0m \u001b[0mtorch_tensor\u001b[0m \u001b[0;34m=\u001b[0m \u001b[0mgather\u001b[0m\u001b[0;34m(\u001b[0m\u001b[0mparams\u001b[0m\u001b[0;34m,\u001b[0m \u001b[0mindices\u001b[0m\u001b[0;34m,\u001b[0m \u001b[0maxis\u001b[0m \u001b[0;34m=\u001b[0m \u001b[0maxis\u001b[0m\u001b[0;34m,\u001b[0m \u001b[0mbatch_dims\u001b[0m \u001b[0;34m=\u001b[0m \u001b[0mbatch_dims\u001b[0m\u001b[0;34m)\u001b[0m\u001b[0;34m\u001b[0m\u001b[0;34m\u001b[0m\u001b[0m\n",
            "\u001b[0;32m<ipython-input-6-ff73540cb382>\u001b[0m in \u001b[0;36mgather\u001b[0;34m(params, indices, axis, batch_dims, out)\u001b[0m\n\u001b[1;32m     39\u001b[0m         \u001b[0mdim_diff\u001b[0m \u001b[0;34m=\u001b[0m \u001b[0mparams\u001b[0m\u001b[0;34m.\u001b[0m\u001b[0mdim\u001b[0m\u001b[0;34m(\u001b[0m\u001b[0;34m)\u001b[0m \u001b[0;34m-\u001b[0m \u001b[0mindices\u001b[0m\u001b[0;34m.\u001b[0m\u001b[0mdim\u001b[0m\u001b[0;34m(\u001b[0m\u001b[0;34m)\u001b[0m\u001b[0;34m\u001b[0m\u001b[0;34m\u001b[0m\u001b[0m\n\u001b[1;32m     40\u001b[0m         \u001b[0;32mif\u001b[0m \u001b[0mdim_diff\u001b[0m \u001b[0;34m!=\u001b[0m \u001b[0;36m0\u001b[0m\u001b[0;34m:\u001b[0m\u001b[0;34m\u001b[0m\u001b[0;34m\u001b[0m\u001b[0m\n\u001b[0;32m---> 41\u001b[0;31m             \u001b[0mparams_expanded\u001b[0m\u001b[0;34m,\u001b[0m \u001b[0mindices_expanded\u001b[0m \u001b[0;34m=\u001b[0m \u001b[0mexpand_p_i\u001b[0m\u001b[0;34m(\u001b[0m\u001b[0mparams\u001b[0m\u001b[0;34m,\u001b[0m \u001b[0mindices\u001b[0m\u001b[0;34m)\u001b[0m\u001b[0;34m\u001b[0m\u001b[0;34m\u001b[0m\u001b[0m\n\u001b[0m\u001b[1;32m     42\u001b[0m             result = torch.gather(\n\u001b[1;32m     43\u001b[0m                                     \u001b[0mparams_expanded\u001b[0m\u001b[0;34m,\u001b[0m \u001b[0maxis\u001b[0m\u001b[0;34m,\u001b[0m\u001b[0;34m\u001b[0m\u001b[0;34m\u001b[0m\u001b[0m\n",
            "\u001b[0;32m<ipython-input-6-ff73540cb382>\u001b[0m in \u001b[0;36mexpand_p_i\u001b[0;34m(params, indices)\u001b[0m\n\u001b[1;32m     32\u001b[0m            \u001b[0;34m+\u001b[0m \u001b[0mindices\u001b[0m\u001b[0;34m.\u001b[0m\u001b[0mshape\u001b[0m\u001b[0;34m[\u001b[0m\u001b[0mbatch_dims\u001b[0m\u001b[0;34m:\u001b[0m\u001b[0;34m]\u001b[0m\u001b[0;34m\u001b[0m\u001b[0;34m\u001b[0m\u001b[0m\n\u001b[1;32m     33\u001b[0m            + params.shape[axis + 1:]) != indices_ex.shape:\n\u001b[0;32m---> 34\u001b[0;31m             indices_ex = indices_ex.expand(params.shape[:axis]\n\u001b[0m\u001b[1;32m     35\u001b[0m                                            \u001b[0;34m+\u001b[0m \u001b[0mindices\u001b[0m\u001b[0;34m.\u001b[0m\u001b[0mshape\u001b[0m\u001b[0;34m[\u001b[0m\u001b[0mbatch_dims\u001b[0m\u001b[0;34m:\u001b[0m\u001b[0;34m]\u001b[0m\u001b[0;34m\u001b[0m\u001b[0;34m\u001b[0m\u001b[0m\n\u001b[1;32m     36\u001b[0m                                            + params.shape[axis + 1:])\n",
            "\u001b[0;31mRuntimeError\u001b[0m: expand(torch.LongTensor{[2, 1, 1]}, size=[2, 1]): the number of sizes provided (2) must be greater or equal to the number of dimensions in the tensor (3)"
          ]
        }
      ]
    },
    {
      "cell_type": "code",
      "source": [],
      "metadata": {
        "id": "yitiyZxikn2c"
      },
      "execution_count": null,
      "outputs": []
    }
  ]
}