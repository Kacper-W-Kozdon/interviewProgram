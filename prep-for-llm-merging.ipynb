{
 "cells": [
  {
   "cell_type": "markdown",
   "id": "d3d5f96c",
   "metadata": {
    "id": "view-in-github",
    "papermill": {
     "duration": 0.004235,
     "end_time": "2024-06-30T18:31:52.590234",
     "exception": false,
     "start_time": "2024-06-30T18:31:52.585999",
     "status": "completed"
    },
    "tags": []
   },
   "source": [
    "<a href=\"https://colab.research.google.com/github/Kacper-W-Kozdon/interviewProgram/blob/main/LLM_merging.ipynb\" target=\"_parent\"><img src=\"https://colab.research.google.com/assets/colab-badge.svg\" alt=\"Open In Colab\"/></a>"
   ]
  },
  {
   "cell_type": "code",
   "execution_count": 1,
   "id": "4cc7bf09",
   "metadata": {
    "execution": {
     "iopub.execute_input": "2024-06-30T18:31:52.598929Z",
     "iopub.status.busy": "2024-06-30T18:31:52.598356Z",
     "iopub.status.idle": "2024-06-30T18:32:11.106126Z",
     "shell.execute_reply": "2024-06-30T18:32:11.105216Z"
    },
    "id": "BcYxpDTx7arA",
    "outputId": "d08d64ad-06a8-4983-a3d5-c81e4122bff9",
    "papermill": {
     "duration": 18.514742,
     "end_time": "2024-06-30T18:32:11.108604",
     "exception": false,
     "start_time": "2024-06-30T18:31:52.593862",
     "status": "completed"
    },
    "tags": []
   },
   "outputs": [
    {
     "name": "stdout",
     "output_type": "stream",
     "text": [
      "Collecting utils\r\n",
      "  Downloading utils-1.0.2.tar.gz (13 kB)\r\n",
      "  Preparing metadata (setup.py) ... \u001b[?25l-\b \bdone\r\n",
      "\u001b[?25hBuilding wheels for collected packages: utils\r\n",
      "  Building wheel for utils (setup.py) ... \u001b[?25l-\b \b\\\b \bdone\r\n",
      "\u001b[?25h  Created wheel for utils: filename=utils-1.0.2-py2.py3-none-any.whl size=13905 sha256=efeb410e444cf571513e6a10bc4d9025c3b313aeaf1e3ecb1cf7507466182f96\r\n",
      "  Stored in directory: /root/.cache/pip/wheels/b8/39/f5/9d0ca31dba85773ececf0a7f5469f18810e1c8a8ed9da28ca7\r\n",
      "Successfully built utils\r\n",
      "Installing collected packages: utils\r\n",
      "Successfully installed utils-1.0.2\r\n"
     ]
    }
   ],
   "source": [
    "!pip install utils"
   ]
  },
  {
   "cell_type": "code",
   "execution_count": 2,
   "id": "0cb9aaba",
   "metadata": {
    "execution": {
     "iopub.execute_input": "2024-06-30T18:32:11.119863Z",
     "iopub.status.busy": "2024-06-30T18:32:11.119029Z",
     "iopub.status.idle": "2024-06-30T18:32:18.037149Z",
     "shell.execute_reply": "2024-06-30T18:32:18.036350Z"
    },
    "id": "vJPnutLt7MeL",
    "papermill": {
     "duration": 6.926062,
     "end_time": "2024-06-30T18:32:18.039431",
     "exception": false,
     "start_time": "2024-06-30T18:32:11.113369",
     "status": "completed"
    },
    "tags": []
   },
   "outputs": [],
   "source": [
    "import torch\n",
    "import torch.nn.functional as F\n",
    "from torch.utils.data import Dataset, DataLoader\n",
    "import torch.multiprocessing as mp\n",
    "from torch.utils.data.distributed import DistributedSampler\n",
    "from torch.nn.parallel import DistributedDataParallel as DDP\n",
    "from torch.distributed import init_process_group, destroy_process_group\n",
    "import os"
   ]
  },
  {
   "cell_type": "code",
   "execution_count": 3,
   "id": "55713c01",
   "metadata": {
    "execution": {
     "iopub.execute_input": "2024-06-30T18:32:18.049588Z",
     "iopub.status.busy": "2024-06-30T18:32:18.049166Z",
     "iopub.status.idle": "2024-06-30T18:32:18.054741Z",
     "shell.execute_reply": "2024-06-30T18:32:18.053906Z"
    },
    "id": "-xowNb_H9Dtk",
    "papermill": {
     "duration": 0.012656,
     "end_time": "2024-06-30T18:32:18.056568",
     "exception": false,
     "start_time": "2024-06-30T18:32:18.043912",
     "status": "completed"
    },
    "tags": []
   },
   "outputs": [],
   "source": [
    "class MyTrainDataset(Dataset):\n",
    "    def __init__(self, size):\n",
    "        self.size = size\n",
    "        self.data = [(torch.rand(20), torch.rand(1)) for _ in range(size)]\n",
    "\n",
    "    def __len__(self):\n",
    "        return self.size\n",
    "\n",
    "    def __getitem__(self, index):\n",
    "        return self.data[index]"
   ]
  },
  {
   "cell_type": "code",
   "execution_count": 4,
   "id": "5a1e809c",
   "metadata": {
    "execution": {
     "iopub.execute_input": "2024-06-30T18:32:18.065976Z",
     "iopub.status.busy": "2024-06-30T18:32:18.065705Z",
     "iopub.status.idle": "2024-06-30T18:32:18.094305Z",
     "shell.execute_reply": "2024-06-30T18:32:18.093412Z"
    },
    "id": "K56br4MD9SBk",
    "outputId": "e0b4e810-6ddf-4347-b2c4-b0ca9b3fbfae",
    "papermill": {
     "duration": 0.035746,
     "end_time": "2024-06-30T18:32:18.096518",
     "exception": false,
     "start_time": "2024-06-30T18:32:18.060772",
     "status": "completed"
    },
    "tags": []
   },
   "outputs": [
    {
     "data": {
      "text/plain": [
       "[0, 1]"
      ]
     },
     "execution_count": 4,
     "metadata": {},
     "output_type": "execute_result"
    }
   ],
   "source": [
    "list(range(torch.cuda.device_count()))"
   ]
  },
  {
   "cell_type": "code",
   "execution_count": 5,
   "id": "a0821908",
   "metadata": {
    "execution": {
     "iopub.execute_input": "2024-06-30T18:32:18.107058Z",
     "iopub.status.busy": "2024-06-30T18:32:18.106791Z",
     "iopub.status.idle": "2024-06-30T18:32:18.112410Z",
     "shell.execute_reply": "2024-06-30T18:32:18.111478Z"
    },
    "id": "MsIgJGXM7QFZ",
    "papermill": {
     "duration": 0.013081,
     "end_time": "2024-06-30T18:32:18.114331",
     "exception": false,
     "start_time": "2024-06-30T18:32:18.101250",
     "status": "completed"
    },
    "tags": []
   },
   "outputs": [],
   "source": [
    "def ddp_setup(rank: int, world_size: int):\n",
    "  \"\"\"\n",
    "  Args:\n",
    "    rank: Unique identifier of each process\n",
    "    world_size: Total number of processes\n",
    "  \"\"\"\n",
    "  os.environ[\"MASTER_ADDR\"] = \"localhost\"\n",
    "  os.environ[\"MASTER_PORT\"] = \"12355\"\n",
    "  torch.cuda.set_device(rank)\n",
    "  init_process_group(backend=\"nccl\", rank=rank, world_size=world_size)"
   ]
  },
  {
   "cell_type": "code",
   "execution_count": 6,
   "id": "1b032174",
   "metadata": {
    "execution": {
     "iopub.execute_input": "2024-06-30T18:32:18.124400Z",
     "iopub.status.busy": "2024-06-30T18:32:18.124100Z",
     "iopub.status.idle": "2024-06-30T18:32:18.604714Z",
     "shell.execute_reply": "2024-06-30T18:32:18.603781Z"
    },
    "papermill": {
     "duration": 0.488756,
     "end_time": "2024-06-30T18:32:18.607620",
     "exception": false,
     "start_time": "2024-06-30T18:32:18.118864",
     "status": "completed"
    },
    "tags": []
   },
   "outputs": [
    {
     "name": "stdout",
     "output_type": "stream",
     "text": [
      "True\n",
      "True\n",
      "tensor([[0.4588, 0.0617, 0.0218, 0.2208, 0.1847, 0.6406, 0.1069, 0.2273, 0.5167,\n",
      "         0.3197, 0.9355, 0.8904, 0.8244, 0.6202, 0.7250, 0.7836, 0.2642, 0.0367,\n",
      "         0.7245, 0.7136],\n",
      "        [0.8176, 0.7705, 0.3905, 0.2149, 0.1953, 0.6203, 0.9774, 0.0050, 0.4069,\n",
      "         0.4900, 0.6791, 0.6827, 0.2961, 0.8894, 0.7269, 0.2790, 0.5959, 0.8519,\n",
      "         0.4259, 0.2310]]) tensor([[0.4132],\n",
      "        [0.0629]])\n",
      "True\n",
      "True\n",
      "tensor([[0.3880, 0.6003, 0.3738, 0.5135, 0.7288, 0.5721, 0.0648, 0.6089, 0.3998,\n",
      "         0.2103, 0.9953, 0.4873, 0.6212, 0.9227, 0.5796, 0.3169, 0.4875, 0.3299,\n",
      "         0.6481, 0.9214],\n",
      "        [0.0502, 0.7751, 0.5270, 0.9884, 0.5388, 0.1286, 0.9643, 0.3412, 0.7133,\n",
      "         0.6388, 0.7966, 0.3590, 0.8804, 0.8415, 0.3070, 0.4131, 0.6052, 0.6359,\n",
      "         0.9488, 0.0736]]) tensor([[0.6195],\n",
      "        [0.6923]])\n",
      "True\n",
      "True\n",
      "tensor([[0.0088, 0.5590, 0.4109, 0.4946, 0.4972, 0.9402, 0.2089, 0.2196, 0.8965,\n",
      "         0.7941, 0.6928, 0.5174, 0.2281, 0.8549, 0.5747, 0.7787, 0.4308, 0.4742,\n",
      "         0.0067, 0.2363],\n",
      "        [0.9280, 0.0676, 0.7614, 0.2611, 0.3636, 0.3822, 0.1601, 0.0406, 0.2426,\n",
      "         0.0515, 0.5767, 0.5488, 0.0998, 0.3517, 0.5751, 0.2782, 0.3312, 0.9968,\n",
      "         0.5818, 0.1176]]) tensor([[0.8297],\n",
      "        [0.7767]])\n",
      "True\n",
      "True\n",
      "tensor([[0.2841, 0.6851, 0.5939, 0.7398, 0.6932, 0.4544, 0.4040, 0.7499, 0.4273,\n",
      "         0.2138, 0.6647, 0.3522, 0.7470, 0.0868, 0.6379, 0.1436, 0.9675, 0.9945,\n",
      "         0.0277, 0.0697],\n",
      "        [0.8226, 0.5591, 0.7291, 0.8608, 0.5936, 0.5468, 0.4244, 0.4286, 0.0494,\n",
      "         0.5832, 0.3735, 0.2903, 0.0946, 0.7606, 0.0197, 0.7909, 0.5972, 0.6877,\n",
      "         0.5249, 0.0679]]) tensor([[0.9168],\n",
      "        [0.8097]])\n",
      "True\n",
      "True\n",
      "tensor([[0.6659, 0.0564, 0.2924, 0.8191, 0.2562, 0.7609, 0.6181, 0.7188, 0.5620,\n",
      "         0.7972, 0.7558, 0.1465, 0.4335, 0.0999, 0.3276, 0.5742, 0.1917, 0.6241,\n",
      "         0.2777, 0.9067],\n",
      "        [0.7473, 0.2685, 0.8981, 0.6636, 0.6760, 0.0012, 0.3143, 0.7937, 0.5500,\n",
      "         0.3618, 0.9737, 0.5171, 0.9931, 0.6287, 0.3142, 0.6411, 0.8924, 0.6069,\n",
      "         0.1081, 0.9825]]) tensor([[0.9642],\n",
      "        [0.4516]])\n",
      "True\n",
      "True\n",
      "tensor([[0.5383, 0.7393, 0.2266, 0.5428, 0.3573, 0.5006, 0.2689, 0.8344, 0.4591,\n",
      "         0.3335, 0.6354, 0.8337, 0.6393, 0.6407, 0.0339, 0.4742, 0.8610, 0.8086,\n",
      "         0.6444, 0.2721],\n",
      "        [0.0208, 0.8886, 0.3349, 0.7070, 0.6467, 0.8092, 0.4014, 0.1566, 0.1287,\n",
      "         0.0764, 0.5475, 0.8885, 0.7898, 0.2247, 0.7335, 0.3530, 0.8882, 0.9019,\n",
      "         0.1787, 0.1746]]) tensor([[0.8545],\n",
      "        [0.5835]])\n",
      "True\n",
      "True\n",
      "tensor([[0.7119, 0.7327, 0.5786, 0.7127, 0.1649, 0.0657, 0.0541, 0.1662, 0.7672,\n",
      "         0.9011, 0.8275, 0.1294, 0.0667, 0.0738, 0.0232, 0.4051, 0.9866, 0.1354,\n",
      "         0.5546, 0.2102],\n",
      "        [0.4872, 0.6911, 0.6587, 0.9972, 0.6143, 0.7639, 0.8803, 0.3955, 0.0939,\n",
      "         0.2858, 0.1693, 0.0030, 0.2452, 0.9225, 0.8541, 0.4820, 0.7190, 0.3523,\n",
      "         0.1386, 0.4538]]) tensor([[0.3446],\n",
      "        [0.5694]])\n",
      "True\n",
      "True\n",
      "tensor([[0.1527, 0.3616, 0.2796, 0.7141, 0.9295, 0.0089, 0.0416, 0.0485, 0.5210,\n",
      "         0.6235, 0.1222, 0.9340, 0.6705, 0.3450, 0.1491, 0.9764, 0.8152, 0.2528,\n",
      "         0.1244, 0.7767],\n",
      "        [0.6691, 0.7356, 0.6376, 0.9245, 0.7316, 0.1720, 0.7301, 0.8852, 0.6775,\n",
      "         0.5039, 0.9203, 0.8655, 0.6683, 0.3532, 0.0499, 0.5552, 0.5100, 0.4587,\n",
      "         0.2337, 0.9197]]) tensor([[0.9013],\n",
      "        [0.7446]])\n",
      "True\n",
      "True\n",
      "tensor([[0.5334, 0.8768, 0.3135, 0.1719, 0.3588, 0.0924, 0.1607, 0.9150, 0.6605,\n",
      "         0.9031, 0.4109, 0.6995, 0.4819, 0.1409, 0.5726, 0.6853, 0.5536, 0.6914,\n",
      "         0.8130, 0.7655],\n",
      "        [0.4090, 0.8127, 0.1519, 0.4493, 0.2646, 0.5534, 0.1444, 0.4468, 0.6061,\n",
      "         0.9935, 0.4228, 0.2949, 0.8651, 0.8450, 0.8185, 0.7902, 0.1296, 0.4937,\n",
      "         0.8418, 0.9105]]) tensor([[0.1586],\n",
      "        [0.4611]])\n",
      "True\n",
      "True\n",
      "tensor([[0.2279, 0.5957, 0.0097, 0.0214, 0.2623, 0.2760, 0.2577, 0.1902, 0.0323,\n",
      "         0.2111, 0.9397, 0.6212, 0.5318, 0.5333, 0.3824, 0.0689, 0.5978, 0.6118,\n",
      "         0.4632, 0.8596],\n",
      "        [0.0272, 0.1662, 0.2069, 0.0765, 0.5073, 0.8698, 0.5496, 0.7911, 0.5916,\n",
      "         0.8279, 0.1886, 0.0474, 0.9433, 0.0529, 0.6845, 0.3712, 0.5315, 0.8180,\n",
      "         0.6793, 0.8256]]) tensor([[0.4134],\n",
      "        [0.5909]])\n",
      "True\n",
      "True\n",
      "tensor([[0.4133, 0.1994, 0.8950, 0.4970, 0.5449, 0.0200, 0.2912, 0.0242, 0.5639,\n",
      "         0.9633, 0.3171, 0.8270, 0.5737, 0.7964, 0.4582, 0.1977, 0.0408, 0.8349,\n",
      "         0.0118, 0.2008],\n",
      "        [0.5024, 0.3604, 0.2375, 0.6363, 0.6969, 0.6299, 0.2302, 0.5817, 0.0135,\n",
      "         0.3298, 0.3429, 0.8973, 0.0214, 0.1610, 0.2019, 0.6651, 0.6048, 0.0329,\n",
      "         0.2494, 0.6662]]) tensor([[0.2557],\n",
      "        [0.0027]])\n",
      "True\n",
      "True\n",
      "tensor([[0.1934, 0.3630, 0.7201, 0.9794, 0.4356, 0.1283, 0.1043, 0.5211, 0.0179,\n",
      "         0.1933, 0.7368, 0.6766, 0.1776, 0.9874, 0.6375, 0.3325, 0.3904, 0.4306,\n",
      "         0.2280, 0.3866],\n",
      "        [0.8022, 0.8808, 0.5254, 0.4887, 0.9321, 0.5341, 0.4030, 0.4809, 0.8663,\n",
      "         0.7767, 0.4270, 0.8135, 0.5404, 0.4774, 0.7245, 0.5384, 0.1891, 0.8184,\n",
      "         0.6389, 0.0244]]) tensor([[0.6775],\n",
      "        [0.3347]])\n",
      "True\n",
      "True\n",
      "tensor([[0.8955, 0.8307, 0.5849, 0.6781, 0.4032, 0.5166, 0.8834, 0.9134, 0.8960,\n",
      "         0.5858, 0.8403, 0.1903, 0.4504, 0.2062, 0.9104, 0.7672, 0.8680, 0.3931,\n",
      "         0.4259, 0.8159],\n",
      "        [0.6407, 0.8503, 0.3664, 0.5451, 0.2602, 0.2697, 0.1991, 0.3290, 0.9789,\n",
      "         0.4632, 0.4734, 0.8157, 0.8943, 0.0515, 0.1161, 0.9951, 0.7550, 0.9317,\n",
      "         0.6875, 0.3433]]) tensor([[0.5039],\n",
      "        [0.8859]])\n",
      "True\n",
      "True\n",
      "tensor([[0.4866, 0.7357, 0.9509, 0.3840, 0.3545, 0.0365, 0.7742, 0.9297, 0.0156,\n",
      "         0.3730, 0.7178, 0.4614, 0.7244, 0.0115, 0.7866, 0.0189, 0.9929, 0.0368,\n",
      "         0.6949, 0.1969],\n",
      "        [0.3495, 0.3634, 0.6506, 0.8686, 0.9136, 0.6365, 0.8839, 0.8062, 0.4503,\n",
      "         0.3085, 0.5636, 0.4354, 0.3124, 0.0252, 0.4385, 0.7064, 0.1510, 0.1718,\n",
      "         0.9907, 0.9897]]) tensor([[0.6780],\n",
      "        [0.7818]])\n",
      "True\n",
      "True\n",
      "tensor([[0.6963, 0.2623, 0.4380, 0.3418, 0.7242, 0.9489, 0.0039, 0.4984, 0.9079,\n",
      "         0.0193, 0.8356, 0.0297, 0.8171, 0.9519, 0.9364, 0.6481, 0.7740, 0.9778,\n",
      "         0.1256, 0.2803],\n",
      "        [0.7594, 0.9983, 0.0659, 0.1689, 0.2653, 0.9773, 0.1363, 0.8861, 0.3631,\n",
      "         0.1712, 0.0745, 0.6443, 0.0016, 0.8708, 0.2862, 0.5331, 0.2178, 0.5678,\n",
      "         0.3010, 0.0572]]) tensor([[0.4702],\n",
      "        [0.1204]])\n",
      "True\n",
      "True\n",
      "tensor([[0.5913, 0.7328, 0.7380, 0.0059, 0.9759, 0.6201, 0.6756, 0.3960, 0.5011,\n",
      "         0.8601, 0.6597, 0.6368, 0.0107, 0.3641, 0.1459, 0.8282, 0.3340, 0.4760,\n",
      "         0.2753, 0.9561],\n",
      "        [0.8454, 0.8110, 0.1757, 0.5395, 0.7639, 0.5260, 0.5694, 0.4806, 0.9253,\n",
      "         0.9081, 0.3662, 0.5232, 0.1524, 0.0661, 0.5393, 0.8385, 0.1854, 0.1096,\n",
      "         0.0520, 0.0978]]) tensor([[0.5973],\n",
      "        [0.3154]])\n"
     ]
    }
   ],
   "source": [
    "class SimpleCustomBatch:\n",
    "    def __init__(self, data):\n",
    "        transposed_data = list(zip(*data))\n",
    "        self.inp = torch.stack(transposed_data[0], 0)\n",
    "        self.tgt = torch.stack(transposed_data[1], 0)\n",
    "\n",
    "    # custom memory pinning method on custom type\n",
    "    def pin_memory(self):\n",
    "        self.inp = self.inp.pin_memory()\n",
    "        self.tgt = self.tgt.pin_memory()\n",
    "        return self\n",
    "\n",
    "def collate_wrapper(batch):\n",
    "    return SimpleCustomBatch(batch)\n",
    "\n",
    "inps = torch.arange(10 * 5, dtype=torch.float32).view(10, 5)\n",
    "tgts = torch.arange(10 * 5, dtype=torch.float32).view(10, 5)\n",
    "dataset = MyTrainDataset(32).data\n",
    "\n",
    "loader = DataLoader(dataset, batch_size=2, collate_fn=collate_wrapper,\n",
    "                    pin_memory=True)\n",
    "\n",
    "\n",
    "for batch_ndx, sample in enumerate(loader):\n",
    "    print(sample.inp.is_pinned())\n",
    "    print(sample.tgt.is_pinned())\n",
    "    print(sample.inp, sample.tgt)"
   ]
  },
  {
   "cell_type": "code",
   "execution_count": 7,
   "id": "1dd13c01",
   "metadata": {
    "execution": {
     "iopub.execute_input": "2024-06-30T18:32:18.618400Z",
     "iopub.status.busy": "2024-06-30T18:32:18.618077Z",
     "iopub.status.idle": "2024-06-30T18:32:18.633057Z",
     "shell.execute_reply": "2024-06-30T18:32:18.632138Z"
    },
    "id": "OMrCYTgp9_tm",
    "papermill": {
     "duration": 0.022503,
     "end_time": "2024-06-30T18:32:18.634993",
     "exception": false,
     "start_time": "2024-06-30T18:32:18.612490",
     "status": "completed"
    },
    "tags": []
   },
   "outputs": [],
   "source": [
    "class Trainer:\n",
    "    def __init__(\n",
    "        self,\n",
    "        model: torch.nn.Module,\n",
    "        train_data: DataLoader,\n",
    "        optimizer: torch.optim.Optimizer,\n",
    "        gpu_id: int,\n",
    "        save_every: int,\n",
    "    ) -> None:\n",
    "        self.gpu_id = gpu_id\n",
    "        self.model = model.to(gpu_id)\n",
    "        self.train_data = train_data\n",
    "        self.optimizer = optimizer\n",
    "        self.save_every = save_every\n",
    "        self.model = DDP(model, device_ids=[gpu_id])\n",
    "\n",
    "    def _run_batch(self, source, targets):\n",
    "        self.optimizer.zero_grad()\n",
    "        output = self.model(source)\n",
    "        loss = F.cross_entropy(output, targets)\n",
    "        loss.backward()\n",
    "        self.optimizer.step()\n",
    "\n",
    "    def _run_epoch(self, epoch):\n",
    "        b_sz = len(next(iter(self.train_data))[0])\n",
    "        print(f\"[GPU{self.gpu_id}] Epoch {epoch} | Batchsize: {b_sz} | Steps: {len(self.train_data)}\")\n",
    "        self.train_data.sampler.set_epoch(epoch)\n",
    "        for source, targets in self.train_data:\n",
    "            source = source.to(self.gpu_id)\n",
    "            targets = targets.to(self.gpu_id)\n",
    "            self._run_batch(source, targets)\n",
    "\n",
    "    def _save_checkpoint(self, epoch):\n",
    "        ckp = self.model.module.state_dict()\n",
    "        PATH = \"checkpoint.pt\"\n",
    "        torch.save(ckp, PATH)\n",
    "        print(f\"Epoch {epoch} | Training checkpoint saved at {PATH}\")\n",
    "\n",
    "    def train(self, max_epochs: int):\n",
    "        for epoch in range(max_epochs):\n",
    "            self._run_epoch(epoch)\n",
    "            if self.gpu_id == 0 and epoch % self.save_every == 0:\n",
    "                self._save_checkpoint(epoch)\n",
    "\n",
    "\n",
    "def load_train_objs():\n",
    "    train_set = MyTrainDataset(2048)  # load your dataset\n",
    "    model = torch.nn.Linear(20, 1)  # load your model\n",
    "    optimizer = torch.optim.SGD(model.parameters(), lr=1e-3)\n",
    "    return train_set, model, optimizer\n",
    "\n",
    "\n",
    "def prepare_dataloader(dataset: Dataset, batch_size: int):\n",
    "    return DataLoader(\n",
    "        dataset,\n",
    "        batch_size=batch_size,\n",
    "        pin_memory=True,\n",
    "        shuffle=False,\n",
    "        sampler=DistributedSampler(dataset)\n",
    "    )\n",
    "\n",
    "\n",
    "def main(rank: int, world_size: int, save_every: int, total_epochs: int, batch_size: int):\n",
    "    ddp_setup(rank, world_size)\n",
    "    dataset, model, optimizer = load_train_objs()\n",
    "    train_data = prepare_dataloader(dataset, batch_size)\n",
    "    trainer = Trainer(model, train_data, optimizer, rank, save_every)\n",
    "    trainer.train(total_epochs)\n",
    "    destroy_process_group()\n",
    "\n",
    "\n",
    "# if __name__ == \"__main__\":\n",
    "#     import argparse\n",
    "#     parser = argparse.ArgumentParser(description='simple distributed training job')\n",
    "#     parser.add_argument('total_epochs', type=int, help='Total epochs to train the model')\n",
    "#     parser.add_argument('save_every', type=int, help='How often to save a snapshot')\n",
    "#     parser.add_argument('--batch_size', default=32, type=int, help='Input batch size on each device (default: 32)')\n",
    "#     args = parser.parse_args()\n",
    "\n",
    "#     world_size = torch.cuda.device_count()\n",
    "#     mp.spawn(main, args=(world_size, args.save_every, args.total_epochs, args.batch_size), nprocs=world_size)"
   ]
  },
  {
   "cell_type": "code",
   "execution_count": null,
   "id": "aec41c76",
   "metadata": {
    "execution": {
     "iopub.execute_input": "2024-06-30T18:28:36.919294Z",
     "iopub.status.busy": "2024-06-30T18:28:36.918580Z",
     "iopub.status.idle": "2024-06-30T18:28:37.266884Z",
     "shell.execute_reply": "2024-06-30T18:28:37.266025Z",
     "shell.execute_reply.started": "2024-06-30T18:28:36.919260Z"
    },
    "id": "EMISYO1z-Ww2",
    "papermill": {
     "duration": 0.004297,
     "end_time": "2024-06-30T18:32:18.643879",
     "exception": false,
     "start_time": "2024-06-30T18:32:18.639582",
     "status": "completed"
    },
    "tags": []
   },
   "outputs": [],
   "source": []
  },
  {
   "cell_type": "code",
   "execution_count": null,
   "id": "7fb279c1",
   "metadata": {
    "papermill": {
     "duration": 0.004374,
     "end_time": "2024-06-30T18:32:18.652765",
     "exception": false,
     "start_time": "2024-06-30T18:32:18.648391",
     "status": "completed"
    },
    "tags": []
   },
   "outputs": [],
   "source": []
  }
 ],
 "metadata": {
  "colab": {
   "authorship_tag": "ABX9TyPTA1s9u6xXuWSfVxJb+5JM",
   "include_colab_link": true,
   "provenance": []
  },
  "kaggle": {
   "accelerator": "nvidiaTeslaT4",
   "dataSources": [],
   "dockerImageVersionId": 30733,
   "isGpuEnabled": true,
   "isInternetEnabled": true,
   "language": "python",
   "sourceType": "notebook"
  },
  "kernelspec": {
   "display_name": "Python 3",
   "language": "python",
   "name": "python3"
  },
  "language_info": {
   "codemirror_mode": {
    "name": "ipython",
    "version": 3
   },
   "file_extension": ".py",
   "mimetype": "text/x-python",
   "name": "python",
   "nbconvert_exporter": "python",
   "pygments_lexer": "ipython3",
   "version": "3.10.13"
  },
  "papermill": {
   "default_parameters": {},
   "duration": 31.700106,
   "end_time": "2024-06-30T18:32:20.279602",
   "environment_variables": {},
   "exception": null,
   "input_path": "__notebook__.ipynb",
   "output_path": "__notebook__.ipynb",
   "parameters": {},
   "start_time": "2024-06-30T18:31:48.579496",
   "version": "2.5.0"
  }
 },
 "nbformat": 4,
 "nbformat_minor": 5
}
