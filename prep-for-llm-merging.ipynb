{
 "cells": [
  {
   "cell_type": "markdown",
   "id": "f98acd5b",
   "metadata": {
    "id": "view-in-github",
    "papermill": {
     "duration": 0.00397,
     "end_time": "2024-06-30T18:36:08.282143",
     "exception": false,
     "start_time": "2024-06-30T18:36:08.278173",
     "status": "completed"
    },
    "tags": []
   },
   "source": [
    "<a href=\"https://colab.research.google.com/github/Kacper-W-Kozdon/interviewProgram/blob/main/LLM_merging.ipynb\" target=\"_parent\"><img src=\"https://colab.research.google.com/assets/colab-badge.svg\" alt=\"Open In Colab\"/></a>"
   ]
  },
  {
   "cell_type": "code",
   "execution_count": 1,
   "id": "bc3064bd",
   "metadata": {
    "execution": {
     "iopub.execute_input": "2024-06-30T18:36:08.290749Z",
     "iopub.status.busy": "2024-06-30T18:36:08.290380Z",
     "iopub.status.idle": "2024-06-30T18:36:24.179650Z",
     "shell.execute_reply": "2024-06-30T18:36:24.178509Z"
    },
    "id": "BcYxpDTx7arA",
    "outputId": "d08d64ad-06a8-4983-a3d5-c81e4122bff9",
    "papermill": {
     "duration": 15.896031,
     "end_time": "2024-06-30T18:36:24.181938",
     "exception": false,
     "start_time": "2024-06-30T18:36:08.285907",
     "status": "completed"
    },
    "tags": []
   },
   "outputs": [
    {
     "name": "stdout",
     "output_type": "stream",
     "text": [
      "Collecting utils\r\n",
      "  Downloading utils-1.0.2.tar.gz (13 kB)\r\n",
      "  Preparing metadata (setup.py) ... \u001b[?25l-\b \bdone\r\n",
      "\u001b[?25hBuilding wheels for collected packages: utils\r\n",
      "  Building wheel for utils (setup.py) ... \u001b[?25l-\b \b\\\b \bdone\r\n",
      "\u001b[?25h  Created wheel for utils: filename=utils-1.0.2-py2.py3-none-any.whl size=13905 sha256=bc1c4ae97b33e9b1224ea35e4f31a2e7818e25855b37cc98601aaa57a05c4c94\r\n",
      "  Stored in directory: /root/.cache/pip/wheels/b8/39/f5/9d0ca31dba85773ececf0a7f5469f18810e1c8a8ed9da28ca7\r\n",
      "Successfully built utils\r\n",
      "Installing collected packages: utils\r\n",
      "Successfully installed utils-1.0.2\r\n"
     ]
    }
   ],
   "source": [
    "!pip install utils"
   ]
  },
  {
   "cell_type": "code",
   "execution_count": 2,
   "id": "a8c2f302",
   "metadata": {
    "execution": {
     "iopub.execute_input": "2024-06-30T18:36:24.192001Z",
     "iopub.status.busy": "2024-06-30T18:36:24.191704Z",
     "iopub.status.idle": "2024-06-30T18:36:27.653727Z",
     "shell.execute_reply": "2024-06-30T18:36:27.652935Z"
    },
    "id": "vJPnutLt7MeL",
    "papermill": {
     "duration": 3.469552,
     "end_time": "2024-06-30T18:36:27.655999",
     "exception": false,
     "start_time": "2024-06-30T18:36:24.186447",
     "status": "completed"
    },
    "tags": []
   },
   "outputs": [],
   "source": [
    "import torch\n",
    "import torch.nn.functional as F\n",
    "from torch.utils.data import Dataset, DataLoader\n",
    "import torch.multiprocessing as mp\n",
    "from torch.utils.data.distributed import DistributedSampler\n",
    "from torch.nn.parallel import DistributedDataParallel as DDP\n",
    "from torch.distributed import init_process_group, destroy_process_group\n",
    "import os"
   ]
  },
  {
   "cell_type": "code",
   "execution_count": 3,
   "id": "4dc6e76e",
   "metadata": {
    "execution": {
     "iopub.execute_input": "2024-06-30T18:36:27.666002Z",
     "iopub.status.busy": "2024-06-30T18:36:27.665647Z",
     "iopub.status.idle": "2024-06-30T18:36:27.671137Z",
     "shell.execute_reply": "2024-06-30T18:36:27.670317Z"
    },
    "id": "-xowNb_H9Dtk",
    "papermill": {
     "duration": 0.012538,
     "end_time": "2024-06-30T18:36:27.672991",
     "exception": false,
     "start_time": "2024-06-30T18:36:27.660453",
     "status": "completed"
    },
    "tags": []
   },
   "outputs": [],
   "source": [
    "class MyTrainDataset(Dataset):\n",
    "    def __init__(self, size):\n",
    "        self.size = size\n",
    "        self.data = [(torch.rand(20), torch.rand(1)) for _ in range(size)]\n",
    "\n",
    "    def __len__(self):\n",
    "        return self.size\n",
    "\n",
    "    def __getitem__(self, index):\n",
    "        return self.data[index]"
   ]
  },
  {
   "cell_type": "code",
   "execution_count": 4,
   "id": "eccbbd59",
   "metadata": {
    "execution": {
     "iopub.execute_input": "2024-06-30T18:36:27.682324Z",
     "iopub.status.busy": "2024-06-30T18:36:27.681859Z",
     "iopub.status.idle": "2024-06-30T18:36:27.709915Z",
     "shell.execute_reply": "2024-06-30T18:36:27.709122Z"
    },
    "id": "K56br4MD9SBk",
    "outputId": "e0b4e810-6ddf-4347-b2c4-b0ca9b3fbfae",
    "papermill": {
     "duration": 0.034555,
     "end_time": "2024-06-30T18:36:27.711704",
     "exception": false,
     "start_time": "2024-06-30T18:36:27.677149",
     "status": "completed"
    },
    "tags": []
   },
   "outputs": [
    {
     "data": {
      "text/plain": [
       "[0, 1]"
      ]
     },
     "execution_count": 4,
     "metadata": {},
     "output_type": "execute_result"
    }
   ],
   "source": [
    "list(range(torch.cuda.device_count()))"
   ]
  },
  {
   "cell_type": "code",
   "execution_count": 5,
   "id": "8b0e50a3",
   "metadata": {
    "execution": {
     "iopub.execute_input": "2024-06-30T18:36:27.721531Z",
     "iopub.status.busy": "2024-06-30T18:36:27.721065Z",
     "iopub.status.idle": "2024-06-30T18:36:27.726170Z",
     "shell.execute_reply": "2024-06-30T18:36:27.725355Z"
    },
    "id": "MsIgJGXM7QFZ",
    "papermill": {
     "duration": 0.011873,
     "end_time": "2024-06-30T18:36:27.728012",
     "exception": false,
     "start_time": "2024-06-30T18:36:27.716139",
     "status": "completed"
    },
    "tags": []
   },
   "outputs": [],
   "source": [
    "def ddp_setup(rank: int, world_size: int):\n",
    "  \"\"\"\n",
    "  Args:\n",
    "    rank: Unique identifier of each process\n",
    "    world_size: Total number of processes\n",
    "  \"\"\"\n",
    "  os.environ[\"MASTER_ADDR\"] = \"localhost\"\n",
    "  os.environ[\"MASTER_PORT\"] = \"12355\"\n",
    "  torch.cuda.set_device(rank)\n",
    "  init_process_group(backend=\"nccl\", rank=rank, world_size=world_size)"
   ]
  },
  {
   "cell_type": "code",
   "execution_count": 6,
   "id": "65532ba5",
   "metadata": {
    "execution": {
     "iopub.execute_input": "2024-06-30T18:36:27.737587Z",
     "iopub.status.busy": "2024-06-30T18:36:27.737308Z",
     "iopub.status.idle": "2024-06-30T18:36:28.065238Z",
     "shell.execute_reply": "2024-06-30T18:36:28.064350Z"
    },
    "papermill": {
     "duration": 0.336045,
     "end_time": "2024-06-30T18:36:28.068405",
     "exception": false,
     "start_time": "2024-06-30T18:36:27.732360",
     "status": "completed"
    },
    "tags": []
   },
   "outputs": [
    {
     "name": "stdout",
     "output_type": "stream",
     "text": [
      "True\n",
      "True\n",
      "tensor([[0.0630, 0.7225, 0.7376, 0.9414, 0.6833, 0.9758, 0.1730, 0.0893, 0.6997,\n",
      "         0.7725, 0.7812, 0.1246, 0.3104, 0.6186, 0.0075, 0.6901, 0.6650, 0.7725,\n",
      "         0.6367, 0.6176],\n",
      "        [0.6100, 0.8490, 0.8544, 0.4706, 0.5169, 0.1687, 0.1511, 0.0489, 0.0256,\n",
      "         0.1157, 0.6253, 0.1889, 0.0032, 0.5133, 0.2120, 0.8789, 0.2811, 0.4613,\n",
      "         0.2359, 0.3205]]) tensor([[0.7146],\n",
      "        [0.4443]])\n",
      "True\n",
      "True\n",
      "tensor([[0.7196, 0.8437, 0.4099, 0.7524, 0.9245, 0.5918, 0.1414, 0.2609, 0.5399,\n",
      "         0.0932, 0.4517, 0.4344, 0.8079, 0.0501, 0.0413, 0.1512, 0.7931, 0.8622,\n",
      "         0.0071, 0.4703],\n",
      "        [0.5848, 0.2744, 0.9096, 0.7694, 0.2574, 0.7331, 0.3456, 0.9453, 0.4236,\n",
      "         0.3252, 0.5383, 0.9695, 0.2510, 0.3706, 0.0055, 0.6465, 0.0366, 0.7954,\n",
      "         0.8668, 0.0833]]) tensor([[0.7093],\n",
      "        [0.6776]])\n",
      "True\n",
      "True\n",
      "tensor([[0.2392, 0.0197, 0.7501, 0.7139, 0.7834, 0.6853, 0.3981, 0.3518, 0.9969,\n",
      "         0.1109, 0.9491, 0.5322, 0.9431, 0.5542, 0.4769, 0.7294, 0.9202, 0.3845,\n",
      "         0.0214, 0.5758],\n",
      "        [0.1647, 0.7424, 0.9536, 0.2124, 0.1385, 0.8154, 0.7914, 0.0374, 0.0564,\n",
      "         0.2638, 0.5789, 0.5832, 0.9897, 0.2581, 0.1466, 0.6045, 0.9351, 0.5877,\n",
      "         0.8882, 0.9043]]) tensor([[0.6953],\n",
      "        [0.2894]])\n",
      "True\n",
      "True\n",
      "tensor([[0.0218, 0.5134, 0.5223, 0.6766, 0.0313, 0.7485, 0.5271, 0.3068, 0.6526,\n",
      "         0.1607, 0.0364, 0.8094, 0.4128, 0.2696, 0.4440, 0.7379, 0.6212, 0.5617,\n",
      "         0.9933, 0.4873],\n",
      "        [0.7297, 0.2421, 0.2032, 0.9437, 0.2408, 0.7096, 0.6530, 0.8271, 0.2477,\n",
      "         0.5376, 0.8087, 0.2284, 0.0296, 0.8121, 0.0669, 0.0670, 0.9545, 0.6616,\n",
      "         0.8383, 0.4245]]) tensor([[0.9880],\n",
      "        [0.3814]])\n",
      "True\n",
      "True\n",
      "tensor([[0.6374, 0.8202, 0.2328, 0.8343, 0.8151, 0.5732, 0.7081, 0.9818, 0.1906,\n",
      "         0.4060, 0.5463, 0.8897, 0.5945, 0.0479, 0.7528, 0.1284, 0.6076, 0.3946,\n",
      "         0.3171, 0.9572],\n",
      "        [0.5874, 0.1187, 0.7333, 0.8811, 0.7702, 0.1015, 0.7572, 0.9476, 0.3324,\n",
      "         0.9706, 0.5193, 0.7922, 0.0696, 0.6595, 0.9518, 0.7759, 0.9946, 0.2348,\n",
      "         0.9810, 0.3075]]) tensor([[0.2708],\n",
      "        [0.7633]])\n",
      "True\n",
      "True\n",
      "tensor([[0.2290, 0.7472, 0.5497, 0.0098, 0.4414, 0.8584, 0.4906, 0.1439, 0.6203,\n",
      "         0.0304, 0.5656, 0.6119, 0.9080, 0.3218, 0.2831, 0.1580, 0.4824, 0.7701,\n",
      "         0.9658, 0.2873],\n",
      "        [0.5862, 0.1919, 0.7638, 0.5351, 0.5282, 0.0797, 0.2314, 0.5348, 0.3518,\n",
      "         0.0143, 0.3444, 0.3853, 0.4779, 0.4546, 0.3941, 0.5070, 0.1151, 0.4051,\n",
      "         0.0812, 0.2473]]) tensor([[0.9181],\n",
      "        [0.2645]])\n",
      "True\n",
      "True\n",
      "tensor([[0.1241, 0.4720, 0.1375, 0.0465, 0.9964, 0.7227, 0.4889, 0.9433, 0.8801,\n",
      "         0.2748, 0.8112, 0.5762, 0.4387, 0.5457, 0.9281, 0.3496, 0.3271, 0.8455,\n",
      "         0.4316, 0.5888],\n",
      "        [0.2380, 0.1541, 0.8095, 0.7455, 0.5256, 0.0276, 0.8483, 0.5918, 0.6413,\n",
      "         0.7708, 0.1608, 0.0188, 0.9129, 0.9928, 0.2491, 0.3006, 0.9010, 0.3237,\n",
      "         0.7786, 0.8721]]) tensor([[0.4765],\n",
      "        [0.6933]])\n",
      "True\n",
      "True\n",
      "tensor([[0.5960, 0.8880, 0.8114, 0.3383, 0.8243, 0.8364, 0.2214, 0.3863, 0.7315,\n",
      "         0.0326, 0.5601, 0.8901, 0.7625, 0.4302, 0.2529, 0.8031, 0.3840, 0.4565,\n",
      "         0.1163, 0.8340],\n",
      "        [0.3825, 0.0637, 0.2965, 0.8321, 0.7803, 0.3009, 0.1454, 0.7017, 0.0798,\n",
      "         0.3800, 0.2245, 0.8856, 0.1090, 0.4723, 0.8945, 0.9058, 0.0430, 0.2410,\n",
      "         0.5672, 0.2321]]) tensor([[0.3055],\n",
      "        [0.2406]])\n",
      "True\n",
      "True\n",
      "tensor([[0.1420, 0.6090, 0.5789, 0.5549, 0.4089, 0.3433, 0.9466, 0.0601, 0.1811,\n",
      "         0.8747, 0.0184, 0.4633, 0.9062, 0.8017, 0.9860, 0.7030, 0.0219, 0.3755,\n",
      "         0.8570, 0.0817],\n",
      "        [0.4516, 0.2804, 0.9658, 0.0962, 0.0479, 0.9249, 0.7589, 0.6469, 0.9779,\n",
      "         0.4078, 0.6241, 0.0604, 0.6040, 0.5104, 0.8104, 0.3736, 0.1975, 0.2147,\n",
      "         0.5406, 0.4286]]) tensor([[0.4184],\n",
      "        [0.1700]])\n",
      "True\n",
      "True\n",
      "tensor([[0.9804, 0.3784, 0.5583, 0.0600, 0.1213, 0.7153, 0.2901, 0.4266, 0.0182,\n",
      "         0.6816, 0.9783, 0.9915, 0.2278, 0.3382, 0.3113, 0.6199, 0.8034, 0.0787,\n",
      "         0.7458, 0.6532],\n",
      "        [0.5981, 0.3103, 0.4120, 0.2632, 0.4378, 0.8787, 0.3032, 0.5505, 0.0061,\n",
      "         0.4099, 0.6150, 0.9407, 0.1052, 0.6777, 0.0453, 0.8655, 0.4763, 0.6349,\n",
      "         0.0313, 0.1706]]) tensor([[0.1362],\n",
      "        [0.6884]])\n",
      "True\n",
      "True\n",
      "tensor([[0.9707, 0.2204, 0.3472, 0.4167, 0.2658, 0.9765, 0.5417, 0.3846, 0.1539,\n",
      "         0.5161, 0.6666, 0.7332, 0.7111, 0.8321, 0.5749, 0.2547, 0.7141, 0.5885,\n",
      "         0.1124, 0.2528],\n",
      "        [0.3467, 0.5841, 0.9854, 0.6825, 0.5592, 0.4594, 0.2581, 0.7703, 0.4013,\n",
      "         0.0733, 0.9674, 0.3214, 0.2044, 0.4085, 0.2194, 0.3111, 0.2203, 0.5046,\n",
      "         0.7950, 0.7898]]) tensor([[0.7442],\n",
      "        [0.6222]])\n",
      "True\n",
      "True\n",
      "tensor([[0.1749, 0.4242, 0.8584, 0.2127, 0.8296, 0.2179, 0.8038, 0.9157, 0.0978,\n",
      "         0.6863, 0.7191, 0.9221, 0.7712, 0.8310, 0.8481, 0.8007, 0.7659, 0.6442,\n",
      "         0.9396, 0.9834],\n",
      "        [0.3561, 0.1245, 0.7700, 0.1305, 0.1600, 0.5184, 0.5327, 0.0460, 0.1596,\n",
      "         0.2942, 0.9413, 0.3718, 0.0918, 0.1423, 0.0128, 0.5930, 0.3878, 0.0253,\n",
      "         0.7302, 0.0793]]) tensor([[0.3293],\n",
      "        [0.5187]])\n",
      "True\n",
      "True\n",
      "tensor([[0.4425, 0.0879, 0.7504, 0.9317, 0.2736, 0.8758, 0.5365, 0.4582, 0.7750,\n",
      "         0.1806, 0.7883, 0.2575, 0.7764, 0.2838, 0.3825, 0.0832, 0.6493, 0.1706,\n",
      "         0.0017, 0.5528],\n",
      "        [0.5344, 0.7380, 0.1196, 0.4953, 0.0698, 0.5607, 0.9660, 0.5756, 0.7404,\n",
      "         0.7664, 0.6624, 0.4487, 0.5786, 0.1777, 0.3695, 0.5498, 0.0452, 0.3133,\n",
      "         0.2323, 0.3852]]) tensor([[0.5009],\n",
      "        [0.7738]])\n",
      "True\n",
      "True\n",
      "tensor([[0.1329, 0.5515, 0.3624, 0.6462, 0.2872, 0.6377, 0.0486, 0.1650, 0.4137,\n",
      "         0.1462, 0.7396, 0.6024, 0.1355, 0.3998, 0.9041, 0.5935, 0.1008, 0.6546,\n",
      "         0.0996, 0.0085],\n",
      "        [0.4336, 0.9035, 0.0551, 0.8963, 0.8746, 0.0448, 0.4580, 0.7441, 0.1572,\n",
      "         0.4234, 0.3552, 0.4060, 0.7999, 0.1461, 0.3908, 0.0250, 0.2046, 0.3345,\n",
      "         0.6291, 0.5067]]) tensor([[0.2620],\n",
      "        [0.3778]])\n",
      "True\n",
      "True\n",
      "tensor([[0.0756, 0.3792, 0.4908, 0.3633, 0.5588, 0.4297, 0.4529, 0.3867, 0.1276,\n",
      "         0.3141, 0.3859, 0.1494, 0.0908, 0.9697, 0.0444, 0.0248, 0.5133, 0.7029,\n",
      "         0.0777, 0.6331],\n",
      "        [0.0517, 0.8343, 0.5871, 0.9522, 0.1488, 0.4931, 0.2486, 0.6811, 0.5265,\n",
      "         0.6678, 0.3169, 0.7177, 0.1522, 0.5165, 0.8105, 0.1327, 0.1099, 0.2000,\n",
      "         0.7655, 0.7914]]) tensor([[0.6453],\n",
      "        [0.8194]])\n",
      "True\n",
      "True\n",
      "tensor([[0.7877, 0.8171, 0.2288, 0.3548, 0.6912, 0.6876, 0.2205, 0.0999, 0.8525,\n",
      "         0.5386, 0.1070, 0.6131, 0.2686, 0.2998, 0.9351, 0.8831, 0.3107, 0.4607,\n",
      "         0.1443, 0.4778],\n",
      "        [0.7015, 0.0680, 0.4965, 0.5972, 0.5067, 0.6054, 0.2311, 0.2765, 0.9541,\n",
      "         0.4804, 0.5792, 0.0738, 0.6732, 0.3891, 0.1888, 0.8549, 0.3862, 0.2229,\n",
      "         0.4735, 0.7986]]) tensor([[0.4004],\n",
      "        [0.1160]])\n"
     ]
    }
   ],
   "source": [
    "class SimpleCustomBatch: #Use this together with the code cell below this one.\n",
    "    def __init__(self, data):\n",
    "        transposed_data = list(zip(*data))\n",
    "        self.inp = torch.stack(transposed_data[0], 0)\n",
    "        self.tgt = torch.stack(transposed_data[1], 0)\n",
    "\n",
    "    # custom memory pinning method on custom type\n",
    "    def pin_memory(self):\n",
    "        self.inp = self.inp.pin_memory()\n",
    "        self.tgt = self.tgt.pin_memory()\n",
    "        return self\n",
    "\n",
    "def collate_wrapper(batch):\n",
    "    return SimpleCustomBatch(batch)\n",
    "\n",
    "inps = torch.arange(10 * 5, dtype=torch.float32).view(10, 5)\n",
    "tgts = torch.arange(10 * 5, dtype=torch.float32).view(10, 5)\n",
    "dataset = MyTrainDataset(32).data\n",
    "\n",
    "loader = DataLoader(dataset, batch_size=2, collate_fn=collate_wrapper,\n",
    "                    pin_memory=True)\n",
    "\n",
    "\n",
    "for batch_ndx, sample in enumerate(loader):\n",
    "    print(sample.inp.is_pinned())\n",
    "    print(sample.tgt.is_pinned())\n",
    "    print(sample.inp, sample.tgt)"
   ]
  },
  {
   "cell_type": "code",
   "execution_count": 7,
   "id": "ca4f508b",
   "metadata": {
    "execution": {
     "iopub.execute_input": "2024-06-30T18:36:28.078814Z",
     "iopub.status.busy": "2024-06-30T18:36:28.078534Z",
     "iopub.status.idle": "2024-06-30T18:36:28.093362Z",
     "shell.execute_reply": "2024-06-30T18:36:28.092563Z"
    },
    "id": "OMrCYTgp9_tm",
    "papermill": {
     "duration": 0.022114,
     "end_time": "2024-06-30T18:36:28.095187",
     "exception": false,
     "start_time": "2024-06-30T18:36:28.073073",
     "status": "completed"
    },
    "tags": []
   },
   "outputs": [],
   "source": [
    "class Trainer:\n",
    "    def __init__(\n",
    "        self,\n",
    "        model: torch.nn.Module,\n",
    "        train_data: DataLoader,\n",
    "        optimizer: torch.optim.Optimizer,\n",
    "        gpu_id: int,\n",
    "        save_every: int,\n",
    "    ) -> None:\n",
    "        self.gpu_id = gpu_id\n",
    "        self.model = model.to(gpu_id)\n",
    "        self.train_data = train_data\n",
    "        self.optimizer = optimizer\n",
    "        self.save_every = save_every\n",
    "        self.model = DDP(model, device_ids=[gpu_id])\n",
    "\n",
    "    def _run_batch(self, source, targets):\n",
    "        self.optimizer.zero_grad()\n",
    "        output = self.model(source)\n",
    "        loss = F.cross_entropy(output, targets)\n",
    "        loss.backward()\n",
    "        self.optimizer.step()\n",
    "\n",
    "    def _run_epoch(self, epoch):\n",
    "        b_sz = len(next(iter(self.train_data))[0])\n",
    "        print(f\"[GPU{self.gpu_id}] Epoch {epoch} | Batchsize: {b_sz} | Steps: {len(self.train_data)}\")\n",
    "        self.train_data.sampler.set_epoch(epoch)\n",
    "        for source, targets in self.train_data:\n",
    "            source = source.to(self.gpu_id)\n",
    "            targets = targets.to(self.gpu_id)\n",
    "            self._run_batch(source, targets)\n",
    "\n",
    "    def _save_checkpoint(self, epoch):\n",
    "        ckp = self.model.module.state_dict()\n",
    "        PATH = \"checkpoint.pt\"\n",
    "        torch.save(ckp, PATH)\n",
    "        print(f\"Epoch {epoch} | Training checkpoint saved at {PATH}\")\n",
    "\n",
    "    def train(self, max_epochs: int):\n",
    "        for epoch in range(max_epochs):\n",
    "            self._run_epoch(epoch)\n",
    "            if self.gpu_id == 0 and epoch % self.save_every == 0:\n",
    "                self._save_checkpoint(epoch)\n",
    "\n",
    "\n",
    "def load_train_objs():\n",
    "    train_set = MyTrainDataset(2048)  # load your dataset\n",
    "    model = torch.nn.Linear(20, 1)  # load your model\n",
    "    optimizer = torch.optim.SGD(model.parameters(), lr=1e-3)\n",
    "    return train_set, model, optimizer\n",
    "\n",
    "\n",
    "def prepare_dataloader(dataset: Dataset, batch_size: int):\n",
    "    return DataLoader(\n",
    "        dataset,\n",
    "        batch_size=batch_size,\n",
    "        pin_memory=True,\n",
    "        shuffle=False,\n",
    "        sampler=DistributedSampler(dataset)\n",
    "    )\n",
    "\n",
    "\n",
    "def main(rank: int, world_size: int, save_every: int, total_epochs: int, batch_size: int):\n",
    "    ddp_setup(rank, world_size)\n",
    "    dataset, model, optimizer = load_train_objs()\n",
    "    train_data = prepare_dataloader(dataset, batch_size)\n",
    "    trainer = Trainer(model, train_data, optimizer, rank, save_every)\n",
    "    trainer.train(total_epochs)\n",
    "    destroy_process_group()\n",
    "\n",
    "\n",
    "# if __name__ == \"__main__\":\n",
    "#     import argparse\n",
    "#     parser = argparse.ArgumentParser(description='simple distributed training job')\n",
    "#     parser.add_argument('total_epochs', type=int, help='Total epochs to train the model')\n",
    "#     parser.add_argument('save_every', type=int, help='How often to save a snapshot')\n",
    "#     parser.add_argument('--batch_size', default=32, type=int, help='Input batch size on each device (default: 32)')\n",
    "#     args = parser.parse_args()\n",
    "\n",
    "#     world_size = torch.cuda.device_count()\n",
    "#     mp.spawn(main, args=(world_size, args.save_every, args.total_epochs, args.batch_size), nprocs=world_size)"
   ]
  },
  {
   "cell_type": "code",
   "execution_count": null,
   "id": "94a42d1b",
   "metadata": {
    "execution": {
     "iopub.execute_input": "2024-06-30T18:28:36.919294Z",
     "iopub.status.busy": "2024-06-30T18:28:36.918580Z",
     "iopub.status.idle": "2024-06-30T18:28:37.266884Z",
     "shell.execute_reply": "2024-06-30T18:28:37.266025Z",
     "shell.execute_reply.started": "2024-06-30T18:28:36.919260Z"
    },
    "id": "EMISYO1z-Ww2",
    "papermill": {
     "duration": 0.004242,
     "end_time": "2024-06-30T18:36:28.103970",
     "exception": false,
     "start_time": "2024-06-30T18:36:28.099728",
     "status": "completed"
    },
    "tags": []
   },
   "outputs": [],
   "source": []
  },
  {
   "cell_type": "code",
   "execution_count": null,
   "id": "41880c98",
   "metadata": {
    "papermill": {
     "duration": 0.0042,
     "end_time": "2024-06-30T18:36:28.112750",
     "exception": false,
     "start_time": "2024-06-30T18:36:28.108550",
     "status": "completed"
    },
    "tags": []
   },
   "outputs": [],
   "source": []
  }
 ],
 "metadata": {
  "colab": {
   "authorship_tag": "ABX9TyPTA1s9u6xXuWSfVxJb+5JM",
   "include_colab_link": true,
   "provenance": []
  },
  "kaggle": {
   "accelerator": "nvidiaTeslaT4",
   "dataSources": [],
   "dockerImageVersionId": 30733,
   "isGpuEnabled": true,
   "isInternetEnabled": true,
   "language": "python",
   "sourceType": "notebook"
  },
  "kernelspec": {
   "display_name": "Python 3",
   "language": "python",
   "name": "python3"
  },
  "language_info": {
   "codemirror_mode": {
    "name": "ipython",
    "version": 3
   },
   "file_extension": ".py",
   "mimetype": "text/x-python",
   "name": "python",
   "nbconvert_exporter": "python",
   "pygments_lexer": "ipython3",
   "version": "3.10.13"
  },
  "papermill": {
   "default_parameters": {},
   "duration": 23.573411,
   "end_time": "2024-06-30T18:36:29.136951",
   "environment_variables": {},
   "exception": null,
   "input_path": "__notebook__.ipynb",
   "output_path": "__notebook__.ipynb",
   "parameters": {},
   "start_time": "2024-06-30T18:36:05.563540",
   "version": "2.5.0"
  }
 },
 "nbformat": 4,
 "nbformat_minor": 5
}
