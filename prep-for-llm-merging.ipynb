{
 "cells": [
  {
   "cell_type": "markdown",
   "id": "4d543fbb",
   "metadata": {
    "id": "view-in-github",
    "papermill": {
     "duration": 0.0039,
     "end_time": "2024-06-30T18:30:04.239321",
     "exception": false,
     "start_time": "2024-06-30T18:30:04.235421",
     "status": "completed"
    },
    "tags": []
   },
   "source": [
    "<a href=\"https://colab.research.google.com/github/Kacper-W-Kozdon/interviewProgram/blob/main/LLM_merging.ipynb\" target=\"_parent\"><img src=\"https://colab.research.google.com/assets/colab-badge.svg\" alt=\"Open In Colab\"/></a>"
   ]
  },
  {
   "cell_type": "code",
   "execution_count": 1,
   "id": "fa9a1abe",
   "metadata": {
    "execution": {
     "iopub.execute_input": "2024-06-30T18:30:04.248165Z",
     "iopub.status.busy": "2024-06-30T18:30:04.247359Z",
     "iopub.status.idle": "2024-06-30T18:30:20.257607Z",
     "shell.execute_reply": "2024-06-30T18:30:20.256319Z"
    },
    "id": "BcYxpDTx7arA",
    "outputId": "d08d64ad-06a8-4983-a3d5-c81e4122bff9",
    "papermill": {
     "duration": 16.017631,
     "end_time": "2024-06-30T18:30:20.260407",
     "exception": false,
     "start_time": "2024-06-30T18:30:04.242776",
     "status": "completed"
    },
    "tags": []
   },
   "outputs": [
    {
     "name": "stdout",
     "output_type": "stream",
     "text": [
      "Collecting utils\r\n",
      "  Downloading utils-1.0.2.tar.gz (13 kB)\r\n",
      "  Preparing metadata (setup.py) ... \u001b[?25l-\b \bdone\r\n",
      "\u001b[?25hBuilding wheels for collected packages: utils\r\n",
      "  Building wheel for utils (setup.py) ... \u001b[?25l-\b \b\\\b \bdone\r\n",
      "\u001b[?25h  Created wheel for utils: filename=utils-1.0.2-py2.py3-none-any.whl size=13905 sha256=1bad37a5e045572a06666c2150be54dc3c1b728e7fe2ccb54e42ecac15dd0d7a\r\n",
      "  Stored in directory: /root/.cache/pip/wheels/b8/39/f5/9d0ca31dba85773ececf0a7f5469f18810e1c8a8ed9da28ca7\r\n",
      "Successfully built utils\r\n",
      "Installing collected packages: utils\r\n",
      "Successfully installed utils-1.0.2\r\n"
     ]
    }
   ],
   "source": [
    "!pip install utils"
   ]
  },
  {
   "cell_type": "code",
   "execution_count": 2,
   "id": "cae3f0ff",
   "metadata": {
    "execution": {
     "iopub.execute_input": "2024-06-30T18:30:20.271801Z",
     "iopub.status.busy": "2024-06-30T18:30:20.271409Z",
     "iopub.status.idle": "2024-06-30T18:30:23.487515Z",
     "shell.execute_reply": "2024-06-30T18:30:23.486725Z"
    },
    "id": "vJPnutLt7MeL",
    "papermill": {
     "duration": 3.22454,
     "end_time": "2024-06-30T18:30:23.489899",
     "exception": false,
     "start_time": "2024-06-30T18:30:20.265359",
     "status": "completed"
    },
    "tags": []
   },
   "outputs": [],
   "source": [
    "import torch\n",
    "import torch.nn.functional as F\n",
    "from torch.utils.data import Dataset, DataLoader\n",
    "import torch.multiprocessing as mp\n",
    "from torch.utils.data.distributed import DistributedSampler\n",
    "from torch.nn.parallel import DistributedDataParallel as DDP\n",
    "from torch.distributed import init_process_group, destroy_process_group\n",
    "import os"
   ]
  },
  {
   "cell_type": "code",
   "execution_count": 3,
   "id": "da72757c",
   "metadata": {
    "execution": {
     "iopub.execute_input": "2024-06-30T18:30:23.500024Z",
     "iopub.status.busy": "2024-06-30T18:30:23.499627Z",
     "iopub.status.idle": "2024-06-30T18:30:23.505528Z",
     "shell.execute_reply": "2024-06-30T18:30:23.504697Z"
    },
    "id": "-xowNb_H9Dtk",
    "papermill": {
     "duration": 0.013099,
     "end_time": "2024-06-30T18:30:23.507471",
     "exception": false,
     "start_time": "2024-06-30T18:30:23.494372",
     "status": "completed"
    },
    "tags": []
   },
   "outputs": [],
   "source": [
    "class MyTrainDataset(Dataset):\n",
    "    def __init__(self, size):\n",
    "        self.size = size\n",
    "        self.data = [(torch.rand(20), torch.rand(1)) for _ in range(size)]\n",
    "\n",
    "    def __len__(self):\n",
    "        return self.size\n",
    "\n",
    "    def __getitem__(self, index):\n",
    "        return self.data[index]"
   ]
  },
  {
   "cell_type": "code",
   "execution_count": 4,
   "id": "b266d191",
   "metadata": {
    "execution": {
     "iopub.execute_input": "2024-06-30T18:30:23.517180Z",
     "iopub.status.busy": "2024-06-30T18:30:23.516420Z",
     "iopub.status.idle": "2024-06-30T18:30:23.545079Z",
     "shell.execute_reply": "2024-06-30T18:30:23.544242Z"
    },
    "id": "K56br4MD9SBk",
    "outputId": "e0b4e810-6ddf-4347-b2c4-b0ca9b3fbfae",
    "papermill": {
     "duration": 0.035186,
     "end_time": "2024-06-30T18:30:23.546886",
     "exception": false,
     "start_time": "2024-06-30T18:30:23.511700",
     "status": "completed"
    },
    "tags": []
   },
   "outputs": [
    {
     "data": {
      "text/plain": [
       "[0, 1]"
      ]
     },
     "execution_count": 4,
     "metadata": {},
     "output_type": "execute_result"
    }
   ],
   "source": [
    "list(range(torch.cuda.device_count()))"
   ]
  },
  {
   "cell_type": "code",
   "execution_count": 5,
   "id": "55123a94",
   "metadata": {
    "execution": {
     "iopub.execute_input": "2024-06-30T18:30:23.556911Z",
     "iopub.status.busy": "2024-06-30T18:30:23.556561Z",
     "iopub.status.idle": "2024-06-30T18:30:23.562228Z",
     "shell.execute_reply": "2024-06-30T18:30:23.561393Z"
    },
    "id": "MsIgJGXM7QFZ",
    "papermill": {
     "duration": 0.013017,
     "end_time": "2024-06-30T18:30:23.564207",
     "exception": false,
     "start_time": "2024-06-30T18:30:23.551190",
     "status": "completed"
    },
    "tags": []
   },
   "outputs": [],
   "source": [
    "def ddp_setup(rank: int, world_size: int):\n",
    "  \"\"\"\n",
    "  Args:\n",
    "    rank: Unique identifier of each process\n",
    "    world_size: Total number of processes\n",
    "  \"\"\"\n",
    "  os.environ[\"MASTER_ADDR\"] = \"localhost\"\n",
    "  os.environ[\"MASTER_PORT\"] = \"12355\"\n",
    "  torch.cuda.set_device(rank)\n",
    "  init_process_group(backend=\"nccl\", rank=rank, world_size=world_size)"
   ]
  },
  {
   "cell_type": "code",
   "execution_count": 6,
   "id": "3619cf99",
   "metadata": {
    "execution": {
     "iopub.execute_input": "2024-06-30T18:30:23.574356Z",
     "iopub.status.busy": "2024-06-30T18:30:23.574081Z",
     "iopub.status.idle": "2024-06-30T18:30:23.589520Z",
     "shell.execute_reply": "2024-06-30T18:30:23.588616Z"
    },
    "id": "OMrCYTgp9_tm",
    "papermill": {
     "duration": 0.023002,
     "end_time": "2024-06-30T18:30:23.591530",
     "exception": false,
     "start_time": "2024-06-30T18:30:23.568528",
     "status": "completed"
    },
    "tags": []
   },
   "outputs": [],
   "source": [
    "class Trainer:\n",
    "    def __init__(\n",
    "        self,\n",
    "        model: torch.nn.Module,\n",
    "        train_data: DataLoader,\n",
    "        optimizer: torch.optim.Optimizer,\n",
    "        gpu_id: int,\n",
    "        save_every: int,\n",
    "    ) -> None:\n",
    "        self.gpu_id = gpu_id\n",
    "        self.model = model.to(gpu_id)\n",
    "        self.train_data = train_data\n",
    "        self.optimizer = optimizer\n",
    "        self.save_every = save_every\n",
    "        self.model = DDP(model, device_ids=[gpu_id])\n",
    "\n",
    "    def _run_batch(self, source, targets):\n",
    "        self.optimizer.zero_grad()\n",
    "        output = self.model(source)\n",
    "        loss = F.cross_entropy(output, targets)\n",
    "        loss.backward()\n",
    "        self.optimizer.step()\n",
    "\n",
    "    def _run_epoch(self, epoch):\n",
    "        b_sz = len(next(iter(self.train_data))[0])\n",
    "        print(f\"[GPU{self.gpu_id}] Epoch {epoch} | Batchsize: {b_sz} | Steps: {len(self.train_data)}\")\n",
    "        self.train_data.sampler.set_epoch(epoch)\n",
    "        for source, targets in self.train_data:\n",
    "            source = source.to(self.gpu_id)\n",
    "            targets = targets.to(self.gpu_id)\n",
    "            self._run_batch(source, targets)\n",
    "\n",
    "    def _save_checkpoint(self, epoch):\n",
    "        ckp = self.model.module.state_dict()\n",
    "        PATH = \"checkpoint.pt\"\n",
    "        torch.save(ckp, PATH)\n",
    "        print(f\"Epoch {epoch} | Training checkpoint saved at {PATH}\")\n",
    "\n",
    "    def train(self, max_epochs: int):\n",
    "        for epoch in range(max_epochs):\n",
    "            self._run_epoch(epoch)\n",
    "            if self.gpu_id == 0 and epoch % self.save_every == 0:\n",
    "                self._save_checkpoint(epoch)\n",
    "\n",
    "\n",
    "def load_train_objs():\n",
    "    train_set = MyTrainDataset(2048)  # load your dataset\n",
    "    model = torch.nn.Linear(20, 1)  # load your model\n",
    "    optimizer = torch.optim.SGD(model.parameters(), lr=1e-3)\n",
    "    return train_set, model, optimizer\n",
    "\n",
    "\n",
    "def prepare_dataloader(dataset: Dataset, batch_size: int):\n",
    "    return DataLoader(\n",
    "        dataset,\n",
    "        batch_size=batch_size,\n",
    "        pin_memory=True,\n",
    "        shuffle=False,\n",
    "        sampler=DistributedSampler(dataset)\n",
    "    )\n",
    "\n",
    "\n",
    "def main(rank: int, world_size: int, save_every: int, total_epochs: int, batch_size: int):\n",
    "    ddp_setup(rank, world_size)\n",
    "    dataset, model, optimizer = load_train_objs()\n",
    "    train_data = prepare_dataloader(dataset, batch_size)\n",
    "    trainer = Trainer(model, train_data, optimizer, rank, save_every)\n",
    "    trainer.train(total_epochs)\n",
    "    destroy_process_group()\n",
    "\n",
    "\n",
    "# if __name__ == \"__main__\":\n",
    "#     import argparse\n",
    "#     parser = argparse.ArgumentParser(description='simple distributed training job')\n",
    "#     parser.add_argument('total_epochs', type=int, help='Total epochs to train the model')\n",
    "#     parser.add_argument('save_every', type=int, help='How often to save a snapshot')\n",
    "#     parser.add_argument('--batch_size', default=32, type=int, help='Input batch size on each device (default: 32)')\n",
    "#     args = parser.parse_args()\n",
    "\n",
    "#     world_size = torch.cuda.device_count()\n",
    "#     mp.spawn(main, args=(world_size, args.save_every, args.total_epochs, args.batch_size), nprocs=world_size)"
   ]
  },
  {
   "cell_type": "code",
   "execution_count": 7,
   "id": "68402143",
   "metadata": {
    "execution": {
     "iopub.execute_input": "2024-06-30T18:30:23.601354Z",
     "iopub.status.busy": "2024-06-30T18:30:23.601069Z",
     "iopub.status.idle": "2024-06-30T18:30:23.925544Z",
     "shell.execute_reply": "2024-06-30T18:30:23.924545Z"
    },
    "id": "EMISYO1z-Ww2",
    "papermill": {
     "duration": 0.332596,
     "end_time": "2024-06-30T18:30:23.928357",
     "exception": false,
     "start_time": "2024-06-30T18:30:23.595761",
     "status": "completed"
    },
    "tags": []
   },
   "outputs": [
    {
     "name": "stdout",
     "output_type": "stream",
     "text": [
      "True\n",
      "True\n",
      "tensor([[0.8261, 0.3359, 0.6790, 0.6315, 0.5465, 0.3958, 0.8076, 0.0372, 0.6756,\n",
      "         0.5862, 0.3407, 0.0682, 0.6702, 0.9586, 0.0720, 0.6250, 0.4441, 0.5433,\n",
      "         0.2718, 0.0866],\n",
      "        [0.5937, 0.2942, 0.8188, 0.5548, 0.9166, 0.8544, 0.2476, 0.8193, 0.4493,\n",
      "         0.5483, 0.9565, 0.2460, 0.3784, 0.4024, 0.0301, 0.1619, 0.5343, 0.4323,\n",
      "         0.9850, 0.1822]]) tensor([[0.2914],\n",
      "        [0.8392]])\n",
      "True\n",
      "True\n",
      "tensor([[0.9389, 0.0214, 0.1297, 0.8555, 0.0221, 0.3420, 0.4026, 0.7390, 0.5596,\n",
      "         0.5306, 0.8684, 0.8148, 0.3416, 0.8415, 0.5406, 0.7363, 0.9450, 0.6004,\n",
      "         0.0932, 0.9337],\n",
      "        [0.3664, 0.7897, 0.8044, 0.2066, 0.6655, 0.5046, 0.5194, 0.8938, 0.2501,\n",
      "         0.3697, 0.2161, 0.1771, 0.3987, 0.8839, 0.0355, 0.0212, 0.3009, 0.7936,\n",
      "         0.5514, 0.6659]]) tensor([[0.2191],\n",
      "        [0.7072]])\n",
      "True\n",
      "True\n",
      "tensor([[0.3946, 0.9855, 0.0017, 0.8524, 0.2259, 0.0308, 0.2991, 0.9131, 0.4785,\n",
      "         0.5628, 0.3593, 0.7614, 0.6699, 0.9026, 0.6441, 0.7266, 0.5647, 0.1327,\n",
      "         0.2705, 0.8288],\n",
      "        [0.0596, 0.8587, 0.2855, 0.6537, 0.9983, 0.8375, 0.8346, 0.6033, 0.5150,\n",
      "         0.1606, 0.1240, 0.5038, 0.6793, 0.1029, 0.3021, 0.7635, 0.7040, 0.3942,\n",
      "         0.3545, 0.9522]]) tensor([[0.0933],\n",
      "        [0.3588]])\n",
      "True\n",
      "True\n",
      "tensor([[0.1956, 0.5639, 0.0781, 0.1482, 0.0431, 0.0931, 0.7936, 0.0639, 0.3015,\n",
      "         0.8213, 0.8282, 0.1048, 0.6298, 0.1763, 0.7813, 0.3427, 0.0632, 0.7971,\n",
      "         0.9850, 0.1559],\n",
      "        [0.3016, 0.6083, 0.7920, 0.6070, 0.0404, 0.8760, 0.9768, 0.9303, 0.9041,\n",
      "         0.5949, 0.7350, 0.7133, 0.0652, 0.2895, 0.1709, 0.8414, 0.4944, 0.7515,\n",
      "         0.2567, 0.8275]]) tensor([[0.2955],\n",
      "        [0.5893]])\n",
      "True\n",
      "True\n",
      "tensor([[0.2543, 0.1536, 0.0299, 0.9595, 0.2368, 0.7446, 0.1041, 0.3858, 0.0076,\n",
      "         0.4346, 0.0587, 0.1273, 0.8149, 0.5347, 0.1848, 0.2405, 0.2004, 0.7010,\n",
      "         0.2818, 0.1205],\n",
      "        [0.2930, 0.2166, 0.0623, 0.3944, 0.3852, 0.0507, 0.5272, 0.8599, 0.9365,\n",
      "         0.3836, 0.2118, 0.7333, 0.8401, 0.5902, 0.5543, 0.2397, 0.7524, 0.1983,\n",
      "         0.3967, 0.7394]]) tensor([[0.5641],\n",
      "        [0.6398]])\n",
      "True\n",
      "True\n",
      "tensor([[0.9770, 0.8155, 0.6771, 0.6182, 0.2881, 0.1482, 0.5601, 0.8871, 0.8977,\n",
      "         0.1200, 0.4030, 0.9578, 0.6017, 0.6265, 0.3752, 0.0040, 0.2652, 0.5813,\n",
      "         0.8656, 0.2965],\n",
      "        [0.0727, 0.2581, 0.9929, 0.2381, 0.5170, 0.1770, 0.7716, 0.5847, 0.0920,\n",
      "         0.7820, 0.5920, 0.2845, 0.2315, 0.4706, 0.5023, 0.4397, 0.1107, 0.8736,\n",
      "         0.1163, 0.4629]]) tensor([[0.4899],\n",
      "        [0.4673]])\n",
      "True\n",
      "True\n",
      "tensor([[0.2957, 0.4257, 0.0247, 0.5164, 0.7058, 0.0328, 0.1823, 0.3363, 0.1571,\n",
      "         0.2734, 0.4470, 0.7776, 0.9990, 0.0428, 0.2295, 0.2128, 0.7213, 0.0253,\n",
      "         0.7720, 0.1002],\n",
      "        [0.2417, 0.0507, 0.8139, 0.2474, 0.1100, 0.8669, 0.7980, 0.7365, 0.2021,\n",
      "         0.5489, 0.3749, 0.0894, 0.9115, 0.0942, 0.6640, 0.7294, 0.0916, 0.3482,\n",
      "         0.3203, 0.8301]]) tensor([[0.8260],\n",
      "        [0.2373]])\n",
      "True\n",
      "True\n",
      "tensor([[0.9850, 0.5438, 0.3199, 0.3183, 0.8569, 0.8766, 0.8506, 0.9681, 0.1922,\n",
      "         0.5260, 0.6445, 0.2562, 0.0781, 0.4554, 0.1717, 0.4776, 0.9064, 0.1890,\n",
      "         0.6892, 0.6124],\n",
      "        [0.2760, 0.1822, 0.4167, 0.6289, 0.1138, 0.0600, 0.5751, 0.8453, 0.4658,\n",
      "         0.0338, 0.4502, 0.5647, 0.0319, 0.1963, 0.8258, 0.4123, 0.7949, 0.4315,\n",
      "         0.9099, 0.0340]]) tensor([[0.8455],\n",
      "        [0.2482]])\n",
      "True\n",
      "True\n",
      "tensor([[0.3566, 0.1327, 0.9288, 0.3315, 0.2245, 0.3259, 0.0322, 0.4686, 0.9489,\n",
      "         0.6201, 0.6530, 0.9448, 0.9000, 0.5112, 0.8645, 0.9825, 0.7303, 0.8777,\n",
      "         0.8863, 0.0776],\n",
      "        [0.9904, 0.9849, 0.4163, 0.7534, 0.3053, 0.9149, 0.1702, 0.4775, 0.3072,\n",
      "         0.6184, 0.9976, 0.1333, 0.0903, 0.4734, 0.5886, 0.5255, 0.0390, 0.6350,\n",
      "         0.9469, 0.2547]]) tensor([[0.2594],\n",
      "        [0.0298]])\n",
      "True\n",
      "True\n",
      "tensor([[0.5030, 0.5423, 0.7143, 0.5403, 0.0561, 0.3341, 0.0257, 0.6048, 0.4116,\n",
      "         0.4723, 0.1017, 0.4371, 0.7322, 0.3094, 0.5954, 0.1755, 0.9157, 0.4111,\n",
      "         0.7226, 0.5769],\n",
      "        [0.4087, 0.7159, 0.3385, 0.0458, 0.2244, 0.3673, 0.7238, 0.9975, 0.1268,\n",
      "         0.4210, 0.7154, 0.9103, 0.2141, 0.3281, 0.9940, 0.9135, 0.9999, 0.9466,\n",
      "         0.6020, 0.2269]]) tensor([[0.1689],\n",
      "        [0.6975]])\n",
      "True\n",
      "True\n",
      "tensor([[0.6080, 0.9398, 0.8757, 0.4491, 0.1656, 0.7450, 0.0188, 0.0830, 0.8872,\n",
      "         0.8959, 0.3980, 0.3609, 0.0980, 0.7018, 0.6498, 0.6595, 0.4052, 0.9708,\n",
      "         0.4745, 0.1812],\n",
      "        [0.0487, 0.3819, 0.6977, 0.4852, 0.3435, 0.9190, 0.2523, 0.8639, 0.8881,\n",
      "         0.1431, 0.6265, 0.1942, 0.1267, 0.7534, 0.1436, 0.3231, 0.1736, 0.9823,\n",
      "         0.6424, 0.2166]]) tensor([[0.8009],\n",
      "        [0.5850]])\n",
      "True\n",
      "True\n",
      "tensor([[0.4568, 0.4875, 0.7863, 0.4977, 0.7269, 0.4862, 0.2841, 0.2337, 0.2700,\n",
      "         0.5079, 0.9245, 0.9144, 0.9715, 0.3801, 0.1813, 0.4022, 0.6405, 0.9314,\n",
      "         0.1517, 0.2371],\n",
      "        [0.4956, 0.6695, 0.1056, 0.5902, 0.7325, 0.8116, 0.3073, 0.5648, 0.4735,\n",
      "         0.4692, 0.2469, 0.3467, 0.7470, 0.2298, 0.6214, 0.9536, 0.1188, 0.5619,\n",
      "         0.4297, 0.5357]]) tensor([[0.7447],\n",
      "        [0.2465]])\n",
      "True\n",
      "True\n",
      "tensor([[0.8262, 0.8887, 0.9985, 0.5878, 0.7817, 0.4568, 0.1592, 0.1600, 0.9416,\n",
      "         0.9676, 0.5674, 0.7019, 0.4720, 0.7583, 0.0137, 0.1048, 0.0673, 0.7643,\n",
      "         0.1267, 0.3891],\n",
      "        [0.8511, 0.1253, 0.0288, 0.4168, 0.6994, 0.3588, 0.8210, 0.8626, 0.8487,\n",
      "         0.7776, 0.4252, 0.2552, 0.8532, 0.2069, 0.9744, 0.3441, 0.0923, 0.2024,\n",
      "         0.4177, 0.2861]]) tensor([[0.8365],\n",
      "        [0.6146]])\n",
      "True\n",
      "True\n",
      "tensor([[0.0864, 0.2822, 0.2220, 0.5650, 0.6880, 0.8648, 0.7310, 0.2496, 0.4650,\n",
      "         0.6955, 0.3953, 0.1140, 0.8057, 0.8566, 0.8752, 0.9336, 0.7137, 0.9925,\n",
      "         0.6090, 0.5775],\n",
      "        [0.8716, 0.5651, 0.3910, 0.2231, 0.9755, 0.7417, 0.0022, 0.0575, 0.6554,\n",
      "         0.1823, 0.6336, 0.3267, 0.0258, 0.8100, 0.8847, 0.8057, 0.4345, 0.7254,\n",
      "         0.6225, 0.0352]]) tensor([[0.8588],\n",
      "        [0.7277]])\n",
      "True\n",
      "True\n",
      "tensor([[0.3597, 0.3150, 0.5784, 0.6897, 0.5062, 0.5956, 0.5866, 0.3663, 0.1207,\n",
      "         0.9606, 0.3954, 0.5065, 0.2564, 0.0102, 0.0381, 0.6186, 0.1815, 0.6819,\n",
      "         0.0874, 0.0640],\n",
      "        [0.9320, 0.4480, 0.5378, 0.3103, 0.8914, 0.2079, 0.8703, 0.3381, 0.7408,\n",
      "         0.7391, 0.2205, 0.6121, 0.3835, 0.2447, 0.6343, 0.3327, 0.4729, 0.7570,\n",
      "         0.3762, 0.0609]]) tensor([[0.7963],\n",
      "        [0.8518]])\n",
      "True\n",
      "True\n",
      "tensor([[0.9598, 0.1593, 0.3407, 0.0678, 0.4591, 0.1995, 0.5537, 0.9857, 0.2546,\n",
      "         0.6406, 0.7202, 0.3852, 0.4403, 0.7570, 0.5891, 0.5079, 0.2782, 0.5257,\n",
      "         0.6710, 0.0216],\n",
      "        [0.2106, 0.9434, 0.5028, 0.2628, 0.9725, 0.3228, 0.3427, 0.6846, 0.0651,\n",
      "         0.4865, 0.0689, 0.5203, 0.2988, 0.0062, 0.5208, 0.7410, 0.9824, 0.4455,\n",
      "         0.9140, 0.0585]]) tensor([[0.5588],\n",
      "        [0.8822]])\n"
     ]
    }
   ],
   "source": [
    "class SimpleCustomBatch:\n",
    "    def __init__(self, data):\n",
    "        transposed_data = list(zip(*data))\n",
    "        self.inp = torch.stack(transposed_data[0], 0)\n",
    "        self.tgt = torch.stack(transposed_data[1], 0)\n",
    "\n",
    "    # custom memory pinning method on custom type\n",
    "    def pin_memory(self):\n",
    "        self.inp = self.inp.pin_memory()\n",
    "        self.tgt = self.tgt.pin_memory()\n",
    "        return self\n",
    "\n",
    "def collate_wrapper(batch):\n",
    "    return SimpleCustomBatch(batch)\n",
    "\n",
    "inps = torch.arange(10 * 5, dtype=torch.float32).view(10, 5)\n",
    "tgts = torch.arange(10 * 5, dtype=torch.float32).view(10, 5)\n",
    "dataset = MyTrainDataset(32).data\n",
    "\n",
    "loader = DataLoader(dataset, batch_size=2, collate_fn=collate_wrapper,\n",
    "                    pin_memory=True)\n",
    "\n",
    "\n",
    "for batch_ndx, sample in enumerate(loader):\n",
    "    print(sample.inp.is_pinned())\n",
    "    print(sample.tgt.is_pinned())\n",
    "    print(sample.inp, sample.tgt)"
   ]
  },
  {
   "cell_type": "code",
   "execution_count": null,
   "id": "7e2dd5dd",
   "metadata": {
    "papermill": {
     "duration": 0.004342,
     "end_time": "2024-06-30T18:30:23.937514",
     "exception": false,
     "start_time": "2024-06-30T18:30:23.933172",
     "status": "completed"
    },
    "tags": []
   },
   "outputs": [],
   "source": []
  }
 ],
 "metadata": {
  "colab": {
   "authorship_tag": "ABX9TyPTA1s9u6xXuWSfVxJb+5JM",
   "include_colab_link": true,
   "provenance": []
  },
  "kaggle": {
   "accelerator": "nvidiaTeslaT4",
   "dataSources": [],
   "dockerImageVersionId": 30733,
   "isGpuEnabled": true,
   "isInternetEnabled": true,
   "language": "python",
   "sourceType": "notebook"
  },
  "kernelspec": {
   "display_name": "Python 3",
   "language": "python",
   "name": "python3"
  },
  "language_info": {
   "codemirror_mode": {
    "name": "ipython",
    "version": 3
   },
   "file_extension": ".py",
   "mimetype": "text/x-python",
   "name": "python",
   "nbconvert_exporter": "python",
   "pygments_lexer": "ipython3",
   "version": "3.10.13"
  },
  "papermill": {
   "default_parameters": {},
   "duration": 23.501728,
   "end_time": "2024-06-30T18:30:24.963662",
   "environment_variables": {},
   "exception": null,
   "input_path": "__notebook__.ipynb",
   "output_path": "__notebook__.ipynb",
   "parameters": {},
   "start_time": "2024-06-30T18:30:01.461934",
   "version": "2.5.0"
  }
 },
 "nbformat": 4,
 "nbformat_minor": 5
}
