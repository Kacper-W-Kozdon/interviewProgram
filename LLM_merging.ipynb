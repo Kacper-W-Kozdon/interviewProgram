{
  "nbformat": 4,
  "nbformat_minor": 0,
  "metadata": {
    "colab": {
      "provenance": [],
      "authorship_tag": "ABX9TyPTA1s9u6xXuWSfVxJb+5JM",
      "include_colab_link": true
    },
    "kernelspec": {
      "name": "python3",
      "display_name": "Python 3"
    },
    "language_info": {
      "name": "python"
    }
  },
  "cells": [
    {
      "cell_type": "markdown",
      "metadata": {
        "id": "view-in-github",
        "colab_type": "text"
      },
      "source": [
        "<a href=\"https://colab.research.google.com/github/Kacper-W-Kozdon/interviewProgram/blob/main/LLM_merging.ipynb\" target=\"_parent\"><img src=\"https://colab.research.google.com/assets/colab-badge.svg\" alt=\"Open In Colab\"/></a>"
      ]
    },
    {
      "cell_type": "code",
      "source": [
        "!pip install utils"
      ],
      "metadata": {
        "colab": {
          "base_uri": "https://localhost:8080/"
        },
        "id": "BcYxpDTx7arA",
        "outputId": "d08d64ad-06a8-4983-a3d5-c81e4122bff9"
      },
      "execution_count": 1,
      "outputs": [
        {
          "output_type": "stream",
          "name": "stdout",
          "text": [
            "Collecting utils\n",
            "  Downloading utils-1.0.2.tar.gz (13 kB)\n",
            "  Preparing metadata (setup.py) ... \u001b[?25l\u001b[?25hdone\n",
            "Building wheels for collected packages: utils\n",
            "  Building wheel for utils (setup.py) ... \u001b[?25l\u001b[?25hdone\n",
            "  Created wheel for utils: filename=utils-1.0.2-py2.py3-none-any.whl size=13906 sha256=a3e14231177e1170c7d2e5c4dffc2d73abf7778124be8da615ed95ecb37372f4\n",
            "  Stored in directory: /root/.cache/pip/wheels/b8/39/f5/9d0ca31dba85773ececf0a7f5469f18810e1c8a8ed9da28ca7\n",
            "Successfully built utils\n",
            "Installing collected packages: utils\n",
            "Successfully installed utils-1.0.2\n"
          ]
        }
      ]
    },
    {
      "cell_type": "code",
      "execution_count": 2,
      "metadata": {
        "id": "vJPnutLt7MeL"
      },
      "outputs": [],
      "source": [
        "import torch\n",
        "import torch.nn.functional as F\n",
        "from torch.utils.data import Dataset, DataLoader\n",
        "import torch.multiprocessing as mp\n",
        "from torch.utils.data.distributed import DistributedSampler\n",
        "from torch.nn.parallel import DistributedDataParallel as DDP\n",
        "from torch.distributed import init_process_group, destroy_process_group\n",
        "import os"
      ]
    },
    {
      "cell_type": "code",
      "source": [
        "class MyTrainDataset(Dataset):\n",
        "    def __init__(self, size):\n",
        "        self.size = size\n",
        "        self.data = [(torch.rand(20), torch.rand(1)) for _ in range(size)]\n",
        "\n",
        "    def __len__(self):\n",
        "        return self.size\n",
        "\n",
        "    def __getitem__(self, index):\n",
        "        return self.data[index]"
      ],
      "metadata": {
        "id": "-xowNb_H9Dtk"
      },
      "execution_count": 3,
      "outputs": []
    },
    {
      "cell_type": "code",
      "source": [
        "list(range(torch.cuda.device_count()))"
      ],
      "metadata": {
        "colab": {
          "base_uri": "https://localhost:8080/"
        },
        "id": "K56br4MD9SBk",
        "outputId": "e0b4e810-6ddf-4347-b2c4-b0ca9b3fbfae"
      },
      "execution_count": 4,
      "outputs": [
        {
          "output_type": "execute_result",
          "data": {
            "text/plain": [
              "[]"
            ]
          },
          "metadata": {},
          "execution_count": 4
        }
      ]
    },
    {
      "cell_type": "code",
      "source": [
        "def ddp_setup(rank: int, world_size: int):\n",
        "  \"\"\"\n",
        "  Args:\n",
        "    rank: Unique identifier of each process\n",
        "    world_size: Total number of processes\n",
        "  \"\"\"\n",
        "  os.environ[\"MASTER_ADDR\"] = \"localhost\"\n",
        "  os.environ[\"MASTER_PORT\"] = \"12355\"\n",
        "  torch.cuda.set_device(rank)\n",
        "  init_process_group(backend=\"nccl\", rank=rank, world_size=world_size)"
      ],
      "metadata": {
        "id": "MsIgJGXM7QFZ"
      },
      "execution_count": null,
      "outputs": []
    },
    {
      "cell_type": "code",
      "source": [
        "class Trainer:\n",
        "    def __init__(\n",
        "        self,\n",
        "        model: torch.nn.Module,\n",
        "        train_data: DataLoader,\n",
        "        optimizer: torch.optim.Optimizer,\n",
        "        gpu_id: int,\n",
        "        save_every: int,\n",
        "    ) -> None:\n",
        "        self.gpu_id = gpu_id\n",
        "        self.model = model.to(gpu_id)\n",
        "        self.train_data = train_data\n",
        "        self.optimizer = optimizer\n",
        "        self.save_every = save_every\n",
        "        self.model = DDP(model, device_ids=[gpu_id])\n",
        "\n",
        "    def _run_batch(self, source, targets):\n",
        "        self.optimizer.zero_grad()\n",
        "        output = self.model(source)\n",
        "        loss = F.cross_entropy(output, targets)\n",
        "        loss.backward()\n",
        "        self.optimizer.step()\n",
        "\n",
        "    def _run_epoch(self, epoch):\n",
        "        b_sz = len(next(iter(self.train_data))[0])\n",
        "        print(f\"[GPU{self.gpu_id}] Epoch {epoch} | Batchsize: {b_sz} | Steps: {len(self.train_data)}\")\n",
        "        self.train_data.sampler.set_epoch(epoch)\n",
        "        for source, targets in self.train_data:\n",
        "            source = source.to(self.gpu_id)\n",
        "            targets = targets.to(self.gpu_id)\n",
        "            self._run_batch(source, targets)\n",
        "\n",
        "    def _save_checkpoint(self, epoch):\n",
        "        ckp = self.model.module.state_dict()\n",
        "        PATH = \"checkpoint.pt\"\n",
        "        torch.save(ckp, PATH)\n",
        "        print(f\"Epoch {epoch} | Training checkpoint saved at {PATH}\")\n",
        "\n",
        "    def train(self, max_epochs: int):\n",
        "        for epoch in range(max_epochs):\n",
        "            self._run_epoch(epoch)\n",
        "            if self.gpu_id == 0 and epoch % self.save_every == 0:\n",
        "                self._save_checkpoint(epoch)\n",
        "\n",
        "\n",
        "def load_train_objs():\n",
        "    train_set = MyTrainDataset(2048)  # load your dataset\n",
        "    model = torch.nn.Linear(20, 1)  # load your model\n",
        "    optimizer = torch.optim.SGD(model.parameters(), lr=1e-3)\n",
        "    return train_set, model, optimizer\n",
        "\n",
        "\n",
        "def prepare_dataloader(dataset: Dataset, batch_size: int):\n",
        "    return DataLoader(\n",
        "        dataset,\n",
        "        batch_size=batch_size,\n",
        "        pin_memory=True,\n",
        "        shuffle=False,\n",
        "        sampler=DistributedSampler(dataset)\n",
        "    )\n",
        "\n",
        "\n",
        "def main(rank: int, world_size: int, save_every: int, total_epochs: int, batch_size: int):\n",
        "    ddp_setup(rank, world_size)\n",
        "    dataset, model, optimizer = load_train_objs()\n",
        "    train_data = prepare_dataloader(dataset, batch_size)\n",
        "    trainer = Trainer(model, train_data, optimizer, rank, save_every)\n",
        "    trainer.train(total_epochs)\n",
        "    destroy_process_group()\n",
        "\n",
        "\n",
        "# if __name__ == \"__main__\":\n",
        "#     import argparse\n",
        "#     parser = argparse.ArgumentParser(description='simple distributed training job')\n",
        "#     parser.add_argument('total_epochs', type=int, help='Total epochs to train the model')\n",
        "#     parser.add_argument('save_every', type=int, help='How often to save a snapshot')\n",
        "#     parser.add_argument('--batch_size', default=32, type=int, help='Input batch size on each device (default: 32)')\n",
        "#     args = parser.parse_args()\n",
        "\n",
        "#     world_size = torch.cuda.device_count()\n",
        "#     mp.spawn(main, args=(world_size, args.save_every, args.total_epochs, args.batch_size), nprocs=world_size)"
      ],
      "metadata": {
        "id": "OMrCYTgp9_tm"
      },
      "execution_count": null,
      "outputs": []
    },
    {
      "cell_type": "code",
      "source": [
        "class SimpleCustomBatch:\n",
        "    def __init__(self, data):\n",
        "        transposed_data = list(zip(*data))\n",
        "        self.inp = torch.stack(transposed_data[0], 0)\n",
        "        self.tgt = torch.stack(transposed_data[1], 0)\n",
        "\n",
        "    # custom memory pinning method on custom type\n",
        "    def pin_memory(self):\n",
        "        self.inp = self.inp.pin_memory()\n",
        "        self.tgt = self.tgt.pin_memory()\n",
        "        return self\n",
        "\n",
        "def collate_wrapper(batch):\n",
        "    return SimpleCustomBatch(batch)\n",
        "\n",
        "inps = torch.arange(10 * 5, dtype=torch.float32).view(10, 5)\n",
        "tgts = torch.arange(10 * 5, dtype=torch.float32).view(10, 5)\n",
        "dataset = TensorDataset(inps, tgts)\n",
        "\n",
        "loader = DataLoader(dataset, batch_size=2, collate_fn=collate_wrapper,\n",
        "                    pin_memory=True)\n",
        "\n",
        "\n",
        "for batch_ndx, sample in enumerate(loader):\n",
        "    print(sample.inp.is_pinned())\n",
        "    print(sample.tgt.is_pinned())"
      ],
      "metadata": {
        "id": "EMISYO1z-Ww2"
      },
      "execution_count": null,
      "outputs": []
    }
  ]
}